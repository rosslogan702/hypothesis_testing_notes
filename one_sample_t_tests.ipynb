{
  "nbformat": 4,
  "nbformat_minor": 0,
  "metadata": {
    "colab": {
      "name": "one_sample_t_tests.ipynb",
      "version": "0.3.2",
      "provenance": [],
      "collapsed_sections": [],
      "include_colab_link": true
    },
    "kernelspec": {
      "name": "python3",
      "display_name": "Python 3"
    }
  },
  "cells": [
    {
      "cell_type": "markdown",
      "metadata": {
        "id": "view-in-github",
        "colab_type": "text"
      },
      "source": [
        "<a href=\"https://colab.research.google.com/github/rosslogan702/hypothesis_testing_notes/blob/master/one_sample_t_tests.ipynb\" target=\"_parent\"><img src=\"https://colab.research.google.com/assets/colab-badge.svg\" alt=\"Open In Colab\"/></a>"
      ]
    },
    {
      "cell_type": "markdown",
      "metadata": {
        "id": "6IkrTRF2a6Gm",
        "colab_type": "text"
      },
      "source": [
        "# Hypothesis Testing - One Sample T-Test"
      ]
    },
    {
      "cell_type": "markdown",
      "metadata": {
        "id": "OrYGucRUeSF4",
        "colab_type": "text"
      },
      "source": [
        "# Contents\n",
        "\n",
        "The focus of this notebook is One Sample T-Tests. \n",
        "\n",
        "The notebook will cover the following:\n",
        "\n",
        "\n",
        "1.   Description\n",
        "2.   General Hypothesis Testing Approach\n",
        "2.   Examples using SciPy library\n",
        "3.   Results Analysis\n",
        "\n",
        "\n",
        "\n"
      ]
    },
    {
      "cell_type": "markdown",
      "metadata": {
        "id": "RxauaQ1wfYh8",
        "colab_type": "text"
      },
      "source": [
        "# Description"
      ]
    },
    {
      "cell_type": "markdown",
      "metadata": {
        "id": "iZ0WscWPieeS",
        "colab_type": "text"
      },
      "source": [
        "A One Sample T-Test (or univariate T-test) compares a sample mean to a hypothetical population mean.\n",
        "\n",
        "The One Sample T-Test is concerned with the question:\n",
        "\n",
        "\"*What is the probability that the sample of interest came from a distribution with the desired mean?*\""
      ]
    },
    {
      "cell_type": "markdown",
      "metadata": {
        "id": "HCnk7ngekEg5",
        "colab_type": "text"
      },
      "source": [
        "# General Hypothesis Testing Approach"
      ]
    },
    {
      "cell_type": "markdown",
      "metadata": {
        "id": "sVG9mfzQkJXI",
        "colab_type": "text"
      },
      "source": [
        "When conducting a hypothesis test on data there are a number of steps that are required to be performed.\n",
        "\n",
        "## Step 1 - Define a Null Hypothesis\n",
        "\n",
        "The null hypothesis is a prediction that the outcome of the test will not be statistically significant.\n",
        "\n",
        "For example, if we want to test if a sample belongs to a population with a specific mean then our null hypothesis will be that the sample does.\n",
        "\n",
        "It is then the responsibility of the One Sample T-Test to determine if this is probable or not."
      ]
    },
    {
      "cell_type": "markdown",
      "metadata": {
        "id": "BeEg62cLl_x3",
        "colab_type": "text"
      },
      "source": [
        "## Step 2 - Prepare Data & Run Test\n",
        "\n",
        "The second step is now to prepare the data and perform the relevant hypothesis test.\n",
        "\n",
        "In our case for this notebook that means performing the One Sample T-Test.\n",
        "\n",
        "This will mean collecting our population and the sample that we want to test.\n",
        "\n",
        "Remember the question that a One Sample T-Test is looking to answer is:\n",
        "\n",
        "\"*What is the probability that the sample of interest came from a distribution with the desired mean?*\"\n",
        "\n",
        "The next step is now to actually run the hypothesis test. \n",
        "\n",
        "In this notebook we are going to do this by using the SciPy library."
      ]
    },
    {
      "cell_type": "markdown",
      "metadata": {
        "id": "uG63hN7lnDP3",
        "colab_type": "text"
      },
      "source": [
        "## Step 3 - Collect & Analyse Results\n",
        "\n",
        "Once the hypothesis test has been run, we now need to collect and analyse the results.\n",
        "\n",
        "The parameter returned from the hypothesis test that we are interested in is the p-value.\n",
        "\n",
        "This is what tells us whether or not we can reject the null hypothesis. \n",
        "\n",
        "In this notebook and the following ones, we are going to assume that if the p-value is less than 0.05 then we can reject the null hypothesis & favour the alternative hypothesis.\n",
        "\n",
        "Another way of writing this, is that we would say there is a statistically significant difference between the sample and distribution."
      ]
    },
    {
      "cell_type": "markdown",
      "metadata": {
        "id": "ejwZEYu8o-Hl",
        "colab_type": "text"
      },
      "source": [
        "# Examples"
      ]
    },
    {
      "cell_type": "code",
      "metadata": {
        "id": "tkzxr1a2pGkX",
        "colab_type": "code",
        "colab": {}
      },
      "source": [
        ""
      ],
      "execution_count": 0,
      "outputs": []
    }
  ]
}