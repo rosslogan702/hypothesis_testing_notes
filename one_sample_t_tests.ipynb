{
  "nbformat": 4,
  "nbformat_minor": 0,
  "metadata": {
    "colab": {
      "name": "one_sample_t_tests.ipynb",
      "version": "0.3.2",
      "provenance": [],
      "collapsed_sections": [],
      "include_colab_link": true
    },
    "kernelspec": {
      "name": "python3",
      "display_name": "Python 3"
    }
  },
  "cells": [
    {
      "cell_type": "markdown",
      "metadata": {
        "id": "view-in-github",
        "colab_type": "text"
      },
      "source": [
        "<a href=\"https://colab.research.google.com/github/rosslogan702/hypothesis_testing_notes/blob/master/one_sample_t_tests.ipynb\" target=\"_parent\"><img src=\"https://colab.research.google.com/assets/colab-badge.svg\" alt=\"Open In Colab\"/></a>"
      ]
    },
    {
      "cell_type": "markdown",
      "metadata": {
        "id": "6IkrTRF2a6Gm",
        "colab_type": "text"
      },
      "source": [
        "# Hypothesis Testing - One Sample T-Test"
      ]
    },
    {
      "cell_type": "markdown",
      "metadata": {
        "id": "OrYGucRUeSF4",
        "colab_type": "text"
      },
      "source": [
        "# Contents\n",
        "\n",
        "The focus of this notebook is One Sample T-Tests. \n",
        "\n",
        "The notebook will cover the following:\n",
        "\n",
        "\n",
        "1.   Description\n",
        "2.   General Hypothesis Testing Approach\n",
        "3.   Manual Calculation\n",
        "4.   Practical Examples using SciPy library\n",
        "5.   Assumptions\n",
        "\n",
        "\n"
      ]
    },
    {
      "cell_type": "markdown",
      "metadata": {
        "id": "RxauaQ1wfYh8",
        "colab_type": "text"
      },
      "source": [
        "# 1. Description"
      ]
    },
    {
      "cell_type": "markdown",
      "metadata": {
        "id": "iZ0WscWPieeS",
        "colab_type": "text"
      },
      "source": [
        "A One Sample T-Test (or univariate T-test) compares a sample mean to a hypothetical population mean.\n",
        "\n",
        "The One Sample T-Test is concerned with the question:\n",
        "\n",
        "\"*What is the probability that the sample of interest came from a distribution with the desired mean?*\""
      ]
    },
    {
      "cell_type": "markdown",
      "metadata": {
        "id": "HCnk7ngekEg5",
        "colab_type": "text"
      },
      "source": [
        "# 2. General Hypothesis Testing Approach\n",
        "\n",
        "When conducting a hypothesis test on data there are a number of steps that are required to be performed. These steps are defined below."
      ]
    },
    {
      "cell_type": "markdown",
      "metadata": {
        "id": "sVG9mfzQkJXI",
        "colab_type": "text"
      },
      "source": [
        "## Step 1 - Define a Null Hypothesis\n",
        "\n",
        "The null hypothesis is a prediction that the outcome of the test will not be statistically significant.\n",
        "\n",
        "For example, if we want to test if a sample belongs to a population with a specific mean then our null hypothesis will be that the sample does.\n",
        "\n",
        "It is then the responsibility of the One Sample T-Test to determine if this is probable or not.\n",
        "\n",
        "For this notebook we are going to assume a significance level of 0.05. "
      ]
    },
    {
      "cell_type": "markdown",
      "metadata": {
        "id": "BeEg62cLl_x3",
        "colab_type": "text"
      },
      "source": [
        "## Step 2 - Prepare Data & Run Test\n",
        "\n",
        "The second step is now to prepare the data and perform the relevant hypothesis test. In our case for this notebook that means performing the One Sample T-Test. This will mean collecting our population and the sample that we want to test.\n",
        "\n",
        "Remember the question that a One Sample T-Test is looking to answer is:\n",
        "\n",
        "\"***What is the probability that the sample of interest came from a distribution with the desired mean?***\"\n",
        "\n",
        "The next step is now to actually run the hypothesis test. In this notebook we are going to do this by using the SciPy library."
      ]
    },
    {
      "cell_type": "markdown",
      "metadata": {
        "id": "uG63hN7lnDP3",
        "colab_type": "text"
      },
      "source": [
        "## Step 3 - Collect & Analyse Results\n",
        "\n",
        "Once the hypothesis test has been run, we now need to collect and analyse the results.\n",
        "\n",
        "The parameter returned from the hypothesis test that we are interested in is the p-value.\n",
        "\n",
        "This is what tells us whether or not we can reject the null hypothesis. \n",
        "\n",
        "In this notebook and the following ones, we are going to assume that if the p-value is less than 0.05 then we can reject the null hypothesis & favour the alternative hypothesis.\n",
        "\n",
        "Another way of writing this, is that we would say there is a statistically significant difference between the sample and distribution."
      ]
    },
    {
      "cell_type": "markdown",
      "metadata": {
        "id": "0Fb41CpGwEdf",
        "colab_type": "text"
      },
      "source": [
        "# 3. Manual Calculation\n",
        "\n",
        "This section is going to show how to perform the One Sample T-Test manually. This is based on an example. [2]\n",
        "\n",
        "Question: A company wants to improve its sales. Historical sales data indicates that the average value of each sale was $100 per transaction. \n",
        "\n",
        "After training the sales team & collecting some recent sales data (25 data sample from the sales team), the average after training indicates an average sale value of 130 dollars with a standard deviation of 15 dollars.\n",
        "\n",
        "Did the training work?\n",
        "\n",
        "The hypothesis should be tested at a 5% alpha level."
      ]
    },
    {
      "cell_type": "markdown",
      "metadata": {
        "id": "6FA7Gl2XV6LV",
        "colab_type": "text"
      },
      "source": [
        "## Step 1 - Define Null Hypothesis\n",
        "\n",
        "The null hypothesis is that there is no difference in sales. \n",
        "\n",
        "Therefore here the null hypothesis is that the population mean is 100 dollars."
      ]
    },
    {
      "cell_type": "markdown",
      "metadata": {
        "id": "o_N6Tr3tXMUF",
        "colab_type": "text"
      },
      "source": [
        "## Step 2 - Define Alternative Hypothesis\n",
        "\n",
        "The alternative hypothesis is that there is a difference (in this case the mean value of sales increased).\n",
        "\n",
        "Therefore the alternative hypothesis is that the population mean is now greater than 100 dollars.\n",
        "\n"
      ]
    },
    {
      "cell_type": "markdown",
      "metadata": {
        "id": "Cjh6RNHtXo6j",
        "colab_type": "text"
      },
      "source": [
        "## Step 3 - Identify data need to calculate the test statistic\n",
        "\n",
        "The sample question should contain this information or give you data to be able to calculate these. \n",
        "\n",
        "\n",
        "\n",
        "*   The sample mean (x bar) - 130 dollars\n",
        "*   The population mean (mu) - 100 dollars\n",
        "*   The sample standard deviation (s) - 15 dollars\n",
        "*   The number of observations (n) - 25\n",
        "\n",
        "\n"
      ]
    },
    {
      "cell_type": "markdown",
      "metadata": {
        "id": "UodwBfd-YX54",
        "colab_type": "text"
      },
      "source": [
        "## Step 4 - Calculate the t-value using the t-score formula\n",
        "\n",
        "t = (x bar - mu)/(s/sqrt(n))  \n",
        "t = (130 - 100)/((15/sqrt(25)))  \n",
        "t = 30/3 = 10  \n",
        "\n",
        "The calculated t-value is 10\n"
      ]
    },
    {
      "cell_type": "markdown",
      "metadata": {
        "id": "aBTAlJbnY160",
        "colab_type": "text"
      },
      "source": [
        "## Step 5 - Find the t-table value\n",
        "\n",
        "To find the t-table value you need:\n",
        "\n",
        "\n",
        "\n",
        "*   The alpha level: given as 5% in the question\n",
        "*   The degrees of freedom - which is the number of items in the sample (n) minus 1(in this case 24)\n",
        "\n",
        "Looking up 24 degrees of freedom in the left column and the corresponding 0.05 in the top row gives a value of 1.711. \n",
        "\n",
        "This value means that we would expect most values to fall under 1.711. If our calculated t-value falls within this range, the null hypothesis is likely true.\n",
        "\n",
        "\n",
        "\n"
      ]
    },
    {
      "cell_type": "markdown",
      "metadata": {
        "id": "WwUVqJA1ZyTL",
        "colab_type": "text"
      },
      "source": [
        "## Step 6 - Compare the calculated t-value to the critical value from t-table\n",
        "\n",
        "In this case the value from step 4 does not fall into the range calculated in step 5, so we reject the null hypothesis and favour the alternative hypothesis. \n",
        "\n",
        "The value 10 falls into the rejection region. \n",
        "\n",
        "The meaning of this is that the mean sale is highly likely to be greater and that the training was a success."
      ]
    },
    {
      "cell_type": "markdown",
      "metadata": {
        "id": "ejwZEYu8o-Hl",
        "colab_type": "text"
      },
      "source": [
        "# 4. Practical Examples using SciPy library"
      ]
    },
    {
      "cell_type": "markdown",
      "metadata": {
        "id": "H2FJbzS_6ECf",
        "colab_type": "text"
      },
      "source": [
        "Now that we have covered what a One Sample T-Test is we are going to look at some practical examples of where we can use this type of test."
      ]
    },
    {
      "cell_type": "markdown",
      "metadata": {
        "id": "sX4gcmu76VY7",
        "colab_type": "text"
      },
      "source": [
        "## Example - 1 - Mobile Phone Handset Battery Life\n",
        "\n",
        "A mobile phone manufacturer claims that their new Model X handset averages 31 hours of battery life before it is required to be charged. 8 Model X handsets are chosen at random and tested for their hours of battery life until they run out. All handsets are tested under the same conditions.\n",
        "\n",
        "We get the following results from the tests for 8 models:\n",
        "\n",
        "  Hours of Battery Life: 30\t28\t32\t26\t33\t25\t28\t30\n",
        "\n",
        "Does the hours of battery life for these handsets deviate significantly from 31 hours?"
      ]
    },
    {
      "cell_type": "markdown",
      "metadata": {
        "id": "Rl_TkWXJDcel",
        "colab_type": "text"
      },
      "source": [
        "## Step 1 - Define Null Hypothesis\n",
        "\n",
        "The null hypothesis for this example is that the sample of 8 battery life hours belongs to a population with a target mean of 31 hours."
      ]
    },
    {
      "cell_type": "markdown",
      "metadata": {
        "id": "Jpjy1yGm8OTO",
        "colab_type": "text"
      },
      "source": [
        "## Step 2 - Prepare Data & Run Test"
      ]
    },
    {
      "cell_type": "code",
      "metadata": {
        "id": "CpiHX3sY8SFc",
        "colab_type": "code",
        "colab": {}
      },
      "source": [
        "from scipy.stats import ttest_1samp\n",
        "import numpy as np"
      ],
      "execution_count": 0,
      "outputs": []
    },
    {
      "cell_type": "code",
      "metadata": {
        "id": "VgsdbR4K9OTt",
        "colab_type": "code",
        "colab": {}
      },
      "source": [
        "# Place sample data into numpy array\n",
        "life_hours = np.array([30, 28, 32, 26, 33, 25, 28, 30])\n",
        "# Calculate mean\n",
        "life_hours_mean = np.mean(life_hours)"
      ],
      "execution_count": 0,
      "outputs": []
    },
    {
      "cell_type": "code",
      "metadata": {
        "id": "8AFcackt9jvi",
        "colab_type": "code",
        "outputId": "6d57fc49-458f-4fd4-d1d7-c4b212ca3121",
        "colab": {
          "base_uri": "https://localhost:8080/",
          "height": 34
        }
      },
      "source": [
        "print(\"Mean Life Hours : {:.2f}\".format(life_hours_mean))"
      ],
      "execution_count": 0,
      "outputs": [
        {
          "output_type": "stream",
          "text": [
            "Mean Life Hours : 29.00\n"
          ],
          "name": "stdout"
        }
      ]
    },
    {
      "cell_type": "code",
      "metadata": {
        "id": "MAMyR8DWA7Or",
        "colab_type": "code",
        "colab": {}
      },
      "source": [
        "# Run test using scipy lib\n",
        "ttest, pval = ttest_1samp(life_hours, 31)"
      ],
      "execution_count": 0,
      "outputs": []
    },
    {
      "cell_type": "markdown",
      "metadata": {
        "id": "CgHiUFcQBIBu",
        "colab_type": "text"
      },
      "source": [
        "## Step 3 - Collect & Analyse Results"
      ]
    },
    {
      "cell_type": "code",
      "metadata": {
        "id": "fzg2sNs-BKdP",
        "colab_type": "code",
        "outputId": "6c28c247-33f4-4004-fccf-7350b3fbdf7d",
        "colab": {
          "base_uri": "https://localhost:8080/",
          "height": 51
        }
      },
      "source": [
        "print(\"pval: {:.2f}\".format(pval))\n",
        "if pval < 0.05:\n",
        "  print(\"Result is statistically significant! The battery life for these handsets deviates significantly from 31 hours\")\n",
        "else:\n",
        "  print(\"Result is not statistically signifcant! The battery life for these handsets does not deviate significantly from 31 hours\")"
      ],
      "execution_count": 0,
      "outputs": [
        {
          "output_type": "stream",
          "text": [
            "pval: 0.08\n",
            "Result is not statistically signifcant! The battery life for these handsets does not deviate significantly from 31 hours\n"
          ],
          "name": "stdout"
        }
      ]
    },
    {
      "cell_type": "markdown",
      "metadata": {
        "id": "JIn8zDrfK6eV",
        "colab_type": "text"
      },
      "source": [
        "## Example - 2 - Spearmint Gum Thickness\n",
        "\n",
        "Example used from: https://onlinecourses.science.psu.edu/statprogram/reviews/statistical-concepts/hypothesis-testing/examples\n",
        "\n",
        "A manufacturer claims that the thickness of the spearmint gum it produces is 7.5 one-hundredths of an inch. A quality control specialist regularly checks this claim. On one production run, he took a random sample of n = 10 pieces of gum and measured their thickness. He obtained:\n",
        "\n",
        "7.65, 7.60, 7.65, 7.70, 7.55, 7.55, 7.40, 7.40, 7.50, 7.50\n",
        "\n",
        "Determine if the sample of measured thicknesses differs significantly from the claim that the thickness of the spearmint gum it produces is 7.5 one-hundredths of an inch."
      ]
    },
    {
      "cell_type": "markdown",
      "metadata": {
        "id": "s3ZVijZ2L_K_",
        "colab_type": "text"
      },
      "source": [
        "## Step 1 - Define Null Hypothesis\n",
        "\n"
      ]
    },
    {
      "cell_type": "markdown",
      "metadata": {
        "id": "SvxJHKT7MNot",
        "colab_type": "text"
      },
      "source": [
        "The null hypothesis for this example is that the sample of 10 pieces of gum belongs to a population with a target mean of 7.5 one-hundredths of an inch."
      ]
    },
    {
      "cell_type": "markdown",
      "metadata": {
        "id": "EUv8ia0AMd9z",
        "colab_type": "text"
      },
      "source": [
        "## Step 2 - Prepare Data & Run Test"
      ]
    },
    {
      "cell_type": "code",
      "metadata": {
        "id": "INGRTJgCMghw",
        "colab_type": "code",
        "colab": {}
      },
      "source": [
        "# We don't really need to import here since we already have above, but just for completeness sake\n",
        "from scipy.stats import ttest_1samp\n",
        "import numpy as np"
      ],
      "execution_count": 0,
      "outputs": []
    },
    {
      "cell_type": "code",
      "metadata": {
        "id": "FoOFtMmqMnhl",
        "colab_type": "code",
        "colab": {}
      },
      "source": [
        "# Place sample data into numpy array\n",
        "gum_measurements = np.array([7.65, 7.60, 7.65, 7.70, 7.55, 7.55, 7.40, 7.40, 7.50, 7.50])\n",
        "# Calculate mean\n",
        "gum_mean = np.mean(gum_measurements)"
      ],
      "execution_count": 0,
      "outputs": []
    },
    {
      "cell_type": "code",
      "metadata": {
        "id": "n_G67HgVM1L0",
        "colab_type": "code",
        "outputId": "038682c7-b624-44e8-a244-bfe72e1a9698",
        "colab": {
          "base_uri": "https://localhost:8080/",
          "height": 34
        }
      },
      "source": [
        "print(\"Mean Gum Measurements : {:.2f}\".format(gum_mean))"
      ],
      "execution_count": 0,
      "outputs": [
        {
          "output_type": "stream",
          "text": [
            "Mean Gum Measurements : 7.55\n"
          ],
          "name": "stdout"
        }
      ]
    },
    {
      "cell_type": "code",
      "metadata": {
        "id": "aJRKEGcoM6_e",
        "colab_type": "code",
        "colab": {}
      },
      "source": [
        "# Run test using scipy lib\n",
        "ttest, pval = ttest_1samp(gum_measurements, 7.5)"
      ],
      "execution_count": 0,
      "outputs": []
    },
    {
      "cell_type": "markdown",
      "metadata": {
        "id": "tMJA7I7rNC4K",
        "colab_type": "text"
      },
      "source": [
        "## Step 3 Collect & Analyse Results"
      ]
    },
    {
      "cell_type": "code",
      "metadata": {
        "id": "AmSr4u8iNHHX",
        "colab_type": "code",
        "outputId": "176b265e-7725-4247-d60c-37eaa26439db",
        "colab": {
          "base_uri": "https://localhost:8080/",
          "height": 51
        }
      },
      "source": [
        "print(\"pval: {:.2f}\".format(pval))\n",
        "if pval < 0.05:\n",
        "  print(\"Result is statistically significant! The gum thickness for the sample deviates significantly from 7.5 one hundredths of an inch\")\n",
        "else:\n",
        "  print(\"Result is not statistically signifcant! The gum thickness for these handsets does not deviate significantly from 7.5 one hundredths of an inch\")"
      ],
      "execution_count": 0,
      "outputs": [
        {
          "output_type": "stream",
          "text": [
            "pval: 0.16\n",
            "Result is not statistically signifcant! The gum thickness for these handsets does not deviate significantly from 7.5 one hundredths of an inch\n"
          ],
          "name": "stdout"
        }
      ]
    },
    {
      "cell_type": "markdown",
      "metadata": {
        "id": "m2OiukRxI4e4",
        "colab_type": "text"
      },
      "source": [
        "# 5. Assumptions\n",
        "\n",
        "There are a number of underlying assumptions that are made when performing a One Sample T-Test about the underlying datasets. \n",
        "\n",
        "These assumptions are:\n",
        "\n",
        "\n",
        "\n",
        "*   The dependent variable must be continuous (interval/ratio).\n",
        "*   The observations are independent of one another.\n",
        "*   The dependent variable should be approximately normally distributed.\n",
        "*    The dependent variable should not contain any outliers.\n",
        "\n",
        "[2]\n",
        "\n"
      ]
    },
    {
      "cell_type": "markdown",
      "metadata": {
        "id": "aojYs5KcJ3Hb",
        "colab_type": "text"
      },
      "source": [
        "# References\n",
        "\n",
        "[1] https://www.statisticshowto.datasciencecentral.com/one-sample-t-test/  \n",
        "[2] https://www.statisticssolutions.com/manova-analysis-one-sample-t-test/  "
      ]
    }
  ]
}