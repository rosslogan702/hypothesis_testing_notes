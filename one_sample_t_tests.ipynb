{
  "nbformat": 4,
  "nbformat_minor": 0,
  "metadata": {
    "colab": {
      "name": "one_sample_t_tests.ipynb",
      "version": "0.3.2",
      "provenance": [],
      "collapsed_sections": [],
      "include_colab_link": true
    },
    "kernelspec": {
      "name": "python3",
      "display_name": "Python 3"
    }
  },
  "cells": [
    {
      "cell_type": "markdown",
      "metadata": {
        "id": "view-in-github",
        "colab_type": "text"
      },
      "source": [
        "<a href=\"https://colab.research.google.com/github/rosslogan702/hypothesis_testing_notes/blob/master/one_sample_t_tests.ipynb\" target=\"_parent\"><img src=\"https://colab.research.google.com/assets/colab-badge.svg\" alt=\"Open In Colab\"/></a>"
      ]
    },
    {
      "cell_type": "markdown",
      "metadata": {
        "id": "6IkrTRF2a6Gm",
        "colab_type": "text"
      },
      "source": [
        "# Hypothesis Testing - One Sample T-Test"
      ]
    },
    {
      "cell_type": "markdown",
      "metadata": {
        "id": "OrYGucRUeSF4",
        "colab_type": "text"
      },
      "source": [
        "# Contents\n",
        "\n",
        "The focus of this notebook is One Sample T-Tests. \n",
        "\n",
        "The notebook will cover the following:\n",
        "\n",
        "\n",
        "1.   Description\n",
        "2.   General Hypothesis Testing Approach\n",
        "2.   Examples using SciPy library\n",
        "3.   Results Analysis\n",
        "\n",
        "\n",
        "\n"
      ]
    },
    {
      "cell_type": "markdown",
      "metadata": {
        "id": "RxauaQ1wfYh8",
        "colab_type": "text"
      },
      "source": [
        "# Description"
      ]
    },
    {
      "cell_type": "markdown",
      "metadata": {
        "id": "iZ0WscWPieeS",
        "colab_type": "text"
      },
      "source": [
        "A One Sample T-Test (or univariate T-test) compares a sample mean to a hypothetical population mean.\n",
        "\n",
        "The One Sample T-Test is concerned with the question:\n",
        "\n",
        "\"*What is the probability that the sample of interest came from a distribution with the desired mean?*\""
      ]
    },
    {
      "cell_type": "markdown",
      "metadata": {
        "id": "HCnk7ngekEg5",
        "colab_type": "text"
      },
      "source": [
        "# General Hypothesis Testing Approach"
      ]
    },
    {
      "cell_type": "markdown",
      "metadata": {
        "id": "sVG9mfzQkJXI",
        "colab_type": "text"
      },
      "source": [
        ""
      ]
    }
  ]
}