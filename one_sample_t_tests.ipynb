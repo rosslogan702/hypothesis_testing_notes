{
  "nbformat": 4,
  "nbformat_minor": 0,
  "metadata": {
    "colab": {
      "name": "Untitled2.ipynb",
      "version": "0.3.2",
      "provenance": []
    },
    "kernelspec": {
      "name": "python3",
      "display_name": "Python 3"
    }
  },
  "cells": [
    {
      "cell_type": "markdown",
      "metadata": {
        "id": "6IkrTRF2a6Gm",
        "colab_type": "text"
      },
      "source": [
        "# Hypothesis Testing - One Sample T-Test"
      ]
    },
    {
      "cell_type": "markdown",
      "metadata": {
        "id": "OrYGucRUeSF4",
        "colab_type": "text"
      },
      "source": [
        "# Contents\n",
        "\n",
        "The focus of this notebook is One Sample T-Tests. \n",
        "\n",
        "The notebook will cover the following:\n",
        "\n",
        "\n",
        "1.   Description\n",
        "2.   Examples using SciPy library\n",
        "3.   Results Analysis\n",
        "\n",
        "\n",
        "\n"
      ]
    },
    {
      "cell_type": "markdown",
      "metadata": {
        "id": "RxauaQ1wfYh8",
        "colab_type": "text"
      },
      "source": [
        "# Description"
      ]
    },
    {
      "cell_type": "code",
      "metadata": {
        "id": "wnLDx9wDe4RW",
        "colab_type": "code",
        "colab": {}
      },
      "source": [
        ""
      ],
      "execution_count": 0,
      "outputs": []
    }
  ]
}