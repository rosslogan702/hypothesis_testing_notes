{
  "nbformat": 4,
  "nbformat_minor": 0,
  "metadata": {
    "colab": {
      "name": "chi_square_test.ipynb",
      "provenance": [],
      "collapsed_sections": [],
      "include_colab_link": true
    },
    "kernelspec": {
      "name": "python3",
      "display_name": "Python 3"
    }
  },
  "cells": [
    {
      "cell_type": "markdown",
      "metadata": {
        "id": "view-in-github",
        "colab_type": "text"
      },
      "source": [
        "<a href=\"https://colab.research.google.com/github/rosslogan702/hypothesis_testing_notes/blob/master/chi_square_test.ipynb\" target=\"_parent\"><img src=\"https://colab.research.google.com/assets/colab-badge.svg\" alt=\"Open In Colab\"/></a>"
      ]
    },
    {
      "cell_type": "markdown",
      "metadata": {
        "id": "LVLgqnwJcdwo",
        "colab_type": "text"
      },
      "source": [
        "# Hypothesis Testing - Chi Square Test"
      ]
    },
    {
      "cell_type": "markdown",
      "metadata": {
        "id": "ru2MTxpKdpAq",
        "colab_type": "text"
      },
      "source": [
        "# Contents\n",
        "\n",
        "The focus of this notebook is the Chi Square Test.\n",
        "\n",
        "The notebook will cover the following:\n",
        "\n",
        "\n",
        "\n",
        "1.   Description\n",
        "2.   Manual Calculation\n",
        "3.   Practical Examples using SciPy Library\n",
        "4. Assumptions"
      ]
    },
    {
      "cell_type": "markdown",
      "metadata": {
        "id": "WF1md3iIdzs0",
        "colab_type": "text"
      },
      "source": [
        "# 1. Description\n",
        "\n",
        "One of the use cases of a Chi Square test is when we want to compare two or more categorical sets of data. \n",
        "\n",
        "It is useful and often used in A/B testing.\n",
        "\n",
        "Example uses:\n",
        "\n",
        "\n",
        "\n",
        "*   An A/B test where half of the users were shown a blue submit button and the other half a purple submit button. Which group was more likely to click on the button?  \n",
        "*   People from Europe and people from South America were both given a survey asking “Which of the following three foods are your favorite?” Was there a signnificant difference between those from Europe and South America?  \n",
        "\n"
      ]
    },
    {
      "cell_type": "markdown",
      "metadata": {
        "id": "8oX2V5kPd2PZ",
        "colab_type": "text"
      },
      "source": [
        "# 2. Manual Calculation "
      ]
    },
    {
      "cell_type": "markdown",
      "metadata": {
        "id": "WJbIDGkxwVOb",
        "colab_type": "text"
      },
      "source": [
        "For the manual calculation example, we are going to use the same problem as we have used in the SciPy practical example."
      ]
    },
    {
      "cell_type": "markdown",
      "metadata": {
        "id": "1ycUIqmuwqWr",
        "colab_type": "text"
      },
      "source": [
        "### Problem Defintion"
      ]
    },
    {
      "cell_type": "markdown",
      "metadata": {
        "id": "7iEgtItEwsc8",
        "colab_type": "text"
      },
      "source": [
        "The management of an e-commerce company want to try to improve conversion on their landing page through to a product page. They want to test a new design for the landing page.  \n",
        "\n",
        "An A/B test is set up where the users will either be shown the original page or the new landing page. Using the data below determine if there is a significant difference between the two.\n",
        "\n",
        "\n",
        "***Original Landing Page***\n",
        "\n",
        "Number of people clicked through to product page: **30**  \n",
        "Number of people who did not click through to product page: **10**  \n",
        "\n",
        "***New Landing Page***\n",
        "\n",
        "Number of people clicked through to product page: **28**  \n",
        "Number of people who did not click through to product page: **12** "
      ]
    },
    {
      "cell_type": "markdown",
      "metadata": {
        "id": "f-tX0ADuwFMZ",
        "colab_type": "text"
      },
      "source": [
        "### Step 1 - Define Null and Alternative Hypothesis"
      ]
    },
    {
      "cell_type": "markdown",
      "metadata": {
        "id": "T_b_czObwM5R",
        "colab_type": "text"
      },
      "source": [
        "$H_0$: There is no significant difference between the conversion from the original landing page through to the product page and the new landing page through to the product page.\n",
        "\n",
        "$H_A$: There is a significant difference between the conversion from the original landing page through to the product page and the new landing page through to the product page."
      ]
    },
    {
      "cell_type": "markdown",
      "metadata": {
        "id": "e4qhvk1ZwvxY",
        "colab_type": "text"
      },
      "source": [
        "### Step 2 - Prepare Observed Values"
      ]
    },
    {
      "cell_type": "markdown",
      "metadata": {
        "id": "E0Ltg8l_yQLy",
        "colab_type": "text"
      },
      "source": [
        "Performing this hypothesis test by hand requires that we use the chi-squared formula which is as follows."
      ]
    },
    {
      "cell_type": "markdown",
      "metadata": {
        "id": "ctXK6EwnykMT",
        "colab_type": "text"
      },
      "source": [
        "$X^2 = \\sum \\frac{(O-E)^2}{E}$  \n",
        "\n",
        "This formula is saying sum the observed value minus the expected value squared divided by the expected value"
      ]
    },
    {
      "cell_type": "code",
      "metadata": {
        "id": "fYmdM_ij0h0d",
        "colab_type": "code",
        "colab": {}
      },
      "source": [
        "# Number of people who clicked and didn't for original landing page\n",
        "original_clicked = 30\n",
        "original_not_clicked = 10\n",
        "original_total = 40\n",
        "\n",
        "# Number of people who clicked and didn't for new landing page\n",
        "new_clicked = 28\n",
        "new_not_clicked = 12\n",
        "new_total = 40"
      ],
      "execution_count": 0,
      "outputs": []
    },
    {
      "cell_type": "markdown",
      "metadata": {
        "id": "iDT4Uavc3SUq",
        "colab_type": "text"
      },
      "source": [
        "The observed values are the values that are provided in the above cell for both the original and the new landing page."
      ]
    },
    {
      "cell_type": "markdown",
      "metadata": {
        "id": "JbSSxf1h3JZ7",
        "colab_type": "text"
      },
      "source": [
        "### Step 3 - Calculate the Expected Values for Original and New Landing Page"
      ]
    },
    {
      "cell_type": "code",
      "metadata": {
        "id": "mNibeeyS5IIO",
        "colab_type": "code",
        "outputId": "76f3818b-473b-4137-e973-61cf1eb47b05",
        "colab": {
          "base_uri": "https://localhost:8080/",
          "height": 34
        }
      },
      "source": [
        "total = original_total + new_total\n",
        "print('Total: {0:.3f}'.format(total))"
      ],
      "execution_count": 2,
      "outputs": [
        {
          "output_type": "stream",
          "text": [
            "Total: 80.000\n"
          ],
          "name": "stdout"
        }
      ]
    },
    {
      "cell_type": "code",
      "metadata": {
        "id": "zEA6K9KG5Pb3",
        "colab_type": "code",
        "outputId": "1c5cfccc-c59f-4e22-93df-8eb44b757888",
        "colab": {
          "base_uri": "https://localhost:8080/",
          "height": 34
        }
      },
      "source": [
        "clicked_total = original_clicked + new_clicked\n",
        "print('Clicked Total: {0:.3f}'.format(clicked_total))"
      ],
      "execution_count": 3,
      "outputs": [
        {
          "output_type": "stream",
          "text": [
            "Clicked Total: 58.000\n"
          ],
          "name": "stdout"
        }
      ]
    },
    {
      "cell_type": "code",
      "metadata": {
        "id": "QoxiAlvO5ZRS",
        "colab_type": "code",
        "outputId": "4d34eaf4-cfd3-4aca-c69e-c4fe6d3acf86",
        "colab": {
          "base_uri": "https://localhost:8080/",
          "height": 34
        }
      },
      "source": [
        "not_clicked_total = original_not_clicked + new_not_clicked\n",
        "print('Not Clicked Total: {0:.3f}'.format(not_clicked_total))"
      ],
      "execution_count": 4,
      "outputs": [
        {
          "output_type": "stream",
          "text": [
            "Not Clicked Total: 22.000\n"
          ],
          "name": "stdout"
        }
      ]
    },
    {
      "cell_type": "code",
      "metadata": {
        "id": "ndp_hgFQ5ztQ",
        "colab_type": "code",
        "outputId": "e616eb98-99f8-41a0-d51f-fbcc4e5245fb",
        "colab": {
          "base_uri": "https://localhost:8080/",
          "height": 50
        }
      },
      "source": [
        "expected_original_clicked = (clicked_total/total) * original_total\n",
        "expected_original_not_clicked = (not_clicked_total/total) * original_total\n",
        "print('Expected Original Clicked: {0:.3f}'.format(expected_original_clicked))\n",
        "print('Expected Original Not Clicked: {0:.3f}'.format(expected_original_not_clicked))"
      ],
      "execution_count": 5,
      "outputs": [
        {
          "output_type": "stream",
          "text": [
            "Expected Original Clicked: 29.000\n",
            "Expected Original Not Clicked: 11.000\n"
          ],
          "name": "stdout"
        }
      ]
    },
    {
      "cell_type": "code",
      "metadata": {
        "id": "aa12IOx16f_R",
        "colab_type": "code",
        "outputId": "3358499a-b8c7-4961-de39-237a467e743e",
        "colab": {
          "base_uri": "https://localhost:8080/",
          "height": 50
        }
      },
      "source": [
        "expected_new_clicked = (clicked_total/total) * new_total\n",
        "expected_new_not_clicked = (not_clicked_total/total) * new_total\n",
        "print('Expected New Clicked: {0:.3f}'.format(expected_new_clicked))\n",
        "print('Expected New Not Clicked: {0:.3f}'.format(expected_new_not_clicked))"
      ],
      "execution_count": 6,
      "outputs": [
        {
          "output_type": "stream",
          "text": [
            "Expected New Clicked: 29.000\n",
            "Expected New Not Clicked: 11.000\n"
          ],
          "name": "stdout"
        }
      ]
    },
    {
      "cell_type": "markdown",
      "metadata": {
        "id": "dBGHnCGw7P_n",
        "colab_type": "text"
      },
      "source": [
        "### Step 4 - Apply Formula"
      ]
    },
    {
      "cell_type": "code",
      "metadata": {
        "id": "9IyOCffM7Ym8",
        "colab_type": "code",
        "outputId": "cc191d17-711e-4a10-8583-1589beac71dc",
        "colab": {
          "base_uri": "https://localhost:8080/",
          "height": 84
        }
      },
      "source": [
        "\n",
        "formula_original_clicked = ((original_clicked - expected_original_clicked)**2)/expected_original_clicked\n",
        "print('Formula Original Clicked: {0:.4f}'.format(formula_original_clicked))\n",
        "\n",
        "formula_original_not_clicked = ((original_not_clicked - expected_original_not_clicked)**2)/expected_original_not_clicked\n",
        "print('Formula Original Not Clicked: {0:.4f}'.format(formula_original_not_clicked))\n",
        "\n",
        "formula_new_clicked = ((new_clicked - expected_new_clicked)**2)/expected_new_clicked\n",
        "print('Formula New Clicked: {0:.4f}'.format(formula_new_clicked))\n",
        "\n",
        "formula_new_not_clicked = ((new_not_clicked - expected_new_not_clicked)**2)/expected_new_not_clicked\n",
        "print('Formula New Not Clicked: {0:.4f}'.format(formula_new_not_clicked))"
      ],
      "execution_count": 7,
      "outputs": [
        {
          "output_type": "stream",
          "text": [
            "Formula Original Clicked: 0.0345\n",
            "Formula Original Not Clicked: 0.0909\n",
            "Formula New Clicked: 0.0345\n",
            "Formula New Not Clicked: 0.0909\n"
          ],
          "name": "stdout"
        }
      ]
    },
    {
      "cell_type": "code",
      "metadata": {
        "id": "vF37SjjK9dvb",
        "colab_type": "code",
        "outputId": "aed4dea3-4c4e-4780-8595-dbeca59dc079",
        "colab": {
          "base_uri": "https://localhost:8080/",
          "height": 34
        }
      },
      "source": [
        "formula_total = formula_original_clicked + formula_original_not_clicked + formula_new_clicked + formula_new_not_clicked\n",
        "print('formula total: {0:.3f}'.format(formula_total))"
      ],
      "execution_count": 8,
      "outputs": [
        {
          "output_type": "stream",
          "text": [
            "formula total: 0.251\n"
          ],
          "name": "stdout"
        }
      ]
    },
    {
      "cell_type": "markdown",
      "metadata": {
        "id": "58VcA20w9s0u",
        "colab_type": "text"
      },
      "source": [
        "### Step 5 - Find the critical value from the Chi-Square Distribution Table"
      ]
    },
    {
      "cell_type": "markdown",
      "metadata": {
        "id": "utTyYnm5-tEy",
        "colab_type": "text"
      },
      "source": [
        "Using the following table: https://people.smp.uq.edu.au/YoniNazarathy/stat_models_B_course_spring_07/distributions/chisqtab.pdf\n",
        "\n",
        "With a signficance level of 0.05, degress of freedom = 1 (degrees of freedom for a chi square test: (r-1) * (c-1) where r is the number of rows and c is the number of columns)\n",
        "\n",
        "The critical value is : 3.84"
      ]
    },
    {
      "cell_type": "markdown",
      "metadata": {
        "id": "zppUWSJl-3B_",
        "colab_type": "text"
      },
      "source": [
        "### Step 6 - Results Analysis"
      ]
    },
    {
      "cell_type": "code",
      "metadata": {
        "id": "GCeEkc2j-5zw",
        "colab_type": "code",
        "outputId": "8d00756c-4390-49ae-9566-cbae17f50d34",
        "colab": {
          "base_uri": "https://localhost:8080/",
          "height": 34
        }
      },
      "source": [
        "critical_value = 3.84\n",
        "\n",
        "if formula_total > critical_value:\n",
        "  print('Result is statistically significant!')\n",
        "else:\n",
        "  print('Result is not statistically significant')"
      ],
      "execution_count": 9,
      "outputs": [
        {
          "output_type": "stream",
          "text": [
            "Result is not statistically significant\n"
          ],
          "name": "stdout"
        }
      ]
    },
    {
      "cell_type": "markdown",
      "metadata": {
        "id": "LoyycNCr_OQE",
        "colab_type": "text"
      },
      "source": [
        "Therefore we do not have enough data currently to be able to confidently reject the null hypothesis."
      ]
    },
    {
      "cell_type": "markdown",
      "metadata": {
        "id": "z0F7tgHBd7Q8",
        "colab_type": "text"
      },
      "source": [
        "# 3. Practical Examples using Scipy Library"
      ]
    },
    {
      "cell_type": "markdown",
      "metadata": {
        "id": "y6PbO-ZPquu4",
        "colab_type": "text"
      },
      "source": [
        "The management of an e-commerce company want to try to improve conversion on their landing page through to a product page. They want to test a new design for the landing page.  \n",
        "\n",
        "An A/B test is set up where the users will either be shown the original page or the new landing page. Using the data below determine if there is a significant difference between the two.\n",
        "\n",
        "\n",
        "***Original Landing Page***\n",
        "\n",
        "Number of people clicked through to product page: **30**  \n",
        "Number of people who did not click through to product page: **10**  \n",
        "\n",
        "***New Landing Page***\n",
        "\n",
        "Number of people clicked through to product page: **28**  \n",
        "Number of people who did not click through to product page: **12** "
      ]
    },
    {
      "cell_type": "markdown",
      "metadata": {
        "id": "oVum5_HBrmbM",
        "colab_type": "text"
      },
      "source": [
        "### Step 1 - Define Null and Alternative Hypothesis\n",
        "\n",
        "$H_0$: There is no significant difference between the conversion from the original landing page through to the product page and the new landing page through to the product page.\n",
        "\n",
        "$H_A$: There is a significant difference between the conversion from the original landing page through to the product page and the new landing page through to the product page."
      ]
    },
    {
      "cell_type": "markdown",
      "metadata": {
        "id": "nanvdE_usG1F",
        "colab_type": "text"
      },
      "source": [
        "### Step 2 - Prepare Data and Run Test\n",
        "\n",
        "The test is going to be run at a significance level of 0.05"
      ]
    },
    {
      "cell_type": "code",
      "metadata": {
        "id": "U_izhAHksKtC",
        "colab_type": "code",
        "colab": {}
      },
      "source": [
        "# This is the library that is used to run the chi-squared test in scipy\n",
        "from scipy.stats import chi2_contingency\n",
        "\n",
        "# Create a contingency table for the scipy test, the first column is those that \n",
        "# clicked through to the product page, the second column is the number that did not\n",
        "X = [[30, 10],\n",
        "     [28, 12]]\n",
        "\n",
        "chi2, p_val, dof, expected = chi2_contingency(X)"
      ],
      "execution_count": 0,
      "outputs": []
    },
    {
      "cell_type": "markdown",
      "metadata": {
        "id": "A5GvimqIs1V-",
        "colab_type": "text"
      },
      "source": [
        "### Step 3 - Results Analysis"
      ]
    },
    {
      "cell_type": "code",
      "metadata": {
        "id": "ePOaGVQFtAUf",
        "colab_type": "code",
        "outputId": "351224df-92e5-4224-8534-5891b792ae8d",
        "colab": {
          "base_uri": "https://localhost:8080/",
          "height": 34
        }
      },
      "source": [
        "print('p_val: {0:.3f}'.format(p_val))"
      ],
      "execution_count": 11,
      "outputs": [
        {
          "output_type": "stream",
          "text": [
            "p_val: 0.802\n"
          ],
          "name": "stdout"
        }
      ]
    },
    {
      "cell_type": "code",
      "metadata": {
        "id": "jpJUq6fRtI0X",
        "colab_type": "code",
        "outputId": "10021e70-d9eb-49a8-d562-1add00382583",
        "colab": {
          "base_uri": "https://localhost:8080/",
          "height": 34
        }
      },
      "source": [
        "if p_val < 0.05:\n",
        "  print('Result is statistically significant!')\n",
        "else:\n",
        "  print('Result is not statistically significant')"
      ],
      "execution_count": 12,
      "outputs": [
        {
          "output_type": "stream",
          "text": [
            "Result is not statistically significant\n"
          ],
          "name": "stdout"
        }
      ]
    },
    {
      "cell_type": "markdown",
      "metadata": {
        "id": "KetZhD11tXYy",
        "colab_type": "text"
      },
      "source": [
        "As a result of this hypothesis test we fail to reject the null hypothesis and cannot confidently say that there is a significant difference between the two pages."
      ]
    }
  ]
}