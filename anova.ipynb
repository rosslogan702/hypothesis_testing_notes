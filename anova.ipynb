{
  "nbformat": 4,
  "nbformat_minor": 0,
  "metadata": {
    "colab": {
      "name": "anova.ipynb",
      "version": "0.3.2",
      "provenance": [],
      "collapsed_sections": [],
      "include_colab_link": true
    },
    "kernelspec": {
      "name": "python3",
      "display_name": "Python 3"
    }
  },
  "cells": [
    {
      "cell_type": "markdown",
      "metadata": {
        "id": "view-in-github",
        "colab_type": "text"
      },
      "source": [
        "<a href=\"https://colab.research.google.com/github/rosslogan702/hypothesis_testing_notes/blob/master/anova.ipynb\" target=\"_parent\"><img src=\"https://colab.research.google.com/assets/colab-badge.svg\" alt=\"Open In Colab\"/></a>"
      ]
    },
    {
      "cell_type": "markdown",
      "metadata": {
        "id": "kEOJWezLb94F",
        "colab_type": "text"
      },
      "source": [
        "# Hypothesis Testing - ANOVA (Analysis of Variance)"
      ]
    },
    {
      "cell_type": "markdown",
      "metadata": {
        "id": "qKw3gYn6cOWC",
        "colab_type": "text"
      },
      "source": [
        "# Contents\n",
        "\n",
        "The focus of this notebook is ANOVA testing.\n",
        "\n",
        "The notebook will cover the following:\n",
        "\n",
        "\n",
        "\n",
        "1.   Description\n",
        "2.   Manual Calculation\n",
        "3.   Practical Examples using Scipy Library\n",
        "4. Assumptions"
      ]
    },
    {
      "cell_type": "markdown",
      "metadata": {
        "id": "4UDaXOG1cUiM",
        "colab_type": "text"
      },
      "source": [
        "# 1. Description\n",
        "\n",
        "ANOVA (Analysis of Variance) tests the null hypothesis that all of the datasets have the same mean.  \n",
        "\n",
        "If we reject the null hypothesis when performing an ANOVA test, this tells us that at least one of the datasets has a different mean.  \n",
        "\n",
        "However it does not inform us which of the datasets are different."
      ]
    },
    {
      "cell_type": "markdown",
      "metadata": {
        "id": "oXKpBTyMcYCn",
        "colab_type": "text"
      },
      "source": [
        "# 2. Manual Calculation"
      ]
    },
    {
      "cell_type": "markdown",
      "metadata": {
        "id": "4ZV09NVTie1V",
        "colab_type": "text"
      },
      "source": [
        "Using the same dataset as below in the scipy section, we are going to perform a oneway ANOVA hypothesis test to determine if there is a difference between the subscriber figures sales from the 3 different websites."
      ]
    },
    {
      "cell_type": "markdown",
      "metadata": {
        "id": "PvXkafqgiv-E",
        "colab_type": "text"
      },
      "source": [
        "## Step 1- Define Null and Alternative Hypothesis"
      ]
    },
    {
      "cell_type": "markdown",
      "metadata": {
        "id": "3t3xDAufjKl9",
        "colab_type": "text"
      },
      "source": [
        "Null Hypothesis = $H_0$  \n",
        "Alternative Hypothesis = $H_A$  \n",
        "\n",
        "$H_0$: The sample mean of website a, website b and website c are equal.\n",
        "\n",
        "$H_0: \\mu_\\text{website_a} = \\mu_\\text{website_b} = \\mu_\\text{website_c}$\n",
        "\n",
        "$H_A$: There are at least two sample website means that are statistically significantly different from each other.\n",
        "\n",
        "$H_A: \\mu_\\text{website_abc} - \\mu_\\text{website_abc} \\neq 0$"
      ]
    },
    {
      "cell_type": "code",
      "metadata": {
        "id": "aaLToYMijYkc",
        "colab_type": "code",
        "colab": {}
      },
      "source": [
        "website_a_figures = [73.57195018, 38.36736256, 49.36398786, 61.9617142, \n",
        "                     38.73959044, 55.94532269, 36.65062484, 60.67437231, \n",
        "                     63.07900236, 87.32085001, 50.34422982, 57.1090334, \n",
        "                     78.67520953, 61.03927418, 82.28774307, 53.58957582, \n",
        "                     72.92461536, 74.5603031, 55.02980576, 41.25844438, \n",
        "                     53.79588118, 64.79609893, 70.6964892, 66.74072317, \n",
        "                     75.0132205,  95.1255286, 49.455128, 66.03612649, \n",
        "                     53.02736305, 73.36372418, 40.25571098, 71.04422625, \n",
        "                     50.5013845, 38.22366664, 42.75767497, 52.50694334, \n",
        "                     38.604658, 59.67850535, 44.19604564, 46.92727224, \n",
        "                     55.24050064, 64.52773077, 34.09865429, 42.23778758, \n",
        "                     52.86937388, 90.10958086, 59.77157363, 65.57718324, \n",
        "                     67.40180559, 56.73021714, 63.26785746, 45.37055306, \n",
        "                     80.38995288, 87.65807685, 51.45634914, 65.99748438, \n",
        "                     72.47729986, 64.30071533, 19.73984606, 46.23986878, \n",
        "                     52.34828788, 61.11952527, 56.20838268, 39.34468135, \n",
        "                     57.93250947, 53.37617284, 48.81742261, 80.03593773, \n",
        "                     42.25474002, 44.4620247, 63.2401429, 53.75811252, \n",
        "                     41.12354869, 70.37251822, 58.0428706, 53.80533131, \n",
        "                     33.5540081, 50.05772819, 59.01472301, 63.18681147, \n",
        "                     56.36447661, 79.54804111, 57.58182513, 41.80650266, \n",
        "                     63.29608989, 69.20391058, 79.07999732, 68.87071256, \n",
        "                     54.61550389, 41.62384273, 58.05435004, 57.19652908, \n",
        "                     69.06753866, 76.73936006, 61.71461742, 90.44575864, \n",
        "                     44.97285945, 14.93461323, 60.22982158, 37.03612975, \n",
        "                     38.57973403, 56.3595887, 95.82780236, 82.89304549, \n",
        "                     48.08376399, 41.40360494, 39.62295003, 68.15395305, \n",
        "                     62.5134759, 48.39594647, 43.4393662, 53.8693371, \n",
        "                     45.40197091, 42.65484356, 77.56769986, 42.21598943, \n",
        "                     80.22825438, 52.2077973, 41.85889516, 83.40105978, \n",
        "                     63.19638331, 61.35383468, 80.02929924, 48.89037458, \n",
        "                     53.97640552, 56.44664214, 50.13546236, 41.93267706, \n",
        "                     62.23540804, 60.02470794, 71.94323655, 59.379194, \n",
        "                     42.88128137, 79.18722897, 79.31010058, 48.44544746, \n",
        "                     51.91236908, 41.13612282, 65.07530571, 49.21085783, \n",
        "                     82.5097768, 60.94264609, 56.83480824, 64.73765846, \n",
        "                     69.44225076, 47.86210011, 72.52226994, 68.98808623, \n",
        "                     58.23601966, 63.84862398]"
      ],
      "execution_count": 0,
      "outputs": []
    },
    {
      "cell_type": "code",
      "metadata": {
        "id": "MgXpIwsMjZxc",
        "colab_type": "code",
        "colab": {}
      },
      "source": [
        "website_b_figures = [166.22395047, 172.09005618, 152.32762949, 172.507172, \n",
        "             140.27311528, 140.36043391, 111.86744002, 141.70177057, \n",
        "             148.98833575, 146.91675049, 123.54945067, 123.40978504, \n",
        "             155.76569046, 142.96865798, 135.58264198, 169.68754397, \n",
        "             146.65975496, 150.9707252, 134.86971979, 149.60776063, \n",
        "             148.28307388, 145.88817947, 162.38303137, 135.00981504, \n",
        "             171.85180822, 130.07093286, 153.57912977, 138.00376972, \n",
        "             125.15058192, 165.07780817, 167.06076974, 148.21345784, \n",
        "             142.13482631, 161.74471113, 153.08759695, 127.46149326, \n",
        "             144.98488931, 168.04532604, 146.62742461, 169.08085481, \n",
        "             147.93072944, 177.82468602, 156.75914532, 149.6819541, \n",
        "             133.91578629, 131.58089602, 159.56290262, 160.28930871, \n",
        "             182.15691569, 141.93026478, 153.67681774, 124.85813365, \n",
        "             135.17597596, 151.92017019, 156.76937056, 151.0351934, \n",
        "             147.07835781, 163.30459951, 172.75128135, 132.2530624, \n",
        "             140.86317146, 153.71741024, 128.43960204, 150.16932458, \n",
        "             146.08145551, 171.98296242, 151.61688295, 159.94892745, \n",
        "             137.01951468, 139.07827094, 153.0684031, 151.07737089, \n",
        "             136.709464, 186.87288108, 146.4899794, 163.81305555, \n",
        "             135.53650919, 152.58431842, 149.59211758, 146.01451472, \n",
        "             159.67903997, 168.08994565, 155.03120985, 147.90284861, \n",
        "             133.29003945, 137.50441404, 179.52358583, 152.88678396, \n",
        "             124.53005843, 145.94780164, 150.74413238, 152.11680648, \n",
        "             147.87257702, 164.07964198, 141.96900012, 152.51128825, \n",
        "             145.32057291, 148.96494736, 146.39303683, 168.97273101, \n",
        "             126.22804995, 146.78461973, 152.16877455, 145.67293588, \n",
        "             146.75954115, 152.23049295, 172.39283402, 159.6911547, \n",
        "             153.36245345, 165.01578242, 150.94090222, 146.15422137, \n",
        "             140.50921191, 140.04764151, 153.15240977, 152.43495213, \n",
        "             152.45494029, 165.79913392, 126.14429818, 149.14747073, \n",
        "             134.03760893, 137.90312396, 134.40634288, 146.15657776, \n",
        "             139.77627365, 149.09244734, 152.204507, 159.88654681, \n",
        "             130.79661858, 143.78037133, 140.67739551, 138.27404966, \n",
        "             144.97202726, 129.27957612, 125.36927788, 156.07923218, \n",
        "             163.05308354, 151.10088824, 119.00762725, 147.40755788, \n",
        "             151.08377314, 139.35183159, 157.26332153, 117.17654103, \n",
        "             153.10114854, 133.8973409, 147.25560303, 170.96561247, \n",
        "             135.18641327, 123.07647302]"
      ],
      "execution_count": 0,
      "outputs": []
    },
    {
      "cell_type": "code",
      "metadata": {
        "id": "c6GBrEDGjZ35",
        "colab_type": "code",
        "colab": {}
      },
      "source": [
        "website_c_figures = [62.80215823, 54.62836519, 49.87267902, 71.37979508, \n",
        "             85.12967256, 49.81457321, 75.35136467, 54.45595669, \n",
        "             86.7241256, 75.56591744, 63.03183392, 57.3843091, \n",
        "             39.23348399, 82.69868909, 55.96390617, 61.76459869, \n",
        "             62.1037224, 66.92666631, 49.93339614, 51.13778227, \n",
        "             31.67316587, 38.49802083, 49.36472683, 69.04306874, \n",
        "             45.20762281, 73.5836671, 100.61092317, 30.92480424, \n",
        "             37.15912948, 53.73782208, 69.36703357, 60.15384459, \n",
        "             43.20003949, 51.12609883, 64.77507512, 63.28721074, \n",
        "             62.754003, 71.7590419, 73.08977513, 75.48485174, \n",
        "             47.8968874, 62.25258739, 66.33673312, 43.71093919, \n",
        "             80.65634624, 72.25758668, 100.91480345, 32.02761357, \n",
        "             58.31892089, 71.4399215, 45.07120452, 69.71137689, \n",
        "             85.37226652, 55.67710588, 70.25367706, 55.81488767, \n",
        "             61.21107415, 55.42183671, 66.80712926, 36.99284828, \n",
        "             42.37050081, 79.61120896, 58.88769703, 79.59158327, \n",
        "             59.16570772, 70.02097967, 85.29993197, 32.41236279, \n",
        "             52.6081084, 68.17342096, 65.32976073, 60.00672926, \n",
        "             26.30035248, 87.44943179, 55.35068819, 60.28778429, \n",
        "             33.03668105, 80.18693884, 77.27496626, 76.7616852, \n",
        "             100.94978198, 59.46503936, 78.07629437, 51.6102307, \n",
        "             86.95385235, 85.41984014, 54.83564532, 58.06315164, \n",
        "             66.17243082, 62.27966342, 83.35735441, 44.7213871, \n",
        "             42.8362959, 71.72428838, 68.4553881, 55.93152855, \n",
        "             52.33224863, 65.53344277, 48.19362864, 64.92300871, \n",
        "             56.23992888, 78.11260866, 55.80999334, 82.06126322, \n",
        "             67.03112813, 51.22917649, 51.6408127, 63.48194033, \n",
        "             71.77803695, 71.3696262, 45.12124272, 82.24703749, \n",
        "             70.91202908, 62.51210475, 71.71280187, 66.37758047, \n",
        "             49.28266126, 41.29074798, 61.81010589, 39.62654933, \n",
        "             73.54046019, 71.08493364, 61.88315174, 57.41521882, \n",
        "             69.83162524, 65.90217343, 77.11136925, 86.72149744, \n",
        "             81.81406049, 65.85430935, 94.96433541, 69.97078382, \n",
        "             73.34687737, 75.05530607, 57.51618582, 62.3665881, \n",
        "             58.80615169, 63.38469779, 35.87580831, 46.22850701, \n",
        "             56.05164877, 55.33599773, 45.84709985, 51.93706339, \n",
        "             70.16258619, 65.97686424, 50.51337502, 46.76635411, \n",
        "             70.39019472, 42.0636888]"
      ],
      "execution_count": 0,
      "outputs": []
    },
    {
      "cell_type": "markdown",
      "metadata": {
        "id": "mdJ3aAEnjM5a",
        "colab_type": "text"
      },
      "source": [
        "## Step 2 - Calculate SST (Sum of Squares Total)"
      ]
    },
    {
      "cell_type": "code",
      "metadata": {
        "id": "MMa3H8EBjSxU",
        "colab_type": "code",
        "colab": {}
      },
      "source": [
        "# Convert to numpy arrays to take advantage of in-built statistical functions\n",
        "import numpy as np\n",
        "website_a_figures_np = np.asarray(website_a_figures)\n",
        "website_b_figures_np = np.asarray(website_b_figures)\n",
        "website_c_figures_np = np.asarray(website_c_figures)"
      ],
      "execution_count": 0,
      "outputs": []
    },
    {
      "cell_type": "code",
      "metadata": {
        "id": "OyHWw0QelAmz",
        "colab_type": "code",
        "outputId": "fc2f9e8d-5734-4adb-a47d-7fdde3a7506d",
        "colab": {
          "base_uri": "https://localhost:8080/",
          "height": 67
        }
      },
      "source": [
        "# print mean values and take mean of means to get grand mean\n",
        "website_a_mean = website_a_figures_np.mean()\n",
        "website_b_mean = website_b_figures_np.mean()\n",
        "website_c_mean = website_c_figures_np.mean()\n",
        "\n",
        "print('website a mean: {0:.3f}'.format(website_a_mean))\n",
        "print('website b mean: {0:.3f}'.format(website_b_mean))\n",
        "print('website c mean: {0:.3f}'.format(website_c_mean))"
      ],
      "execution_count": 5,
      "outputs": [
        {
          "output_type": "stream",
          "text": [
            "website a mean: 58.350\n",
            "website b mean: 148.355\n",
            "website c mean: 62.361\n"
          ],
          "name": "stdout"
        }
      ]
    },
    {
      "cell_type": "code",
      "metadata": {
        "id": "iUmXIYUrllop",
        "colab_type": "code",
        "outputId": "accbb363-dd82-4ed8-99f8-db4c6b21e6f7",
        "colab": {
          "base_uri": "https://localhost:8080/",
          "height": 34
        }
      },
      "source": [
        "# Calculate grand mean (mean of mean's)\n",
        "mean_of_means = np.asarray([website_a_mean, website_b_mean, website_c_mean])\n",
        "grand_mean = mean_of_means.mean()\n",
        "print('grand mean: {0:.3f}'.format(grand_mean))"
      ],
      "execution_count": 6,
      "outputs": [
        {
          "output_type": "stream",
          "text": [
            "grand mean: 89.689\n"
          ],
          "name": "stdout"
        }
      ]
    },
    {
      "cell_type": "code",
      "metadata": {
        "id": "zHL5jO9cl7Qm",
        "colab_type": "code",
        "colab": {}
      },
      "source": [
        "# Alternative approach for calculating grand mean\n",
        "website_a_total = website_a_figures_np.sum()\n",
        "website_a_samples = len(website_a_figures)\n",
        "website_b_total = website_b_figures_np.sum()\n",
        "website_b_samples = len(website_b_figures)\n",
        "website_c_total = website_c_figures_np.sum()\n",
        "website_c_samples = len(website_c_figures)"
      ],
      "execution_count": 0,
      "outputs": []
    },
    {
      "cell_type": "code",
      "metadata": {
        "id": "njESW1B3mPiQ",
        "colab_type": "code",
        "outputId": "189f828f-bc4d-4229-d57c-86caf4d95999",
        "colab": {
          "base_uri": "https://localhost:8080/",
          "height": 34
        }
      },
      "source": [
        "grand_mean_alt = (website_a_total + website_b_total + website_c_total)/(website_a_samples + website_b_samples + website_c_samples)\n",
        "print('grand mean alt: {0:.3f}'.format(grand_mean_alt))"
      ],
      "execution_count": 8,
      "outputs": [
        {
          "output_type": "stream",
          "text": [
            "grand mean alt: 89.689\n"
          ],
          "name": "stdout"
        }
      ]
    },
    {
      "cell_type": "code",
      "metadata": {
        "id": "ffDFXfgUmk2r",
        "colab_type": "code",
        "outputId": "babe9892-f1c3-4942-aacf-0417876c20cd",
        "colab": {
          "base_uri": "https://localhost:8080/",
          "height": 34
        }
      },
      "source": [
        "# Calculating SST\n",
        "SST = 0\n",
        "all_website_figures = [website_a_figures, website_b_figures, website_c_figures]\n",
        "for website_figures in all_website_figures:\n",
        "  for figure in website_figures:\n",
        "    SST += (figure - grand_mean)**2\n",
        "print('SST: {:.3f}'.format(SST))"
      ],
      "execution_count": 9,
      "outputs": [
        {
          "output_type": "stream",
          "text": [
            "SST: 871657.188\n"
          ],
          "name": "stdout"
        }
      ]
    },
    {
      "cell_type": "code",
      "metadata": {
        "id": "7zqgOQRmoINu",
        "colab_type": "code",
        "outputId": "e9352ecb-8bfe-4a48-9358-32b7d08ef141",
        "colab": {
          "base_uri": "https://localhost:8080/",
          "height": 34
        }
      },
      "source": [
        "# SST Degrees of freedom - m*n -1 \n",
        "# m is the number of groups, n is the number of samples per group\n",
        "# In this example there are 3 websites so m=3, 150 samples per website so n=150\n",
        "degrees_of_freedom = 3 * 150 -1\n",
        "print('Degrees of freedom: {:.3f}'.format(degrees_of_freedom))"
      ],
      "execution_count": 10,
      "outputs": [
        {
          "output_type": "stream",
          "text": [
            "Degrees of freedom: 449.000\n"
          ],
          "name": "stdout"
        }
      ]
    },
    {
      "cell_type": "markdown",
      "metadata": {
        "id": "3yR6Gy0lo2CZ",
        "colab_type": "text"
      },
      "source": [
        "## Step 3 - Calculate SSW (Sum of Squares Within)"
      ]
    },
    {
      "cell_type": "code",
      "metadata": {
        "id": "9O8RBjxgQWYU",
        "colab_type": "code",
        "colab": {
          "base_uri": "https://localhost:8080/",
          "height": 67
        },
        "outputId": "4558e42e-a02b-4e19-9edf-8039ab462f70"
      },
      "source": [
        "# Find the mean for each group (website a,b & c)\n",
        "# This has already been calculated above, so just printing out here\n",
        "print('website a mean: {0:.3f}'.format(website_a_mean))\n",
        "print('website b mean: {0:.3f}'.format(website_b_mean))\n",
        "print('website c mean: {0:.3f}'.format(website_c_mean))"
      ],
      "execution_count": 11,
      "outputs": [
        {
          "output_type": "stream",
          "text": [
            "website a mean: 58.350\n",
            "website b mean: 148.355\n",
            "website c mean: 62.361\n"
          ],
          "name": "stdout"
        }
      ]
    },
    {
      "cell_type": "code",
      "metadata": {
        "id": "9Xq6Gk0MQtsf",
        "colab_type": "code",
        "colab": {
          "base_uri": "https://localhost:8080/",
          "height": 84
        },
        "outputId": "96725804-c575-4c27-d647-9d9ca988efbc"
      },
      "source": [
        "# Find SSW for each group and then total\n",
        "ssw_a_total = 0\n",
        "for figure in website_a_figures:\n",
        "  ssw_a_total+= (figure-website_a_mean)**2\n",
        "print('ssw_a_total: {0:.3f}'.format(ssw_a_total))\n",
        "\n",
        "ssw_b_total = 0\n",
        "for figure in website_b_figures:\n",
        "  ssw_b_total+= (figure - website_b_mean)**2\n",
        "print('ssw_b_total: {0:.3f}'.format(ssw_b_total))\n",
        "\n",
        "ssw_c_total = 0\n",
        "for figure in website_c_figures:\n",
        "  ssw_c_total+= (figure - website_c_mean)**2\n",
        "print('ssw_c_total: {0:.3f}'.format(ssw_c_total))\n",
        "\n",
        "ssw_total = ssw_a_total + ssw_b_total + ssw_c_total\n",
        "print('ssw_total: {0:.3f}'.format(ssw_total))"
      ],
      "execution_count": 16,
      "outputs": [
        {
          "output_type": "stream",
          "text": [
            "ssw_a_total: 32650.767\n",
            "ssw_b_total: 29240.317\n",
            "ssw_c_total: 34167.346\n",
            "ssw_total: 96058.430\n"
          ],
          "name": "stdout"
        }
      ]
    },
    {
      "cell_type": "code",
      "metadata": {
        "id": "bWdrKH6KS_jz",
        "colab_type": "code",
        "colab": {
          "base_uri": "https://localhost:8080/",
          "height": 34
        },
        "outputId": "9f514fa5-bb45-4b8e-c362-4485d459cdb1"
      },
      "source": [
        "# SSB Degrees of freedom - m(n-1)\n",
        "# m = number of groups = 3, n is number of samples = 150\n",
        "ssw_dof = 3*(150-1)\n",
        "print('ssw dof: {0:.3f}'.format(ssw_dof))"
      ],
      "execution_count": 19,
      "outputs": [
        {
          "output_type": "stream",
          "text": [
            "ssw dof: 447.000\n"
          ],
          "name": "stdout"
        }
      ]
    },
    {
      "cell_type": "markdown",
      "metadata": {
        "id": "rKhaJ02Io7Nl",
        "colab_type": "text"
      },
      "source": [
        "## Step 4 - Calculate SSB"
      ]
    },
    {
      "cell_type": "code",
      "metadata": {
        "id": "37ph_EAxUv52",
        "colab_type": "code",
        "colab": {
          "base_uri": "https://localhost:8080/",
          "height": 84
        },
        "outputId": "85e281cb-c429-4914-9992-8c4345e257f0"
      },
      "source": [
        "# To calculate SSB, we need the grand mean and the sample means\n",
        "print('grand mean: {0:.3f}'.format(grand_mean))\n",
        "print('website a mean: {0:.3f}'.format(website_a_mean))\n",
        "print('website b mean: {0:.3f}'.format(website_b_mean))\n",
        "print('website c mean: {0:.3f}'.format(website_c_mean))"
      ],
      "execution_count": 20,
      "outputs": [
        {
          "output_type": "stream",
          "text": [
            "grand mean: 89.689\n",
            "website a mean: 58.350\n",
            "website b mean: 148.355\n",
            "website c mean: 62.361\n"
          ],
          "name": "stdout"
        }
      ]
    },
    {
      "cell_type": "code",
      "metadata": {
        "id": "VavotU4OTjt2",
        "colab_type": "code",
        "colab": {
          "base_uri": "https://localhost:8080/",
          "height": 84
        },
        "outputId": "f9c8c46b-1045-4733-eba5-4e3ff3224b09"
      },
      "source": [
        "# Find SSB for each group and then total\n",
        "ssb_a_total = 0\n",
        "for figure in website_a_figures:\n",
        "  ssb_a_total+= (website_a_mean-grand_mean)**2\n",
        "print('ssb_a_total: {0:.3f}'.format(ssb_a_total))\n",
        "\n",
        "ssb_b_total = 0\n",
        "for figure in website_a_figures:\n",
        "  ssb_b_total+= (website_b_mean-grand_mean)**2\n",
        "print('ssb_b_total: {0:.3f}'.format(ssb_a_total))\n",
        "\n",
        "ssb_c_total = 0\n",
        "for figure in website_a_figures:\n",
        "  ssb_c_total+= (website_c_mean-grand_mean)**2\n",
        "print('ssb_c_total: {0:.3f}'.format(ssb_a_total))\n",
        "\n",
        "ssb_total = ssb_a_total + ssb_b_total + ssb_c_total\n",
        "print('ssb_total: {0:.3f}'.format(ssb_total))"
      ],
      "execution_count": 21,
      "outputs": [
        {
          "output_type": "stream",
          "text": [
            "ssb_a_total: 147319.440\n",
            "ssb_b_total: 147319.440\n",
            "ssb_c_total: 147319.440\n",
            "ssb_total: 775598.758\n"
          ],
          "name": "stdout"
        }
      ]
    },
    {
      "cell_type": "code",
      "metadata": {
        "id": "vl6e2u6TWLNc",
        "colab_type": "code",
        "colab": {
          "base_uri": "https://localhost:8080/",
          "height": 34
        },
        "outputId": "2c611f67-f359-4939-8308-1b04eebce876"
      },
      "source": [
        "# ssb degrees of freedom is m-1, where m is number of groups\n",
        "ssb_dof = 2\n",
        "print('ssb dof: {0:.3f}'.format(ssb_dof))"
      ],
      "execution_count": 22,
      "outputs": [
        {
          "output_type": "stream",
          "text": [
            "ssb dof: 2.000\n"
          ],
          "name": "stdout"
        }
      ]
    },
    {
      "cell_type": "code",
      "metadata": {
        "id": "pd8HwLIgWe8f",
        "colab_type": "code",
        "colab": {
          "base_uri": "https://localhost:8080/",
          "height": 118
        },
        "outputId": "2a188e99-3c1f-44c1-e410-2695b3bd1838"
      },
      "source": [
        "# Summary\n",
        "print('SST : {0:.3f}'.format(SST))\n",
        "print('SST DOF: {0:.3f}'.format(degrees_of_freedom))\n",
        "print('SSW : {0:.3f}'.format(ssw_total))\n",
        "print('SSW DOF: {0:.3f}'.format(ssw_dof))\n",
        "print('SSB : {0:.3f}'.format(ssb_total))\n",
        "print('SSB DOF: {0:.3f}'.format(ssb_dof))\n"
      ],
      "execution_count": 25,
      "outputs": [
        {
          "output_type": "stream",
          "text": [
            "SST : 871657.188\n",
            "SST DOF: 449.000\n",
            "SSW : 96058.430\n",
            "SSW DOF: 447.000\n",
            "SSB : 775598.758\n",
            "SSB DOF: 2.000\n"
          ],
          "name": "stdout"
        }
      ]
    },
    {
      "cell_type": "markdown",
      "metadata": {
        "id": "a6Ov5eCfpCIp",
        "colab_type": "text"
      },
      "source": [
        "## Step 5 - Calculate F-Statistic"
      ]
    },
    {
      "cell_type": "markdown",
      "metadata": {
        "id": "drj3Yt50a3Kj",
        "colab_type": "text"
      },
      "source": [
        "$F\\text{-}statistic = \\frac{\\dfrac{SSB}{\\text{degrees of freedom ssb}}}{{\\dfrac{SSW}{\\text{degrees of freedom ssw}}}}$ "
      ]
    },
    {
      "cell_type": "code",
      "metadata": {
        "id": "b6uaiwR3bv6h",
        "colab_type": "code",
        "colab": {
          "base_uri": "https://localhost:8080/",
          "height": 34
        },
        "outputId": "ee4f95e2-8a5d-48a0-91e4-f5f8d5e7c692"
      },
      "source": [
        "f_statistic = (ssb_total/ssb_dof)/(ssw_total/ssw_dof)\n",
        "print('F-Statistic: {0:.3f}'.format(f_statistic))"
      ],
      "execution_count": 26,
      "outputs": [
        {
          "output_type": "stream",
          "text": [
            "F-Statistic: 1804.592\n"
          ],
          "name": "stdout"
        }
      ]
    },
    {
      "cell_type": "markdown",
      "metadata": {
        "id": "1XoJdA_RcjrP",
        "colab_type": "text"
      },
      "source": [
        "We are going to set the significance level for this test to 5% (0.05).\n",
        "\n",
        "This means that assuming the null hypothesis, if there is less than a 5% chance of getting the result we got, then we will reject the null hypothesis and favour the alternative hypothesis."
      ]
    },
    {
      "cell_type": "markdown",
      "metadata": {
        "id": "VwDQyxhBpKNx",
        "colab_type": "text"
      },
      "source": [
        "## Step 6 - Find the F-Table Value"
      ]
    },
    {
      "cell_type": "markdown",
      "metadata": {
        "id": "szkvt7m_dhXC",
        "colab_type": "text"
      },
      "source": [
        "Using the F-Table: http://socr.ucla.edu/Applets.dir/F_Table.html#FTable0.05\n",
        "\n",
        "The SSB DOF is 2 and SSW DOF is 447, the F Critical value is : 2.9957"
      ]
    },
    {
      "cell_type": "markdown",
      "metadata": {
        "id": "CUeizkM9pSm9",
        "colab_type": "text"
      },
      "source": [
        "## Step 7 - Compare F-Statistic Value to Critical Value from F-Table"
      ]
    },
    {
      "cell_type": "markdown",
      "metadata": {
        "id": "g4_XpzxjpYE-",
        "colab_type": "text"
      },
      "source": [
        "## Step 8 - Results"
      ]
    },
    {
      "cell_type": "markdown",
      "metadata": {
        "id": "lPSMUyfjcb4Y",
        "colab_type": "text"
      },
      "source": [
        "# 3. Practical Examples using Scipy Library"
      ]
    },
    {
      "cell_type": "markdown",
      "metadata": {
        "id": "x-y9gq8DfYxc",
        "colab_type": "text"
      },
      "source": [
        "To perform an ANOVA test using the Scipy library we can use the function *f_oneway*. This allows an ANOVA test to be run on multiple datasets.  \n",
        "\n",
        "The *f_oneway* function takes in multiple datasets as parameters to the function and returns the t-statistic and the p-val.\n",
        "\n",
        "https://docs.scipy.org/doc/scipy/reference/generated/scipy.stats.f_oneway.html"
      ]
    },
    {
      "cell_type": "markdown",
      "metadata": {
        "id": "WSl-0c-gf8zg",
        "colab_type": "text"
      },
      "source": [
        "## Example 1 - Subscriber Figures Sales\n",
        "\n",
        "The following dataset is sales figures from 3 different websites for subscribers to their video streaming content."
      ]
    },
    {
      "cell_type": "code",
      "metadata": {
        "id": "r-1blCnxic-z",
        "colab_type": "code",
        "colab": {}
      },
      "source": [
        "website_a_figures = [73.57195018, 38.36736256, 49.36398786, 61.9617142, \n",
        "                     38.73959044, 55.94532269, 36.65062484, 60.67437231, \n",
        "                     63.07900236, 87.32085001, 50.34422982, 57.1090334, \n",
        "                     78.67520953, 61.03927418, 82.28774307, 53.58957582, \n",
        "                     72.92461536, 74.5603031, 55.02980576, 41.25844438, \n",
        "                     53.79588118, 64.79609893, 70.6964892, 66.74072317, \n",
        "                     75.0132205,  95.1255286, 49.455128, 66.03612649, \n",
        "                     53.02736305, 73.36372418, 40.25571098, 71.04422625, \n",
        "                     50.5013845, 38.22366664, 42.75767497, 52.50694334, \n",
        "                     38.604658, 59.67850535, 44.19604564, 46.92727224, \n",
        "                     55.24050064, 64.52773077, 34.09865429, 42.23778758, \n",
        "                     52.86937388, 90.10958086, 59.77157363, 65.57718324, \n",
        "                     67.40180559, 56.73021714, 63.26785746, 45.37055306, \n",
        "                     80.38995288, 87.65807685, 51.45634914, 65.99748438, \n",
        "                     72.47729986, 64.30071533, 19.73984606, 46.23986878, \n",
        "                     52.34828788, 61.11952527, 56.20838268, 39.34468135, \n",
        "                     57.93250947, 53.37617284, 48.81742261, 80.03593773, \n",
        "                     42.25474002, 44.4620247, 63.2401429, 53.75811252, \n",
        "                     41.12354869, 70.37251822, 58.0428706, 53.80533131, \n",
        "                     33.5540081, 50.05772819, 59.01472301, 63.18681147, \n",
        "                     56.36447661, 79.54804111, 57.58182513, 41.80650266, \n",
        "                     63.29608989, 69.20391058, 79.07999732, 68.87071256, \n",
        "                     54.61550389, 41.62384273, 58.05435004, 57.19652908, \n",
        "                     69.06753866, 76.73936006, 61.71461742, 90.44575864, \n",
        "                     44.97285945, 14.93461323, 60.22982158, 37.03612975, \n",
        "                     38.57973403, 56.3595887, 95.82780236, 82.89304549, \n",
        "                     48.08376399, 41.40360494, 39.62295003, 68.15395305, \n",
        "                     62.5134759, 48.39594647, 43.4393662, 53.8693371, \n",
        "                     45.40197091, 42.65484356, 77.56769986, 42.21598943, \n",
        "                     80.22825438, 52.2077973, 41.85889516, 83.40105978, \n",
        "                     63.19638331, 61.35383468, 80.02929924, 48.89037458, \n",
        "                     53.97640552, 56.44664214, 50.13546236, 41.93267706, \n",
        "                     62.23540804, 60.02470794, 71.94323655, 59.379194, \n",
        "                     42.88128137, 79.18722897, 79.31010058, 48.44544746, \n",
        "                     51.91236908, 41.13612282, 65.07530571, 49.21085783, \n",
        "                     82.5097768, 60.94264609, 56.83480824, 64.73765846, \n",
        "                     69.44225076, 47.86210011, 72.52226994, 68.98808623, \n",
        "                     58.23601966, 63.84862398]"
      ],
      "execution_count": 0,
      "outputs": []
    },
    {
      "cell_type": "code",
      "metadata": {
        "id": "gfAjJUlUi3XW",
        "colab_type": "code",
        "colab": {}
      },
      "source": [
        "website_b_figures = [166.22395047, 172.09005618, 152.32762949, 172.507172, \n",
        "             140.27311528, 140.36043391, 111.86744002, 141.70177057, \n",
        "             148.98833575, 146.91675049, 123.54945067, 123.40978504, \n",
        "             155.76569046, 142.96865798, 135.58264198, 169.68754397, \n",
        "             146.65975496, 150.9707252, 134.86971979, 149.60776063, \n",
        "             148.28307388, 145.88817947, 162.38303137, 135.00981504, \n",
        "             171.85180822, 130.07093286, 153.57912977, 138.00376972, \n",
        "             125.15058192, 165.07780817, 167.06076974, 148.21345784, \n",
        "             142.13482631, 161.74471113, 153.08759695, 127.46149326, \n",
        "             144.98488931, 168.04532604, 146.62742461, 169.08085481, \n",
        "             147.93072944, 177.82468602, 156.75914532, 149.6819541, \n",
        "             133.91578629, 131.58089602, 159.56290262, 160.28930871, \n",
        "             182.15691569, 141.93026478, 153.67681774, 124.85813365, \n",
        "             135.17597596, 151.92017019, 156.76937056, 151.0351934, \n",
        "             147.07835781, 163.30459951, 172.75128135, 132.2530624, \n",
        "             140.86317146, 153.71741024, 128.43960204, 150.16932458, \n",
        "             146.08145551, 171.98296242, 151.61688295, 159.94892745, \n",
        "             137.01951468, 139.07827094, 153.0684031, 151.07737089, \n",
        "             136.709464, 186.87288108, 146.4899794, 163.81305555, \n",
        "             135.53650919, 152.58431842, 149.59211758, 146.01451472, \n",
        "             159.67903997, 168.08994565, 155.03120985, 147.90284861, \n",
        "             133.29003945, 137.50441404, 179.52358583, 152.88678396, \n",
        "             124.53005843, 145.94780164, 150.74413238, 152.11680648, \n",
        "             147.87257702, 164.07964198, 141.96900012, 152.51128825, \n",
        "             145.32057291, 148.96494736, 146.39303683, 168.97273101, \n",
        "             126.22804995, 146.78461973, 152.16877455, 145.67293588, \n",
        "             146.75954115, 152.23049295, 172.39283402, 159.6911547, \n",
        "             153.36245345, 165.01578242, 150.94090222, 146.15422137, \n",
        "             140.50921191, 140.04764151, 153.15240977, 152.43495213, \n",
        "             152.45494029, 165.79913392, 126.14429818, 149.14747073, \n",
        "             134.03760893, 137.90312396, 134.40634288, 146.15657776, \n",
        "             139.77627365, 149.09244734, 152.204507, 159.88654681, \n",
        "             130.79661858, 143.78037133, 140.67739551, 138.27404966, \n",
        "             144.97202726, 129.27957612, 125.36927788, 156.07923218, \n",
        "             163.05308354, 151.10088824, 119.00762725, 147.40755788, \n",
        "             151.08377314, 139.35183159, 157.26332153, 117.17654103, \n",
        "             153.10114854, 133.8973409, 147.25560303, 170.96561247, \n",
        "             135.18641327, 123.07647302]"
      ],
      "execution_count": 0,
      "outputs": []
    },
    {
      "cell_type": "code",
      "metadata": {
        "id": "1fGmjfd0jhKn",
        "colab_type": "code",
        "colab": {}
      },
      "source": [
        "website_c_figures = [62.80215823, 54.62836519, 49.87267902, 71.37979508, \n",
        "             85.12967256, 49.81457321, 75.35136467, 54.45595669, \n",
        "             86.7241256, 75.56591744, 63.03183392, 57.3843091, \n",
        "             39.23348399, 82.69868909, 55.96390617, 61.76459869, \n",
        "             62.1037224, 66.92666631, 49.93339614, 51.13778227, \n",
        "             31.67316587, 38.49802083, 49.36472683, 69.04306874, \n",
        "             45.20762281, 73.5836671, 100.61092317, 30.92480424, \n",
        "             37.15912948, 53.73782208, 69.36703357, 60.15384459, \n",
        "             43.20003949, 51.12609883, 64.77507512, 63.28721074, \n",
        "             62.754003, 71.7590419, 73.08977513, 75.48485174, \n",
        "             47.8968874, 62.25258739, 66.33673312, 43.71093919, \n",
        "             80.65634624, 72.25758668, 100.91480345, 32.02761357, \n",
        "             58.31892089, 71.4399215, 45.07120452, 69.71137689, \n",
        "             85.37226652, 55.67710588, 70.25367706, 55.81488767, \n",
        "             61.21107415, 55.42183671, 66.80712926, 36.99284828, \n",
        "             42.37050081, 79.61120896, 58.88769703, 79.59158327, \n",
        "             59.16570772, 70.02097967, 85.29993197, 32.41236279, \n",
        "             52.6081084, 68.17342096, 65.32976073, 60.00672926, \n",
        "             26.30035248, 87.44943179, 55.35068819, 60.28778429, \n",
        "             33.03668105, 80.18693884, 77.27496626, 76.7616852, \n",
        "             100.94978198, 59.46503936, 78.07629437, 51.6102307, \n",
        "             86.95385235, 85.41984014, 54.83564532, 58.06315164, \n",
        "             66.17243082, 62.27966342, 83.35735441, 44.7213871, \n",
        "             42.8362959, 71.72428838, 68.4553881, 55.93152855, \n",
        "             52.33224863, 65.53344277, 48.19362864, 64.92300871, \n",
        "             56.23992888, 78.11260866, 55.80999334, 82.06126322, \n",
        "             67.03112813, 51.22917649, 51.6408127, 63.48194033, \n",
        "             71.77803695, 71.3696262, 45.12124272, 82.24703749, \n",
        "             70.91202908, 62.51210475, 71.71280187, 66.37758047, \n",
        "             49.28266126, 41.29074798, 61.81010589, 39.62654933, \n",
        "             73.54046019, 71.08493364, 61.88315174, 57.41521882, \n",
        "             69.83162524, 65.90217343, 77.11136925, 86.72149744, \n",
        "             81.81406049, 65.85430935, 94.96433541, 69.97078382, \n",
        "             73.34687737, 75.05530607, 57.51618582, 62.3665881, \n",
        "             58.80615169, 63.38469779, 35.87580831, 46.22850701, \n",
        "             56.05164877, 55.33599773, 45.84709985, 51.93706339, \n",
        "             70.16258619, 65.97686424, 50.51337502, 46.76635411, \n",
        "             70.39019472, 42.0636888]"
      ],
      "execution_count": 0,
      "outputs": []
    },
    {
      "cell_type": "markdown",
      "metadata": {
        "id": "vqrc2-QqkPNu",
        "colab_type": "text"
      },
      "source": [
        "## Step 1 - Define Null and Alternative Hypothesis\n",
        "\n",
        "Null Hypothesis = $H_0$  \n",
        "Alternative Hypothesis = $H_A$  \n",
        "\n",
        "$H_0$: The sample mean of website a, website b and website c are equal.\n",
        "\n",
        "$H_0: \\mu_\\text{website_a} = \\mu_\\text{website_b} = \\mu_\\text{website_c}$\n",
        "\n",
        "$H_A$: There are at least two sample website means that are statistically significantly different from each other.\n",
        "\n",
        "$H_A: \\mu_\\text{website_abc} - \\mu_\\text{website_abc} \\neq 0$"
      ]
    },
    {
      "cell_type": "markdown",
      "metadata": {
        "id": "Gi5QzmAglN15",
        "colab_type": "text"
      },
      "source": [
        "## Step 2 - Prepare Data & Run Test"
      ]
    },
    {
      "cell_type": "code",
      "metadata": {
        "id": "sNkdpknDlR7H",
        "colab_type": "code",
        "colab": {}
      },
      "source": [
        "from scipy.stats import f_oneway\n",
        "import numpy as np"
      ],
      "execution_count": 0,
      "outputs": []
    },
    {
      "cell_type": "code",
      "metadata": {
        "id": "EOxym5gplY0F",
        "colab_type": "code",
        "colab": {}
      },
      "source": [
        "# Collect Statistics about each website\n",
        "website_a_mean = np.mean(website_a_figures)\n",
        "website_b_mean = np.mean(website_b_figures)\n",
        "website_c_mean = np.mean(website_c_figures)\n",
        "\n",
        "website_a_std = np.std(website_a_figures)\n",
        "website_b_std = np.std(website_b_figures)\n",
        "website_c_std = np.std(website_c_figures)"
      ],
      "execution_count": 0,
      "outputs": []
    },
    {
      "cell_type": "code",
      "metadata": {
        "id": "q4TTHthcmua6",
        "colab_type": "code",
        "outputId": "04f2e1c0-3926-4157-86da-b75421ca7746",
        "colab": {
          "base_uri": "https://localhost:8080/",
          "height": 119
        }
      },
      "source": [
        "# Print statistics\n",
        "print('website a mean: {}'.format(website_a_mean))\n",
        "print('website a std:  {}'.format(website_a_std))\n",
        "print('website b mean: {}'.format(website_b_mean))\n",
        "print('website b std:  {}'.format(website_b_std))\n",
        "print('website c mean: {}'.format(website_c_mean))\n",
        "print('website c std:  {}'.format(website_c_std))"
      ],
      "execution_count": 0,
      "outputs": [
        {
          "output_type": "stream",
          "text": [
            "website a mean: 58.34963608399999\n",
            "website a std:  14.753704052425187\n",
            "website b mean: 148.35494018599996\n",
            "website b std:  13.96192849097182\n",
            "website c mean: 62.361173186000016\n",
            "website c std:  15.092458510871044\n"
          ],
          "name": "stdout"
        }
      ]
    },
    {
      "cell_type": "code",
      "metadata": {
        "id": "MH8-Yec5nIVn",
        "colab_type": "code",
        "colab": {}
      },
      "source": [
        "# Run test using scipy lib f_oneway\n",
        "fstat, p_val = f_oneway(website_a_figures, website_b_figures, website_c_figures)"
      ],
      "execution_count": 0,
      "outputs": []
    },
    {
      "cell_type": "code",
      "metadata": {
        "id": "6783UQ9onZU_",
        "colab_type": "code",
        "outputId": "f73b8fbf-0c0a-4c0d-b194-d34d90e16ea7",
        "colab": {
          "base_uri": "https://localhost:8080/",
          "height": 51
        }
      },
      "source": [
        "# print values returned from hypothesis test\n",
        "print('fstat: {0:.3f}'.format(fstat))\n",
        "print('p_val: {0:.6f}'.format(p_val))"
      ],
      "execution_count": 0,
      "outputs": [
        {
          "output_type": "stream",
          "text": [
            "fstat: 1804.592\n",
            "p_val: 0.000000\n"
          ],
          "name": "stdout"
        }
      ]
    },
    {
      "cell_type": "markdown",
      "metadata": {
        "id": "fz-dYTRinxuF",
        "colab_type": "text"
      },
      "source": [
        "## Step 3 - Collect & Analyse Results"
      ]
    },
    {
      "cell_type": "code",
      "metadata": {
        "id": "0pcNxAShn0g-",
        "colab_type": "code",
        "outputId": "e75d4f26-a0da-4109-89d1-6b213854534e",
        "colab": {
          "base_uri": "https://localhost:8080/",
          "height": 51
        }
      },
      "source": [
        "print('p_val: {:.6f}'.format(p_val))\n",
        "if p_val < 0.05:\n",
        "  print(\"Result is statistically significant! There is a statistically significant difference between two or more website figures sample means!\")\n",
        "else:\n",
        "  print(\"Result is not statistically signifcant! There is no statistically significant difference between any of the website figures datasets sample means!\")"
      ],
      "execution_count": 0,
      "outputs": [
        {
          "output_type": "stream",
          "text": [
            "p_val: 0.000000\n",
            "Result is statistically significant! There is a statistically significant difference between two or more website figures sample means!\n"
          ],
          "name": "stdout"
        }
      ]
    },
    {
      "cell_type": "markdown",
      "metadata": {
        "id": "b5AzHAf-cghW",
        "colab_type": "text"
      },
      "source": [
        "# 4. Assumptions"
      ]
    },
    {
      "cell_type": "code",
      "metadata": {
        "id": "UKdyTAUVlYO2",
        "colab_type": "code",
        "colab": {}
      },
      "source": [
        ""
      ],
      "execution_count": 0,
      "outputs": []
    },
    {
      "cell_type": "code",
      "metadata": {
        "id": "sV5rpD4qci4I",
        "colab_type": "code",
        "colab": {}
      },
      "source": [
        ""
      ],
      "execution_count": 0,
      "outputs": []
    }
  ]
}