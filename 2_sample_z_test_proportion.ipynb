{
  "nbformat": 4,
  "nbformat_minor": 0,
  "metadata": {
    "colab": {
      "name": "2_sample_z_test_proportion.ipynb",
      "provenance": [],
      "collapsed_sections": [],
      "authorship_tag": "ABX9TyMcKCV9W0ZHjeeuSDwArhpq",
      "include_colab_link": true
    },
    "kernelspec": {
      "name": "python3",
      "display_name": "Python 3"
    }
  },
  "cells": [
    {
      "cell_type": "markdown",
      "metadata": {
        "id": "view-in-github",
        "colab_type": "text"
      },
      "source": [
        "<a href=\"https://colab.research.google.com/github/rosslogan702/hypothesis_testing_notes/blob/master/2_sample_z_test_proportion.ipynb\" target=\"_parent\"><img src=\"https://colab.research.google.com/assets/colab-badge.svg\" alt=\"Open In Colab\"/></a>"
      ]
    },
    {
      "cell_type": "markdown",
      "metadata": {
        "id": "cTH-hUqQsy2J",
        "colab_type": "text"
      },
      "source": [
        "### **What is a Standard Normal Distribution?**"
      ]
    },
    {
      "cell_type": "markdown",
      "metadata": {
        "id": "2r-sZJ7hvvMF",
        "colab_type": "text"
      },
      "source": [
        "####Definition"
      ]
    },
    {
      "cell_type": "markdown",
      "metadata": {
        "id": "KQrfCQpVs6La",
        "colab_type": "text"
      },
      "source": [
        "The standard normal distribution is a special case of the normal distribution. \n",
        "It is the distribution that occurs when a normal random variable has a mean of \n",
        "zero and a standard deviation of 1."
      ]
    },
    {
      "cell_type": "markdown",
      "metadata": {
        "id": "0FSBV6PPvtx9",
        "colab_type": "text"
      },
      "source": [
        "### **Standard Score (Z-Score)**"
      ]
    },
    {
      "cell_type": "markdown",
      "metadata": {
        "id": "-8H0fEdvv_zM",
        "colab_type": "text"
      },
      "source": [
        "The normal random variable of a standard normal distribution is called a standard score or z-score.\n",
        "\n",
        "Every normal random variable can be transformed into a z-score using the following formula:\n",
        "\n",
        "$z = (X-\\mu)/\\sigma$\n",
        "\n",
        "\n",
        "Where X is the normal random variable, $\\mu$ is the mean of X and $\\sigma$ is the standard deviation of X.\n",
        "\n",
        "A Z-Score measures exactly how many standard deviations aboe or below the mean a data point is."
      ]
    },
    {
      "cell_type": "markdown",
      "metadata": {
        "id": "q5EFt7roxXuR",
        "colab_type": "text"
      },
      "source": [
        "### **2 Sample Z-Test of Proportions**"
      ]
    },
    {
      "cell_type": "markdown",
      "metadata": {
        "id": "SVuXxigixdRL",
        "colab_type": "text"
      },
      "source": [
        "A 2 sample Z-test of proportions allows you to compare two proportions to determine if there is a difference between them."
      ]
    },
    {
      "cell_type": "markdown",
      "metadata": {
        "id": "K3clrE9_vdkw",
        "colab_type": "text"
      },
      "source": [
        "####**Sample Question - Manual Calculation Example 1**\n",
        "\n",
        "A pharmaceutical study is testing two new treatments for the flu, drug A and drug B.\n",
        "\n",
        "Drug A works on 41 people out of a sample of 195. Drug B works on 351 people out of a sample of 605. Are the two drugs comparable?"
      ]
    },
    {
      "cell_type": "markdown",
      "metadata": {
        "id": "QcbknEiXwaxK",
        "colab_type": "text"
      },
      "source": [
        "### **Step 1 - Define Null and Alternative Hypothesis**\n",
        "\n",
        "$H_0$: The proportions of people that Drug A and Drug B work on are the same.\n",
        "\n",
        "$H_A$: The proportions of people that Drug A and Drug B work on are not the same\n",
        "\n",
        "Test at the significance level of 0.05\n",
        "\n",
        "$\\alpha$ = 0.05"
      ]
    },
    {
      "cell_type": "markdown",
      "metadata": {
        "id": "Q57v9DHMxmEo",
        "colab_type": "text"
      },
      "source": [
        "### **Step 2 - Find the two proportions & overall sample proportion**"
      ]
    },
    {
      "cell_type": "code",
      "metadata": {
        "id": "qcDmvkwoxoQH",
        "colab_type": "code",
        "outputId": "c0f8216e-08ff-4466-85f6-849dc39c6a29",
        "colab": {
          "base_uri": "https://localhost:8080/",
          "height": 68
        }
      },
      "source": [
        "drug_a_sample_size = 195\n",
        "drug_a_works = 41\n",
        "\n",
        "drug_b_sample_size = 605\n",
        "drug_b_works = 351\n",
        "\n",
        "p1 = drug_a_works/drug_a_sample_size\n",
        "p2 = drug_b_works/drug_b_sample_size\n",
        "\n",
        "print('Proportion of people drug A works on, p1: {}'.format(p1))\n",
        "print('Proportion of people drug b works on, p2: {}'.format(p2))\n",
        "\n",
        "p = (drug_a_works + drug_b_works)/(drug_a_sample_size + drug_b_sample_size)\n",
        "print('Overall sample proportion, p: {}'.format(p))"
      ],
      "execution_count": 0,
      "outputs": [
        {
          "output_type": "stream",
          "text": [
            "Proportion of people drug A works on, p1: 0.21025641025641026\n",
            "Proportion of people drug b works on, p2: 0.5801652892561984\n",
            "Overall sample proportion, p: 0.49\n"
          ],
          "name": "stdout"
        }
      ]
    },
    {
      "cell_type": "markdown",
      "metadata": {
        "id": "p0bzRdlnxV56",
        "colab_type": "text"
      },
      "source": [
        "### **Step 3 - Calculate the Test Statistic**\n",
        "\n",
        "$z\\text{-}statistic = \\frac{(\\hat{p_2} - \\hat{p_1})-0}{\\sqrt{{\\hat{p}(1-{\\hat{p})}}({\\dfrac{1}{n_1} + \\dfrac{1}{n_2}})}}$"
      ]
    },
    {
      "cell_type": "code",
      "metadata": {
        "id": "Ee8w0Hyuvd5B",
        "colab_type": "code",
        "outputId": "2a27daf3-3f63-4726-9459-cd8b5de4a0d7",
        "colab": {
          "base_uri": "https://localhost:8080/",
          "height": 34
        }
      },
      "source": [
        "import numpy as np\n",
        "\n",
        "z_statistic = (p2-p1)/(np.sqrt((p*(1-p)*((1/drug_a_sample_size) + (1/drug_b_sample_size)))))\n",
        "\n",
        "print(z_statistic)"
      ],
      "execution_count": 0,
      "outputs": [
        {
          "output_type": "stream",
          "text": [
            "8.985900954503084\n"
          ],
          "name": "stdout"
        }
      ]
    },
    {
      "cell_type": "markdown",
      "metadata": {
        "id": "uCg11WG-1zg6",
        "colab_type": "text"
      },
      "source": [
        "### **Step 4 - Find the Z-Score Value**\n",
        "\n",
        "We now need to determine if the z_statistic value falls into the rejection region. To do this we look up the z score value for the alpha/2 value.\n",
        "\n",
        "The z-score associated with 0.05/2 value is 1.96\n",
        "\n",
        "Z table: https://www.statisticshowto.datasciencecentral.com/tables/z-table/"
      ]
    },
    {
      "cell_type": "markdown",
      "metadata": {
        "id": "wuviIaP-64Bp",
        "colab_type": "text"
      },
      "source": [
        "### **Step 5 - Compare the calculated z-score to the critical value from z-table**\n",
        "\n",
        "If the calculate z-statistic value is greater than the z-score from the z-table then we can reject the null hypothesis and favour the alternative hypothesis."
      ]
    },
    {
      "cell_type": "code",
      "metadata": {
        "id": "PatiZbQ57NXF",
        "colab_type": "code",
        "outputId": "0a7dc5b8-3a87-4a84-a9a7-71082381768a",
        "colab": {
          "base_uri": "https://localhost:8080/",
          "height": 34
        }
      },
      "source": [
        "z_table_score = 1.96\n",
        "\n",
        "if z_table_score < z_statistic:\n",
        "  print('Z statistic > Z table score, reject the null hypothesis')\n",
        "else:\n",
        "  print('Z statistic < Z table score, failed to reject the null hypothesis')"
      ],
      "execution_count": 0,
      "outputs": [
        {
          "output_type": "stream",
          "text": [
            "Z statistic > Z table score, reject the null hypothesis\n"
          ],
          "name": "stdout"
        }
      ]
    },
    {
      "cell_type": "markdown",
      "metadata": {
        "id": "UNBh-2t57rPY",
        "colab_type": "text"
      },
      "source": [
        "### **Alternate method using Statsmodels (python lib)**\n",
        "\n",
        "Rather than doing the above calculation manually, there are python libraries we can use to perform the calculation for us.\n",
        "\n",
        "This is shown below."
      ]
    },
    {
      "cell_type": "code",
      "metadata": {
        "id": "UJDhfYWr9DPm",
        "colab_type": "code",
        "colab": {}
      },
      "source": [
        "from statsmodels.stats.proportion import proportions_ztest"
      ],
      "execution_count": 0,
      "outputs": []
    },
    {
      "cell_type": "code",
      "metadata": {
        "id": "yVgPtkPN7qSe",
        "colab_type": "code",
        "outputId": "c861c45f-8c62-44c9-dffe-f083aa219284",
        "colab": {
          "base_uri": "https://localhost:8080/",
          "height": 68
        }
      },
      "source": [
        "counts = np.array([41, 351])\n",
        "nobs = np.array([195, 605])\n",
        "stat, pval = proportions_ztest(counts, nobs)\n",
        "\n",
        "print('Z Statistic: {0:0.3f}'.format(stat))\n",
        "print('P-Value: {0:0.3f}'.format(pval))\n",
        "\n",
        "if pval < 0.05:\n",
        "  print('Reject the null hypothesis')\n",
        "else:\n",
        "  print('Failed to reject the null hypothesis')"
      ],
      "execution_count": 0,
      "outputs": [
        {
          "output_type": "stream",
          "text": [
            "Z Statistic: -8.986\n",
            "P-Value: 0.000\n",
            "Reject the null hypothesis\n"
          ],
          "name": "stdout"
        }
      ]
    },
    {
      "cell_type": "markdown",
      "metadata": {
        "id": "H5omZVizqw6U",
        "colab_type": "text"
      },
      "source": [
        "#### **Sample Example 2 (Confidence Interval & Hypothesis Test)** \n",
        "\n",
        "**Question:**\n",
        "\n",
        "There is an upcoming election and we want to find out if there is a meaningful difference between the number of men and the number of women who vote for a candidate.\n",
        "\n",
        "A survey is conducted of 1000 men and 1000 women are likely to vote and the results are recorded. The results from the survey show that 642 men indicate that they will vote for the candidate and 591 women will vote for the candidate. \n",
        "\n",
        "Calculate a 95% confidence interval estimate for the difference between the number of men who say they will vote for a candidate and the number of women who say they will vote for the candidate.\n",
        "\n",
        "The true population proportions are not known.\n",
        "\n",
        "Also run a hypothesis test at a significance level of 5%\n"
      ]
    },
    {
      "cell_type": "markdown",
      "metadata": {
        "id": "nePnFWFGBT0h",
        "colab_type": "text"
      },
      "source": [
        "#### **Step 1 - Calculate Sample Proportions & Sample Proportion Difference**\n",
        "\n",
        "The first step is to calculate the sample proportions from the survey and the sample proportion difference.\n",
        "\n",
        "Let $p_1$ represent the proportion of men who vote for the candidate.  \n",
        "Let $p_2$ represent the proportion of women who vote for the candidate.\n",
        "\n",
        "Since our sample size is large, we can use this as an estimate for the true population proportion difference for the formulas and calculations that follow."
      ]
    },
    {
      "cell_type": "code",
      "metadata": {
        "id": "liLqCTdV30ub",
        "colab_type": "code",
        "outputId": "1381a2c1-e537-4458-a9c0-4c4ffdb581e2",
        "colab": {
          "base_uri": "https://localhost:8080/",
          "height": 68
        }
      },
      "source": [
        "p1 = 642/1000\n",
        "p2 = 591/1000\n",
        "print('Sample proportion of men (p1) who will vote for the candidate: {}'.format(p1))\n",
        "print('Sample proportion of women (p2) who will vote for the candidate: {}'.format(p2))\n",
        "print('Sample proportion diff (p1-p2): {:.3f}'.format(p1-p2))"
      ],
      "execution_count": 0,
      "outputs": [
        {
          "output_type": "stream",
          "text": [
            "Sample proportion of men (p1) who will vote for the candidate: 0.642\n",
            "Sample proportion of women (p2) who will vote for the candidate: 0.591\n",
            "Sample proportion diff (p1-p2): 0.051\n"
          ],
          "name": "stdout"
        }
      ]
    },
    {
      "cell_type": "markdown",
      "metadata": {
        "id": "T2LcRVHs7RCo",
        "colab_type": "text"
      },
      "source": [
        "As we have a large sample size and because the proportions that we are dealing with are not close to zero or one, the sampling distributions will be approximately normal.\n",
        "\n",
        "Subtracting $p_1$ and $p_2$ is like taking a sample from the sampling distribution of the difference in proportions.\n",
        "\n",
        "The distribution that we are interested in thinking about is the sampling distribution of the difference in proportions."
      ]
    },
    {
      "cell_type": "markdown",
      "metadata": {
        "id": "5in1mskdU4ps",
        "colab_type": "text"
      },
      "source": [
        "##### **Show P1 and P2 Sampling Distributions**"
      ]
    },
    {
      "cell_type": "code",
      "metadata": {
        "id": "DIHtyprkNwM7",
        "colab_type": "code",
        "outputId": "cc13c8e9-f26c-4b35-a0f3-d81cefb52d5e",
        "colab": {
          "base_uri": "https://localhost:8080/",
          "height": 315
        }
      },
      "source": [
        "import numpy as np\n",
        "import seaborn as sns\n",
        "\n",
        "p1_mean = 0.642\n",
        "p2_mean = 0.591\n",
        "\n",
        "p1_std_dev = np.sqrt((p1*(1-p1)/1000))\n",
        "p2_std_dev = np.sqrt((p2*(1-p2)/1000))\n",
        "\n",
        "print('P1 Sampling Dist, mean: {:.3f}, std_dev: {:.3f}'.format(p1_mean, p1_std_dev))\n",
        "print('P2 Sampling Dist, mean: {:.3f}, std_dev: {:.3f}'.format(p2_mean, p2_std_dev))\n",
        "\n",
        "p1_sample_dist = np.random.normal(loc=p1_mean, scale=p1_std_dev, size=50)\n",
        "p2_sample_dist = np.random.normal(loc=p2_mean, scale=p2_std_dev, size=50)\n",
        "\n",
        "ax_p1 = sns.distplot(p1_sample_dist)\n",
        "ax_p1.set_title('p1 and p2 Sampling Distribution')\n",
        "\n",
        "ax_p2 = sns.distplot(p2_sample_dist)"
      ],
      "execution_count": 0,
      "outputs": [
        {
          "output_type": "stream",
          "text": [
            "P1 Sampling Dist, mean: 0.642, std_dev: 0.015\n",
            "P2 Sampling Dist, mean: 0.591, std_dev: 0.016\n"
          ],
          "name": "stdout"
        },
        {
          "output_type": "display_data",
          "data": {
            "image/png": "[encoded data removed]",
            "text/plain": [
              "<Figure size 432x288 with 1 Axes>"
            ]
          },
          "metadata": {
            "tags": []
          }
        }
      ]
    },
    {
      "cell_type": "markdown",
      "metadata": {
        "id": "F3Ws4O9PVUqK",
        "colab_type": "text"
      },
      "source": [
        "##### **Show Sampling Distribution of P1 - P2 (Sampling Distribution of Difference in Proportions)**"
      ]
    },
    {
      "cell_type": "code",
      "metadata": {
        "id": "IX6zV-ugUAq_",
        "colab_type": "code",
        "outputId": "aed8eec2-ff17-491a-eb36-3603235b0930",
        "colab": {
          "base_uri": "https://localhost:8080/",
          "height": 298
        }
      },
      "source": [
        "p1_p2_sample_dist = np.subtract(p1_sample_dist, p2_sample_dist)\n",
        "\n",
        "ax_p1_p2 = sns.distplot(p1_p2_sample_dist)\n",
        "ax_p1_p2.set_title('p1 - p2 Sampling Distribution')"
      ],
      "execution_count": 0,
      "outputs": [
        {
          "output_type": "execute_result",
          "data": {
            "text/plain": [
              "Text(0.5, 1.0, 'p1 - p2 Sampling Distribution')"
            ]
          },
          "metadata": {
            "tags": []
          },
          "execution_count": 30
        },
        {
          "output_type": "display_data",
          "data": {
            "image/png": "[encoded data removed]",
            "text/plain": [
              "<Figure size 432x288 with 1 Axes>"
            ]
          },
          "metadata": {
            "tags": []
          }
        }
      ]
    },
    {
      "cell_type": "markdown",
      "metadata": {
        "id": "SsFEg3_5FksL",
        "colab_type": "text"
      },
      "source": [
        "####**Step 2 - Calculate the number of standard deviations away from the mean we require to contain 95% of values of $p_1$ - $p_2$**"
      ]
    },
    {
      "cell_type": "markdown",
      "metadata": {
        "id": "0Phwk3o_GFIa",
        "colab_type": "text"
      },
      "source": [
        "When calculating the 95% confidence interval, what we want is that there is a 95% chance that the true mean or true value of p1 - p2 is within say d (for distance) of 0.051\n",
        "\n",
        "This is the same as saying there is a 95% chance that 0.051 is within d of this actual parameter (p1-p2).\n",
        "\n",
        "So what we need to figure out is what distance around the value of p1-p2, where if we were to take a random sample from the (p1-p2) distribution, it has a 95% chance of being within d of this value.\n",
        "\n",
        "Our confidence interval will look something like: 0.051 +- d\n",
        "\n",
        "Since the Z-table, gives the cumulative distribution if we are interested in containing 95% of the values and since we are intersted in both tails the value we are looking for is 97.5% (0.975).\n",
        "\n",
        "If we then apply this 97.5% value to both sides, then we will have the 95% confidence interval.\n",
        "\n",
        "Looking up the Z-table this gives the value 1.96.\n",
        "\n",
        "A distribution showing this is below along with how to calculate this using python rather than a manual look up in the Z-Table."
      ]
    },
    {
      "cell_type": "code",
      "metadata": {
        "id": "LOHjjsLYVoR2",
        "colab_type": "code",
        "outputId": "7af73ffc-51e1-4bbf-a016-a726e2fb81bd",
        "colab": {
          "base_uri": "https://localhost:8080/",
          "height": 298
        }
      },
      "source": [
        "stand_norm_dist = np.random.normal(loc=0, scale=1.0, size=100000)\n",
        "ax_stand_norm = sns.distplot(stand_norm_dist)\n",
        "ax_stand_norm.set_title('Standard Normal Distribution')\n",
        "ax_stand_norm.axvline(1.96, 0, 1, ls='--')\n",
        "ax_stand_norm.axvline(-1.96, 0, 1, ls='--')\n",
        "ax_stand_norm.text(-1.0, 0.2, \"95% of data\", horizontalalignment='left', size='medium', color='black', weight='semibold')"
      ],
      "execution_count": 0,
      "outputs": [
        {
          "output_type": "execute_result",
          "data": {
            "text/plain": [
              "Text(-1.0, 0.2, '95% of data')"
            ]
          },
          "metadata": {
            "tags": []
          },
          "execution_count": 68
        },
        {
          "output_type": "display_data",
          "data": {
            "image/png": "[encoded data removed]",
            "text/plain": [
              "<Figure size 432x288 with 1 Axes>"
            ]
          },
          "metadata": {
            "tags": []
          }
        }
      ]
    },
    {
      "cell_type": "code",
      "metadata": {
        "id": "TknKaNKJLW0e",
        "colab_type": "code",
        "outputId": "5081de45-aae6-4f80-e081-945104c958bb",
        "colab": {
          "base_uri": "https://localhost:8080/",
          "height": 34
        }
      },
      "source": [
        "from scipy.stats import norm\n",
        "num_std_deviations = norm.ppf(0.975)\n",
        "print('Number of standard deviations required to contain 95% of values: {:.2f}'.format(num_std_deviations))"
      ],
      "execution_count": 0,
      "outputs": [
        {
          "output_type": "stream",
          "text": [
            "Number of standard deviations required to contain 95% of values: 1.96\n"
          ],
          "name": "stdout"
        }
      ]
    },
    {
      "cell_type": "markdown",
      "metadata": {
        "id": "PyuClhULMQFJ",
        "colab_type": "text"
      },
      "source": [
        "#### **Step 3 - Calculate the standard deviation of the $p_1$ - $p_2$ sampling distribution**\n",
        "\n",
        "To find the standard deviation of the sampling distribution of $p_1$ - $p_2$, we add the variances of the individual sampling distributions for $p_1$ and $p_2$ and then take the square root.\n",
        "\n",
        "The $p_1$ and $p_2$ are bernoulli distributions so we know that the variance can be calculated by p(1-p).\n",
        "\n",
        "For more details: https://en.wikipedia.org/wiki/Bernoulli_distribution"
      ]
    },
    {
      "cell_type": "markdown",
      "metadata": {
        "id": "4GoklCLeMbRb",
        "colab_type": "text"
      },
      "source": [
        "$\\sigma = \\sqrt{\\frac{p_1(1-p_1)}{1000} + \\frac{p_2(1-p_2)}{1000}}$   \n"
      ]
    },
    {
      "cell_type": "code",
      "metadata": {
        "id": "uw7yx1YaQrUf",
        "colab_type": "code",
        "outputId": "a42859f4-a422-44f7-b672-aa1d3b71202d",
        "colab": {
          "base_uri": "https://localhost:8080/",
          "height": 34
        }
      },
      "source": [
        "import numpy as np\n",
        "sigma = np.sqrt((p1*(1-p1)/1000) + (p2*(1-p2)/1000))\n",
        "print('Standard deviation of p1 - p2: {:.3f}'.format(sigma))"
      ],
      "execution_count": 0,
      "outputs": [
        {
          "output_type": "stream",
          "text": [
            "Standard deviation of p1 - p2: 0.022\n"
          ],
          "name": "stdout"
        }
      ]
    },
    {
      "cell_type": "markdown",
      "metadata": {
        "id": "2IzeFD3wRSz9",
        "colab_type": "text"
      },
      "source": [
        "#### **Step 4 - Calculate the value d, distance from $p_1$ - $p_2$**\n",
        "\n",
        "To calculate the distance d for the 95% confidence interval, we take the number of standard deviations away from the mean required to contain 95% of the values and multiply it by the standard deviation of the sampling distribution of $p_1$ - $p_2$"
      ]
    },
    {
      "cell_type": "code",
      "metadata": {
        "id": "8typZWbzRxKH",
        "colab_type": "code",
        "outputId": "33e4386f-6cba-4cd6-ce96-70369faf26d2",
        "colab": {
          "base_uri": "https://localhost:8080/",
          "height": 34
        }
      },
      "source": [
        "d = num_std_deviations * sigma\n",
        "print('d: {:.3f}'.format(d))"
      ],
      "execution_count": 0,
      "outputs": [
        {
          "output_type": "stream",
          "text": [
            "d: 0.043\n"
          ],
          "name": "stdout"
        }
      ]
    },
    {
      "cell_type": "markdown",
      "metadata": {
        "id": "lybaDOnNSICg",
        "colab_type": "text"
      },
      "source": [
        "#### **Step 5 - Calculate the confidence interval**\n",
        "\n",
        "The 95% confidence interval can now be calculated.\n",
        "\n",
        "$p_1$ - $p_2$ = 0.642 - 0.591 = 0.051\n",
        "\n",
        "0.051 $\\pm$ d"
      ]
    },
    {
      "cell_type": "code",
      "metadata": {
        "id": "I50ffNo7ShUg",
        "colab_type": "code",
        "outputId": "7ab5cc58-d215-4b68-dbfc-4faa5f3793f6",
        "colab": {
          "base_uri": "https://localhost:8080/",
          "height": 34
        }
      },
      "source": [
        "confidence_interval_lower = 0.051 - d\n",
        "confidence_interval_upper = 0.051 + d\n",
        "\n",
        "print('95% confidence interval for difference in proportions is: {:.3f}, {:.3f}'.format(confidence_interval_lower, confidence_interval_upper))"
      ],
      "execution_count": 0,
      "outputs": [
        {
          "output_type": "stream",
          "text": [
            "95% confidence interval for difference in proportions is: 0.008, 0.094\n"
          ],
          "name": "stdout"
        }
      ]
    },
    {
      "cell_type": "markdown",
      "metadata": {
        "id": "uHssfvaIUaFt",
        "colab_type": "text"
      },
      "source": [
        "So we are confident that there's a 95% chance that men are more likely to vote for the candidate than women."
      ]
    },
    {
      "cell_type": "markdown",
      "metadata": {
        "id": "TXuSJqCeal6w",
        "colab_type": "text"
      },
      "source": [
        "#### **Hypothesis Test**"
      ]
    },
    {
      "cell_type": "code",
      "metadata": {
        "id": "16GWpEBIasLz",
        "colab_type": "code",
        "outputId": "78e4c4c9-7122-48f8-a06e-1331e93468b3",
        "colab": {
          "base_uri": "https://localhost:8080/",
          "height": 68
        }
      },
      "source": [
        "counts = np.array([642, 591])\n",
        "nobs = np.array([1000, 1000])\n",
        "stat, pval = proportions_ztest(counts, nobs)\n",
        "\n",
        "print('Z Statistic: {0:0.3f}'.format(stat))\n",
        "print('P-Value: {0:0.3f}'.format(pval))\n",
        "\n",
        "if pval < 0.05:\n",
        "  print('Reject the null hypothesis, there is a meaningful difference')\n",
        "else:\n",
        "  print('Failed to reject the null hypothesis, no meaningful difference detected')"
      ],
      "execution_count": 0,
      "outputs": [
        {
          "output_type": "stream",
          "text": [
            "Z Statistic: 2.345\n",
            "P-Value: 0.019\n",
            "Reject the null hypothesis, there is a meaningful difference\n"
          ],
          "name": "stdout"
        }
      ]
    },
    {
      "cell_type": "code",
      "metadata": {
        "id": "BZTE46RDc3Dj",
        "colab_type": "code",
        "colab": {}
      },
      "source": [
        "%load_ext rpy2.ipython"
      ],
      "execution_count": 0,
      "outputs": []
    },
    {
      "cell_type": "code",
      "metadata": {
        "id": "TPMxVMbjc76s",
        "colab_type": "code",
        "outputId": "9599c757-0dcf-4566-c461-8bc625030d17",
        "colab": {
          "base_uri": "https://localhost:8080/",
          "height": 34
        }
      },
      "source": [
        "%%R\n",
        "x <- 42\n",
        "print(x)"
      ],
      "execution_count": 0,
      "outputs": [
        {
          "output_type": "display_data",
          "data": {
            "text/plain": [
              "[1] 42\n"
            ]
          },
          "metadata": {
            "tags": []
          }
        }
      ]
    },
    {
      "cell_type": "markdown",
      "metadata": {
        "id": "zJK8WU6iuy2T",
        "colab_type": "text"
      },
      "source": [
        "### **References**\n",
        "\n",
        "[0] https://stattrek.com/probability-distributions/standard-normal.aspx?Tutorial=AP  \n",
        "[1] https://www.statisticshowto.datasciencecentral.com/z-test/  \n",
        "\n",
        "[2] https://www.statsmodels.org/stable/generated/statsmodels.stats.proportion.proportions_ztest.html  "
      ]
    }
  ]
}