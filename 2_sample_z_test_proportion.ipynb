{
  "nbformat": 4,
  "nbformat_minor": 0,
  "metadata": {
    "colab": {
      "name": "2_sample_z_test_proportion.ipynb",
      "provenance": [],
      "authorship_tag": "ABX9TyOJrwUZwcxRvzAFnukQ+KBq",
      "include_colab_link": true
    },
    "kernelspec": {
      "name": "python3",
      "display_name": "Python 3"
    }
  },
  "cells": [
    {
      "cell_type": "markdown",
      "metadata": {
        "id": "view-in-github",
        "colab_type": "text"
      },
      "source": [
        "<a href=\"https://colab.research.google.com/github/rosslogan702/hypothesis_testing_notes/blob/master/2_sample_z_test_proportion.ipynb\" target=\"_parent\"><img src=\"https://colab.research.google.com/assets/colab-badge.svg\" alt=\"Open In Colab\"/></a>"
      ]
    },
    {
      "cell_type": "markdown",
      "metadata": {
        "id": "cTH-hUqQsy2J",
        "colab_type": "text"
      },
      "source": [
        "### **What is a Standard Normal Distribution?**"
      ]
    },
    {
      "cell_type": "markdown",
      "metadata": {
        "id": "2r-sZJ7hvvMF",
        "colab_type": "text"
      },
      "source": [
        "####Definition"
      ]
    },
    {
      "cell_type": "markdown",
      "metadata": {
        "id": "KQrfCQpVs6La",
        "colab_type": "text"
      },
      "source": [
        "The standard normal distribution is a special case of the normal distribution. \n",
        "It is the distribution that occurs when a normal random variable has a mean of \n",
        "zero and a standard deviation of 1."
      ]
    },
    {
      "cell_type": "markdown",
      "metadata": {
        "id": "0FSBV6PPvtx9",
        "colab_type": "text"
      },
      "source": [
        "### **Standard Score (Z-Score)**"
      ]
    },
    {
      "cell_type": "markdown",
      "metadata": {
        "id": "-8H0fEdvv_zM",
        "colab_type": "text"
      },
      "source": [
        "The normal random variable of a standard normal distribution is called a standard score or z-score.\n",
        "\n",
        "Every normal random variable can be transformed into a z-score using the following formula:\n",
        "\n",
        "$z = (X-\\mu)/\\sigma$\n",
        "\n",
        "\n",
        "Where X is the normal random variable, $\\mu$ is the mean of X and $\\sigma$ is the standard deviation of X."
      ]
    },
    {
      "cell_type": "markdown",
      "metadata": {
        "id": "q5EFt7roxXuR",
        "colab_type": "text"
      },
      "source": [
        "### **2 Sample Z-Test of Proportions**"
      ]
    },
    {
      "cell_type": "markdown",
      "metadata": {
        "id": "SVuXxigixdRL",
        "colab_type": "text"
      },
      "source": [
        "A 2 sample Z-test of proportions allows you to compare two proportions to determine if there is a difference between them."
      ]
    },
    {
      "cell_type": "markdown",
      "metadata": {
        "id": "K3clrE9_vdkw",
        "colab_type": "text"
      },
      "source": [
        "#### Sample Question - Manual Calculation\n",
        "\n",
        "A pharmaceutical study is testing two new treatments for the flu, drug A and drug B.\n",
        "\n",
        "Drug A works on 41 people out of a sample of 195. Drug B works on 351 people out of a sample of 605. Are the two drugs comparable?"
      ]
    },
    {
      "cell_type": "markdown",
      "metadata": {
        "id": "QcbknEiXwaxK",
        "colab_type": "text"
      },
      "source": [
        "### **Step 1 - Define Null and Alternative Hypothesis**\n",
        "\n",
        "$H_0$: The proportions of people that Drug A and Drug B work on are the same.\n",
        "\n",
        "$H_A$: The proportions of people that Drug A and Drug B work on are not the same\n",
        "\n",
        "Test at the significance level of 0.05\n",
        "\n",
        "$\\alpha$ = 0.05"
      ]
    },
    {
      "cell_type": "markdown",
      "metadata": {
        "id": "Q57v9DHMxmEo",
        "colab_type": "text"
      },
      "source": [
        "### **Step 2 - Find the two proportions & overall sample proportion**"
      ]
    },
    {
      "cell_type": "code",
      "metadata": {
        "id": "qcDmvkwoxoQH",
        "colab_type": "code",
        "outputId": "e807f9b0-69ca-41d1-b7ba-4bbfbc21ed5a",
        "colab": {
          "base_uri": "https://localhost:8080/",
          "height": 67
        }
      },
      "source": [
        "drug_a_sample_size = 195\n",
        "drug_a_works = 41\n",
        "\n",
        "drug_b_sample_size = 605\n",
        "drug_b_works = 351\n",
        "\n",
        "p1 = drug_a_works/drug_a_sample_size\n",
        "p2 = drug_b_works/drug_b_sample_size\n",
        "\n",
        "print('Proportion of people drug A works on, p1: {}'.format(p1))\n",
        "print('Proportion of people drug b works on, p2: {}'.format(p2))\n",
        "\n",
        "p = (drug_a_works + drug_b_works)/(drug_a_sample_size + drug_b_sample_size)\n",
        "print('Overall sample proportion, p: {}'.format(p))"
      ],
      "execution_count": 0,
      "outputs": [
        {
          "output_type": "stream",
          "text": [
            "Proportion of people drug A works on, p1: 0.21025641025641026\n",
            "Proportion of people drug b works on, p2: 0.5801652892561984\n",
            "Overall sample proportion, p: 0.49\n"
          ],
          "name": "stdout"
        }
      ]
    },
    {
      "cell_type": "markdown",
      "metadata": {
        "id": "p0bzRdlnxV56",
        "colab_type": "text"
      },
      "source": [
        "### **Step 3 - Calculate the Test Statistic**\n",
        "\n",
        "$z\\text{-}statistic = \\frac{(\\hat{p_2} - \\hat{p_1})-0}{\\sqrt{{\\hat{p}(1-{\\hat{p})}}({\\dfrac{1}{n_1} + \\dfrac{1}{n_2}})}}$"
      ]
    },
    {
      "cell_type": "code",
      "metadata": {
        "id": "Ee8w0Hyuvd5B",
        "colab_type": "code",
        "outputId": "1826ae14-2683-42ce-9682-5395e025eb8c",
        "colab": {
          "base_uri": "https://localhost:8080/",
          "height": 34
        }
      },
      "source": [
        "import numpy as np\n",
        "\n",
        "z_statistic = (p2-p1)/(np.sqrt((p*(1-p)*((1/drug_a_sample_size) + (1/drug_b_sample_size)))))\n",
        "\n",
        "print(z_statistic)"
      ],
      "execution_count": 0,
      "outputs": [
        {
          "output_type": "stream",
          "text": [
            "8.985900954503084\n"
          ],
          "name": "stdout"
        }
      ]
    },
    {
      "cell_type": "markdown",
      "metadata": {
        "id": "uCg11WG-1zg6",
        "colab_type": "text"
      },
      "source": [
        "### **Step 4 - Find the Z-Score Value**\n",
        "\n",
        "We now need to determine if the z_statistic value falls into the rejection region. To do this we look up the z score value for the alpha/2 value.\n",
        "\n",
        "The z-score associated with 0.05/2 value is 1.96\n",
        "\n",
        "Z table: https://www.statisticshowto.datasciencecentral.com/tables/z-table/"
      ]
    },
    {
      "cell_type": "markdown",
      "metadata": {
        "id": "wuviIaP-64Bp",
        "colab_type": "text"
      },
      "source": [
        "### **Step 5 - Compare the calculated z-score to the critical value from z-table**\n",
        "\n",
        "If the calculate z-statistic value is greater than the z-score from the z-table then we can reject the null hypothesis and favour the alternative hypothesis."
      ]
    },
    {
      "cell_type": "code",
      "metadata": {
        "id": "PatiZbQ57NXF",
        "colab_type": "code",
        "outputId": "aee99127-ce64-4d2e-d2e1-570bf1ca2987",
        "colab": {
          "base_uri": "https://localhost:8080/",
          "height": 34
        }
      },
      "source": [
        "z_table_score = 1.96\n",
        "\n",
        "if z_table_score < z_statistic:\n",
        "  print('Z statistic > Z table score, reject the null hypothesis')\n",
        "else:\n",
        "  print('Z statistic < Z table score, failed to reject the null hypothesis')"
      ],
      "execution_count": 0,
      "outputs": [
        {
          "output_type": "stream",
          "text": [
            "Z statistic > Z table score, reject the null hypothesis\n"
          ],
          "name": "stdout"
        }
      ]
    },
    {
      "cell_type": "markdown",
      "metadata": {
        "id": "UNBh-2t57rPY",
        "colab_type": "text"
      },
      "source": [
        "### **Alternate method using Statsmodels (python lib)**\n",
        "\n",
        "Rather than doing the above calculation manually, there are python libraries we can use to perform the calculation for us.\n",
        "\n",
        "This is shown below."
      ]
    },
    {
      "cell_type": "code",
      "metadata": {
        "id": "UJDhfYWr9DPm",
        "colab_type": "code",
        "colab": {}
      },
      "source": [
        "from statsmodels.stats.proportion import proportions_ztest"
      ],
      "execution_count": 0,
      "outputs": []
    },
    {
      "cell_type": "code",
      "metadata": {
        "id": "yVgPtkPN7qSe",
        "colab_type": "code",
        "outputId": "3de65c39-72e6-4470-950c-b6b20c1374df",
        "colab": {
          "base_uri": "https://localhost:8080/",
          "height": 67
        }
      },
      "source": [
        "counts = np.array([41, 351])\n",
        "nobs = np.array([195, 605])\n",
        "stat, pval = proportions_ztest(counts, nobs)\n",
        "\n",
        "print('Z Statistic: {0:0.3f}'.format(stat))\n",
        "print('P-Value: {0:0.3f}'.format(pval))\n",
        "\n",
        "if pval < 0.05:\n",
        "  print('Reject the null hypothesis')\n",
        "else:\n",
        "  print('Failed to reject the null hypothesis')"
      ],
      "execution_count": 0,
      "outputs": [
        {
          "output_type": "stream",
          "text": [
            "Z Statistic: -8.986\n",
            "P-Value: 0.000\n",
            "Reject the null hypothesis\n"
          ],
          "name": "stdout"
        }
      ]
    },
    {
      "cell_type": "markdown",
      "metadata": {
        "id": "zJK8WU6iuy2T",
        "colab_type": "text"
      },
      "source": [
        "### **References**\n",
        "\n",
        "[0] https://stattrek.com/probability-distributions/standard-normal.aspx?Tutorial=AP  \n",
        "[1] https://www.statisticshowto.datasciencecentral.com/z-test/  \n",
        "\n",
        "[2] https://www.statsmodels.org/stable/generated/statsmodels.stats.proportion.proportions_ztest.html  "
      ]
    },
    {
      "cell_type": "code",
      "metadata": {
        "id": "vBUm9QMh-TAr",
        "colab_type": "code",
        "colab": {}
      },
      "source": [
        ""
      ],
      "execution_count": 0,
      "outputs": []
    }
  ]
}