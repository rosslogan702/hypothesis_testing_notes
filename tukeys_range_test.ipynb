{
  "nbformat": 4,
  "nbformat_minor": 0,
  "metadata": {
    "colab": {
      "name": "tukeys_range_test.ipynb",
      "version": "0.3.2",
      "provenance": [],
      "collapsed_sections": [],
      "include_colab_link": true
    },
    "kernelspec": {
      "name": "python3",
      "display_name": "Python 3"
    }
  },
  "cells": [
    {
      "cell_type": "markdown",
      "metadata": {
        "id": "view-in-github",
        "colab_type": "text"
      },
      "source": [
        "<a href=\"https://colab.research.google.com/github/rosslogan702/hypothesis_testing_notes/blob/master/tukeys_range_test.ipynb\" target=\"_parent\"><img src=\"https://colab.research.google.com/assets/colab-badge.svg\" alt=\"Open In Colab\"/></a>"
      ]
    },
    {
      "cell_type": "markdown",
      "metadata": {
        "id": "jLsVmp4dSLKU",
        "colab_type": "text"
      },
      "source": [
        "# Hypothesis Testing - Tukey's Range Test"
      ]
    },
    {
      "cell_type": "markdown",
      "metadata": {
        "id": "m78itojzShh6",
        "colab_type": "text"
      },
      "source": [
        "# Contents\n",
        "\n",
        "The focus of this notebook is Tukey's Range Test.\n",
        "\n",
        "The notebook will cover the following:\n",
        "\n",
        "\n",
        "\n",
        "1.   Description\n",
        "2.   Manual Calculation\n",
        "3.   Practical Examples using StatsModels Library\n",
        "4. Assumptions"
      ]
    },
    {
      "cell_type": "markdown",
      "metadata": {
        "id": "EGXcqT4MSo73",
        "colab_type": "text"
      },
      "source": [
        "# 1. Description\n",
        "\n",
        "Tukey's range test is used to determine if there are significant differences between datasets.  \n",
        "\n",
        "Where an ANOVA test will only tell you if there is a significant difference between say 3 datasets being tested, Tukey's range test will specifically tell you which datasets there is a significant difference between.  \n",
        "\n",
        "Tukey's range test compares the means of different groups and will tell you which ones have a significant difference."
      ]
    },
    {
      "cell_type": "markdown",
      "metadata": {
        "id": "X-OKwWQ6Tz-T",
        "colab_type": "text"
      },
      "source": [
        "# 2. Manual Calculation"
      ]
    },
    {
      "cell_type": "markdown",
      "metadata": {
        "id": "enOLbOsv9pzc",
        "colab_type": "text"
      },
      "source": [
        "## Example 1\n",
        "\n",
        "The following example is three different types of scores from different treatments and we want to determine which treatments have a significant difference between them."
      ]
    },
    {
      "cell_type": "markdown",
      "metadata": {
        "id": "vfxwDlkB_gBq",
        "colab_type": "text"
      },
      "source": [
        "## Step 1 - Prepare Data"
      ]
    },
    {
      "cell_type": "code",
      "metadata": {
        "id": "rzXPFz38-UAi",
        "colab_type": "code",
        "outputId": "ae1082ac-1ac3-44ff-ab1c-c48dbea9ffbf",
        "colab": {
          "base_uri": "https://localhost:8080/",
          "height": 67
        }
      },
      "source": [
        "import numpy as np\n",
        "\n",
        "type_a_scores = [77, 79, 87, 85, 78]\n",
        "type_b_scores = [83, 91, 94, 88, 85]\n",
        "type_c_scores = [80, 82, 86, 85, 80]\n",
        "\n",
        "print('Type A Scores: {}'.format(type_a_scores))\n",
        "print('Type B Scores: {}'.format(type_b_scores))\n",
        "print('Type C Scores: {}'.format(type_c_scores))"
      ],
      "execution_count": 1,
      "outputs": [
        {
          "output_type": "stream",
          "text": [
            "Type A Scores: [77, 79, 87, 85, 78]\n",
            "Type B Scores: [83, 91, 94, 88, 85]\n",
            "Type C Scores: [80, 82, 86, 85, 80]\n"
          ],
          "name": "stdout"
        }
      ]
    },
    {
      "cell_type": "code",
      "metadata": {
        "id": "RsmG_BqX-y3Y",
        "colab_type": "code",
        "outputId": "f301c130-ccf4-41d5-d737-8690dc20d8cc",
        "colab": {
          "base_uri": "https://localhost:8080/",
          "height": 67
        }
      },
      "source": [
        "a_sample_mean = np.mean(type_a_scores)\n",
        "b_sample_mean = np.mean(type_b_scores)\n",
        "c_sample_mean = np.mean(type_c_scores)\n",
        "\n",
        "print('A Sample Mean: {}'.format(a_sample_mean))\n",
        "print('B Sample Mean: {}'.format(b_sample_mean))\n",
        "print('C Sample Mean: {}'.format(c_sample_mean))"
      ],
      "execution_count": 2,
      "outputs": [
        {
          "output_type": "stream",
          "text": [
            "A Sample Mean: 81.2\n",
            "B Sample Mean: 88.2\n",
            "C Sample Mean: 82.6\n"
          ],
          "name": "stdout"
        }
      ]
    },
    {
      "cell_type": "markdown",
      "metadata": {
        "id": "S3EcD_no_zSg",
        "colab_type": "text"
      },
      "source": [
        "## Step 2 - Calculate the Tukey Criterion (T)"
      ]
    },
    {
      "cell_type": "markdown",
      "metadata": {
        "id": "VF-hFVXq_3IT",
        "colab_type": "text"
      },
      "source": [
        "$T = q_\\alpha(c, n-c)\\sqrt\\frac{MSE}{n_i}$\n",
        "\n",
        "Where:  \n",
        "$\\alpha$ = significance level (e.g 0.05)  \n",
        "$q_\\alpha(c, n-c)$ = Studentised Range Distribution, based on c and (n-c) df  \n",
        "$c$ = number of treatments (groups)  \n",
        "$n$ = total sample size  \n",
        "MSE = Mean Square Error (Also known as Mean Square Within)  \n",
        "$n_i$ = Sample size of the group with the smallest number of observations  \n"
      ]
    },
    {
      "cell_type": "markdown",
      "metadata": {
        "id": "5jSSVHRFCd5L",
        "colab_type": "text"
      },
      "source": [
        "### Finding $q_\\alpha(c, n-c)$"
      ]
    },
    {
      "cell_type": "markdown",
      "metadata": {
        "id": "I9skVtz2BgHI",
        "colab_type": "text"
      },
      "source": [
        "For the test that we are running here the significance level that we are interested in is 0.05 (5% significance level).  \n",
        "\n",
        "Using the Studentized Range Distribution table: http://davidmlane.com/hyperstat/sr_table.html  \n",
        "\n",
        "To read the table, we use c for the columns and (n-c) for the rows\n",
        "\n",
        "$q_\\alpha(c, n-c)$ = $q_\\text{0.05}(3, 15-3)$ = $q_\\text{0.05}(3, 12)$ = 3.773  \n",
        "\n"
      ]
    },
    {
      "cell_type": "markdown",
      "metadata": {
        "id": "ho6Auw2yCphX",
        "colab_type": "text"
      },
      "source": [
        "### Finding MSE (Mean Square Within)"
      ]
    },
    {
      "cell_type": "code",
      "metadata": {
        "id": "eM_paz7kCw7h",
        "colab_type": "code",
        "outputId": "d30083d3-bbb7-4e75-c4d1-ec7b644ede0b",
        "colab": {
          "base_uri": "https://localhost:8080/",
          "height": 118
        }
      },
      "source": [
        "ssw_a_total = 0\n",
        "for figure in type_a_scores:\n",
        "  ssw_a_total+= (figure-a_sample_mean)**2\n",
        "print('ssw_a_total: {0:.3f}'.format(ssw_a_total))\n",
        "\n",
        "ssw_b_total = 0\n",
        "for figure in type_b_scores:\n",
        "  ssw_b_total+= (figure-b_sample_mean)**2\n",
        "print('ssw_b_total: {0:.3f}'.format(ssw_b_total))\n",
        "\n",
        "ssw_c_total = 0\n",
        "for figure in type_c_scores:\n",
        "  ssw_c_total+= (figure-c_sample_mean)**2\n",
        "print('ssw_c_total: {0:.3f}'.format(ssw_c_total))\n",
        "\n",
        "ssw_total = ssw_a_total + ssw_b_total + ssw_c_total\n",
        "print('ssw_total: {0:.3f}'.format(ssw_total))\n",
        "\n",
        "ssw_dof = 3*(5-1)\n",
        "print('ssw dof: {0:.3f}'.format(ssw_dof))\n",
        "\n",
        "mse = ssw_total/ssw_dof\n",
        "print('MSE: {0:.3f}'.format(mse))"
      ],
      "execution_count": 3,
      "outputs": [
        {
          "output_type": "stream",
          "text": [
            "ssw_a_total: 80.800\n",
            "ssw_b_total: 78.800\n",
            "ssw_c_total: 31.200\n",
            "ssw_total: 190.800\n",
            "ssw dof: 12.000\n",
            "MSE: 15.900\n"
          ],
          "name": "stdout"
        }
      ]
    },
    {
      "cell_type": "markdown",
      "metadata": {
        "id": "BLgvyuhyDyy_",
        "colab_type": "text"
      },
      "source": [
        "### Calculating T"
      ]
    },
    {
      "cell_type": "code",
      "metadata": {
        "id": "-GDc8QOiD3JJ",
        "colab_type": "code",
        "outputId": "848c076e-6629-4d55-83ef-5d5f417e8bca",
        "colab": {
          "base_uri": "https://localhost:8080/",
          "height": 34
        }
      },
      "source": [
        "q = 3.773\n",
        "n = 5\n",
        "\n",
        "t = q * np.sqrt((mse/n))\n",
        "print('T: {0:.3f}'.format(t))"
      ],
      "execution_count": 4,
      "outputs": [
        {
          "output_type": "stream",
          "text": [
            "T: 6.728\n"
          ],
          "name": "stdout"
        }
      ]
    },
    {
      "cell_type": "markdown",
      "metadata": {
        "id": "YKSzIDeZEWkp",
        "colab_type": "text"
      },
      "source": [
        "## Step 3 - Calculate Absolute Values of Paired Means"
      ]
    },
    {
      "cell_type": "code",
      "metadata": {
        "id": "_LvuhauMEaGt",
        "colab_type": "code",
        "outputId": "657e56da-babf-436d-8017-26793f081ab6",
        "colab": {
          "base_uri": "https://localhost:8080/",
          "height": 67
        }
      },
      "source": [
        "result_a_b = np.abs(a_sample_mean - b_sample_mean)\n",
        "result_a_c = np.abs(a_sample_mean - c_sample_mean)\n",
        "result_b_c = np.abs(b_sample_mean - c_sample_mean)\n",
        "\n",
        "print('abs diff a & b: {0:.3f}'.format(result_a_b))\n",
        "print('abs diff a & c: {0:.3f}'.format(result_a_c))\n",
        "print('abs diff b & c: {0:.3f}'.format(result_b_c))"
      ],
      "execution_count": 5,
      "outputs": [
        {
          "output_type": "stream",
          "text": [
            "abs diff a & b: 7.000\n",
            "abs diff a & c: 1.400\n",
            "abs diff b & c: 5.600\n"
          ],
          "name": "stdout"
        }
      ]
    },
    {
      "cell_type": "markdown",
      "metadata": {
        "id": "J59m3vddFUsf",
        "colab_type": "text"
      },
      "source": [
        "## Step 4 - Results Analysis"
      ]
    },
    {
      "cell_type": "code",
      "metadata": {
        "id": "pR5POam5FkP9",
        "colab_type": "code",
        "outputId": "6e5f0947-c583-49c8-a904-c83503bef9a9",
        "colab": {
          "base_uri": "https://localhost:8080/",
          "height": 34
        }
      },
      "source": [
        "if result_a_b > t:\n",
        "  print('Statistically significant difference between a and b at 0.05 significance level')\n",
        "if result_a_c > t:\n",
        "  print('Statistically significant difference between a and c at 0.05 significance level')\n",
        "if result_b_c > t:\n",
        "  print('Statistically significant difference between b and c at 0.05 significance level')"
      ],
      "execution_count": 6,
      "outputs": [
        {
          "output_type": "stream",
          "text": [
            "Statistically significant difference between a and b at 0.05 significance level\n"
          ],
          "name": "stdout"
        }
      ]
    },
    {
      "cell_type": "markdown",
      "metadata": {
        "id": "Q70ryVP9GAsm",
        "colab_type": "text"
      },
      "source": [
        "Only statistically significant difference between the datasets occurs between datasets a and b."
      ]
    },
    {
      "cell_type": "markdown",
      "metadata": {
        "id": "qO7CLx6L9kCK",
        "colab_type": "text"
      },
      "source": [
        "## Example 2 - Website Figures"
      ]
    },
    {
      "cell_type": "markdown",
      "metadata": {
        "id": "mxkx0d1IN3pB",
        "colab_type": "text"
      },
      "source": [
        "For the manual calculation, we are going to use the same dataset as the practical examples in section (3).\n",
        "\n",
        "This section details the process of performing the calculation manually for Tukey's Range Test.\n",
        "\n",
        "For this manual calculation, we are going to perform the test at a significance level of 0.05"
      ]
    },
    {
      "cell_type": "markdown",
      "metadata": {
        "id": "ohPvTEnRIju0",
        "colab_type": "text"
      },
      "source": [
        "## Step 1 - Prepare Data"
      ]
    },
    {
      "cell_type": "code",
      "metadata": {
        "id": "zmHNpwGVOIH5",
        "colab_type": "code",
        "colab": {}
      },
      "source": [
        "website_a_figures = [73.57195018, 38.36736256, 49.36398786, 61.9617142, \n",
        "                     38.73959044, 55.94532269, 36.65062484, 60.67437231, \n",
        "                     63.07900236, 87.32085001, 50.34422982, 57.1090334, \n",
        "                     78.67520953, 61.03927418, 82.28774307, 53.58957582, \n",
        "                     72.92461536, 74.5603031, 55.02980576, 41.25844438, \n",
        "                     53.79588118, 64.79609893, 70.6964892, 66.74072317, \n",
        "                     75.0132205,  95.1255286, 49.455128, 66.03612649, \n",
        "                     53.02736305, 73.36372418, 40.25571098, 71.04422625, \n",
        "                     50.5013845, 38.22366664, 42.75767497, 52.50694334, \n",
        "                     38.604658, 59.67850535, 44.19604564, 46.92727224, \n",
        "                     55.24050064, 64.52773077, 34.09865429, 42.23778758, \n",
        "                     52.86937388, 90.10958086, 59.77157363, 65.57718324, \n",
        "                     67.40180559, 56.73021714, 63.26785746, 45.37055306, \n",
        "                     80.38995288, 87.65807685, 51.45634914, 65.99748438, \n",
        "                     72.47729986, 64.30071533, 19.73984606, 46.23986878, \n",
        "                     52.34828788, 61.11952527, 56.20838268, 39.34468135, \n",
        "                     57.93250947, 53.37617284, 48.81742261, 80.03593773, \n",
        "                     42.25474002, 44.4620247, 63.2401429, 53.75811252, \n",
        "                     41.12354869, 70.37251822, 58.0428706, 53.80533131, \n",
        "                     33.5540081, 50.05772819, 59.01472301, 63.18681147, \n",
        "                     56.36447661, 79.54804111, 57.58182513, 41.80650266, \n",
        "                     63.29608989, 69.20391058, 79.07999732, 68.87071256, \n",
        "                     54.61550389, 41.62384273, 58.05435004, 57.19652908, \n",
        "                     69.06753866, 76.73936006, 61.71461742, 90.44575864, \n",
        "                     44.97285945, 14.93461323, 60.22982158, 37.03612975, \n",
        "                     38.57973403, 56.3595887, 95.82780236, 82.89304549, \n",
        "                     48.08376399, 41.40360494, 39.62295003, 68.15395305, \n",
        "                     62.5134759, 48.39594647, 43.4393662, 53.8693371, \n",
        "                     45.40197091, 42.65484356, 77.56769986, 42.21598943, \n",
        "                     80.22825438, 52.2077973, 41.85889516, 83.40105978, \n",
        "                     63.19638331, 61.35383468, 80.02929924, 48.89037458, \n",
        "                     53.97640552, 56.44664214, 50.13546236, 41.93267706, \n",
        "                     62.23540804, 60.02470794, 71.94323655, 59.379194, \n",
        "                     42.88128137, 79.18722897, 79.31010058, 48.44544746, \n",
        "                     51.91236908, 41.13612282, 65.07530571, 49.21085783, \n",
        "                     82.5097768, 60.94264609, 56.83480824, 64.73765846, \n",
        "                     69.44225076, 47.86210011, 72.52226994, 68.98808623, \n",
        "                     58.23601966, 63.84862398]"
      ],
      "execution_count": 0,
      "outputs": []
    },
    {
      "cell_type": "code",
      "metadata": {
        "id": "mCTul8xOR4VE",
        "colab_type": "code",
        "colab": {}
      },
      "source": [
        "website_b_figures = [166.22395047, 172.09005618, 152.32762949, 172.507172, \n",
        "             140.27311528, 140.36043391, 111.86744002, 141.70177057, \n",
        "             148.98833575, 146.91675049, 123.54945067, 123.40978504, \n",
        "             155.76569046, 142.96865798, 135.58264198, 169.68754397, \n",
        "             146.65975496, 150.9707252, 134.86971979, 149.60776063, \n",
        "             148.28307388, 145.88817947, 162.38303137, 135.00981504, \n",
        "             171.85180822, 130.07093286, 153.57912977, 138.00376972, \n",
        "             125.15058192, 165.07780817, 167.06076974, 148.21345784, \n",
        "             142.13482631, 161.74471113, 153.08759695, 127.46149326, \n",
        "             144.98488931, 168.04532604, 146.62742461, 169.08085481, \n",
        "             147.93072944, 177.82468602, 156.75914532, 149.6819541, \n",
        "             133.91578629, 131.58089602, 159.56290262, 160.28930871, \n",
        "             182.15691569, 141.93026478, 153.67681774, 124.85813365, \n",
        "             135.17597596, 151.92017019, 156.76937056, 151.0351934, \n",
        "             147.07835781, 163.30459951, 172.75128135, 132.2530624, \n",
        "             140.86317146, 153.71741024, 128.43960204, 150.16932458, \n",
        "             146.08145551, 171.98296242, 151.61688295, 159.94892745, \n",
        "             137.01951468, 139.07827094, 153.0684031, 151.07737089, \n",
        "             136.709464, 186.87288108, 146.4899794, 163.81305555, \n",
        "             135.53650919, 152.58431842, 149.59211758, 146.01451472, \n",
        "             159.67903997, 168.08994565, 155.03120985, 147.90284861, \n",
        "             133.29003945, 137.50441404, 179.52358583, 152.88678396, \n",
        "             124.53005843, 145.94780164, 150.74413238, 152.11680648, \n",
        "             147.87257702, 164.07964198, 141.96900012, 152.51128825, \n",
        "             145.32057291, 148.96494736, 146.39303683, 168.97273101, \n",
        "             126.22804995, 146.78461973, 152.16877455, 145.67293588, \n",
        "             146.75954115, 152.23049295, 172.39283402, 159.6911547, \n",
        "             153.36245345, 165.01578242, 150.94090222, 146.15422137, \n",
        "             140.50921191, 140.04764151, 153.15240977, 152.43495213, \n",
        "             152.45494029, 165.79913392, 126.14429818, 149.14747073, \n",
        "             134.03760893, 137.90312396, 134.40634288, 146.15657776, \n",
        "             139.77627365, 149.09244734, 152.204507, 159.88654681, \n",
        "             130.79661858, 143.78037133, 140.67739551, 138.27404966, \n",
        "             144.97202726, 129.27957612, 125.36927788, 156.07923218, \n",
        "             163.05308354, 151.10088824, 119.00762725, 147.40755788, \n",
        "             151.08377314, 139.35183159, 157.26332153, 117.17654103, \n",
        "             153.10114854, 133.8973409, 147.25560303, 170.96561247, \n",
        "             135.18641327, 123.07647302]"
      ],
      "execution_count": 0,
      "outputs": []
    },
    {
      "cell_type": "code",
      "metadata": {
        "id": "fspHyGVMR4a4",
        "colab_type": "code",
        "colab": {}
      },
      "source": [
        "website_c_figures = [62.80215823, 54.62836519, 49.87267902, 71.37979508, \n",
        "             85.12967256, 49.81457321, 75.35136467, 54.45595669, \n",
        "             86.7241256, 75.56591744, 63.03183392, 57.3843091, \n",
        "             39.23348399, 82.69868909, 55.96390617, 61.76459869, \n",
        "             62.1037224, 66.92666631, 49.93339614, 51.13778227, \n",
        "             31.67316587, 38.49802083, 49.36472683, 69.04306874, \n",
        "             45.20762281, 73.5836671, 100.61092317, 30.92480424, \n",
        "             37.15912948, 53.73782208, 69.36703357, 60.15384459, \n",
        "             43.20003949, 51.12609883, 64.77507512, 63.28721074, \n",
        "             62.754003, 71.7590419, 73.08977513, 75.48485174, \n",
        "             47.8968874, 62.25258739, 66.33673312, 43.71093919, \n",
        "             80.65634624, 72.25758668, 100.91480345, 32.02761357, \n",
        "             58.31892089, 71.4399215, 45.07120452, 69.71137689, \n",
        "             85.37226652, 55.67710588, 70.25367706, 55.81488767, \n",
        "             61.21107415, 55.42183671, 66.80712926, 36.99284828, \n",
        "             42.37050081, 79.61120896, 58.88769703, 79.59158327, \n",
        "             59.16570772, 70.02097967, 85.29993197, 32.41236279, \n",
        "             52.6081084, 68.17342096, 65.32976073, 60.00672926, \n",
        "             26.30035248, 87.44943179, 55.35068819, 60.28778429, \n",
        "             33.03668105, 80.18693884, 77.27496626, 76.7616852, \n",
        "             100.94978198, 59.46503936, 78.07629437, 51.6102307, \n",
        "             86.95385235, 85.41984014, 54.83564532, 58.06315164, \n",
        "             66.17243082, 62.27966342, 83.35735441, 44.7213871, \n",
        "             42.8362959, 71.72428838, 68.4553881, 55.93152855, \n",
        "             52.33224863, 65.53344277, 48.19362864, 64.92300871, \n",
        "             56.23992888, 78.11260866, 55.80999334, 82.06126322, \n",
        "             67.03112813, 51.22917649, 51.6408127, 63.48194033, \n",
        "             71.77803695, 71.3696262, 45.12124272, 82.24703749, \n",
        "             70.91202908, 62.51210475, 71.71280187, 66.37758047, \n",
        "             49.28266126, 41.29074798, 61.81010589, 39.62654933, \n",
        "             73.54046019, 71.08493364, 61.88315174, 57.41521882, \n",
        "             69.83162524, 65.90217343, 77.11136925, 86.72149744, \n",
        "             81.81406049, 65.85430935, 94.96433541, 69.97078382, \n",
        "             73.34687737, 75.05530607, 57.51618582, 62.3665881, \n",
        "             58.80615169, 63.38469779, 35.87580831, 46.22850701, \n",
        "             56.05164877, 55.33599773, 45.84709985, 51.93706339, \n",
        "             70.16258619, 65.97686424, 50.51337502, 46.76635411, \n",
        "             70.39019472, 42.0636888]"
      ],
      "execution_count": 0,
      "outputs": []
    },
    {
      "cell_type": "code",
      "metadata": {
        "id": "xhbU9Kq0Iagz",
        "colab_type": "code",
        "outputId": "0e8f2970-8848-4dc6-d899-11d0c54dd243",
        "colab": {
          "base_uri": "https://localhost:8080/",
          "height": 67
        }
      },
      "source": [
        "website_a_sample_mean = np.mean(website_a_figures)\n",
        "website_b_sample_mean = np.mean(website_b_figures)\n",
        "website_c_sample_mean = np.mean(website_c_figures)\n",
        "\n",
        "print('Website A Sample Mean: {0:.3f}'.format(website_a_sample_mean))\n",
        "print('Website B Sample Mean: {0:.3f}'.format(website_b_sample_mean))\n",
        "print('Website C Sample Mean: {0:.3f}'.format(website_c_sample_mean))"
      ],
      "execution_count": 10,
      "outputs": [
        {
          "output_type": "stream",
          "text": [
            "Website A Sample Mean: 58.350\n",
            "Website B Sample Mean: 148.355\n",
            "Website C Sample Mean: 62.361\n"
          ],
          "name": "stdout"
        }
      ]
    },
    {
      "cell_type": "code",
      "metadata": {
        "id": "3A2QcqvzJYGa",
        "colab_type": "code",
        "outputId": "8dddd3b2-11c5-4bbe-d8f1-021f91f32f75",
        "colab": {
          "base_uri": "https://localhost:8080/",
          "height": 34
        }
      },
      "source": [
        "total_sample_size = len(website_a_figures) + len(website_b_figures) + len(website_c_figures)\n",
        "print('Total Sample Size: {0:.3f}'.format(total_sample_size))"
      ],
      "execution_count": 11,
      "outputs": [
        {
          "output_type": "stream",
          "text": [
            "Total Sample Size: 450.000\n"
          ],
          "name": "stdout"
        }
      ]
    },
    {
      "cell_type": "markdown",
      "metadata": {
        "id": "_Jn4XInkI__A",
        "colab_type": "text"
      },
      "source": [
        "## Step 2 - Calculate the Tukey Criterion"
      ]
    },
    {
      "cell_type": "markdown",
      "metadata": {
        "id": "TVgblNhkJEkd",
        "colab_type": "text"
      },
      "source": [
        "$T = q_\\alpha(c, n-c)\\sqrt\\frac{MSE}{n_i}$\n",
        "\n",
        "Where:  \n",
        "$\\alpha$ = significance level (e.g 0.05)  \n",
        "$q_\\alpha(c, n-c)$ = Studentised Range Distribution, based on c and (n-c) df  \n",
        "$c$ = number of treatments (groups)  \n",
        "$n$ = total sample size  \n",
        "MSE = Mean Square Error (Also known as Mean Square Within)  \n",
        "$n_i$ = Sample size of the group with the smallest number of observations"
      ]
    },
    {
      "cell_type": "markdown",
      "metadata": {
        "id": "jpBI8EH1JMSO",
        "colab_type": "text"
      },
      "source": [
        "### Finding $q_\\alpha(c, n-c)$"
      ]
    },
    {
      "cell_type": "markdown",
      "metadata": {
        "id": "U095G957JPZn",
        "colab_type": "text"
      },
      "source": [
        "For the test that we are running here the significance level that we are interested in is 0.05 (5% significance level).  \n",
        "\n",
        "Using the Studentized Range Distribution table: http://davidmlane.com/hyperstat/sr_table.html  \n",
        "\n",
        "To read the table, we use c for the columns and (n-c) for the rows\n",
        "\n",
        "$q_\\alpha(c, n-c)$ = $q_\\text{0.05}(3, 450-3)$ = $q_\\text{0.05}(3, 447)$\n",
        "\n",
        "Studentized range table doesn't contain 447 in the rows so we will approximate to the next smallest number which is 240. This returns a value of 3.335.\n"
      ]
    },
    {
      "cell_type": "markdown",
      "metadata": {
        "id": "OrofqagNKQfA",
        "colab_type": "text"
      },
      "source": [
        "### Finding MSE (Mean Square Within)"
      ]
    },
    {
      "cell_type": "code",
      "metadata": {
        "id": "0ySR51jYKRWd",
        "colab_type": "code",
        "outputId": "e0e45bca-47b1-4ccc-a538-e0ca7754348b",
        "colab": {
          "base_uri": "https://localhost:8080/",
          "height": 118
        }
      },
      "source": [
        "ssw_a_total = 0\n",
        "for figure in website_a_figures:\n",
        "  ssw_a_total+= (figure-website_a_sample_mean)**2\n",
        "print('ssw_a_total: {0:.3f}'.format(ssw_a_total))\n",
        "\n",
        "ssw_b_total = 0\n",
        "for figure in website_b_figures:\n",
        "  ssw_b_total+= (figure-website_b_sample_mean)**2\n",
        "print('ssw_b_total: {0:.3f}'.format(ssw_b_total))\n",
        "\n",
        "ssw_c_total = 0\n",
        "for figure in website_c_figures:\n",
        "  ssw_c_total+= (figure-website_c_sample_mean)**2\n",
        "print('ssw_c_total: {0:.3f}'.format(ssw_c_total))\n",
        "\n",
        "ssw_total = ssw_a_total + ssw_b_total + ssw_c_total\n",
        "print('ssw_total: {0:.3f}'.format(ssw_total))\n",
        "\n",
        "ssw_dof = 3*(150-1)\n",
        "print('ssw dof: {0:.3f}'.format(ssw_dof))\n",
        "\n",
        "mse = ssw_total/ssw_dof\n",
        "print('MSE: {0:.3f}'.format(mse))"
      ],
      "execution_count": 12,
      "outputs": [
        {
          "output_type": "stream",
          "text": [
            "ssw_a_total: 32650.767\n",
            "ssw_b_total: 29240.317\n",
            "ssw_c_total: 34167.346\n",
            "ssw_total: 96058.430\n",
            "ssw dof: 447.000\n",
            "MSE: 214.896\n"
          ],
          "name": "stdout"
        }
      ]
    },
    {
      "cell_type": "markdown",
      "metadata": {
        "id": "okC1zRn1K3c9",
        "colab_type": "text"
      },
      "source": [
        "### Calculating T"
      ]
    },
    {
      "cell_type": "code",
      "metadata": {
        "id": "0q22f2fbK4XC",
        "colab_type": "code",
        "outputId": "0de0024b-1057-4137-81d5-f5697f032bc7",
        "colab": {
          "base_uri": "https://localhost:8080/",
          "height": 34
        }
      },
      "source": [
        "q = 3.335\n",
        "n = 150\n",
        "\n",
        "t = q * np.sqrt((mse/n))\n",
        "print('T: {0:.3f}'.format(t))"
      ],
      "execution_count": 13,
      "outputs": [
        {
          "output_type": "stream",
          "text": [
            "T: 3.992\n"
          ],
          "name": "stdout"
        }
      ]
    },
    {
      "cell_type": "markdown",
      "metadata": {
        "id": "e52QNik-LJA2",
        "colab_type": "text"
      },
      "source": [
        "## Step 3 - Calculate Absolute Values of Paired Means"
      ]
    },
    {
      "cell_type": "code",
      "metadata": {
        "id": "SMY_JLg4LJ5n",
        "colab_type": "code",
        "outputId": "d0691f5c-c465-4571-e745-bc73e59a9bb2",
        "colab": {
          "base_uri": "https://localhost:8080/",
          "height": 67
        }
      },
      "source": [
        "result_a_b = np.abs(website_a_sample_mean - website_b_sample_mean)\n",
        "result_a_c = np.abs(website_a_sample_mean - website_c_sample_mean)\n",
        "result_b_c = np.abs(website_b_sample_mean - website_c_sample_mean)\n",
        "\n",
        "print('abs diff a & b: {0:.3f}'.format(result_a_b))\n",
        "print('abs diff a & c: {0:.3f}'.format(result_a_c))\n",
        "print('abs diff b & c: {0:.3f}'.format(result_b_c))"
      ],
      "execution_count": 14,
      "outputs": [
        {
          "output_type": "stream",
          "text": [
            "abs diff a & b: 90.005\n",
            "abs diff a & c: 4.012\n",
            "abs diff b & c: 85.994\n"
          ],
          "name": "stdout"
        }
      ]
    },
    {
      "cell_type": "markdown",
      "metadata": {
        "id": "B9xZ3V7-LU5T",
        "colab_type": "text"
      },
      "source": [
        "## Step 4 - Results Analysis"
      ]
    },
    {
      "cell_type": "code",
      "metadata": {
        "id": "2MdEAuHaLYmF",
        "colab_type": "code",
        "outputId": "debaabe5-4b0f-42a3-9a3a-6dba6d33822c",
        "colab": {
          "base_uri": "https://localhost:8080/",
          "height": 67
        }
      },
      "source": [
        "if result_a_b > t:\n",
        "  print('Statistically significant difference between a and b at 0.05 significance level')\n",
        "if result_a_c > t:\n",
        "  print('Statistically significant difference between a and c at 0.05 significance level')\n",
        "if result_b_c > t:\n",
        "  print('Statistically significant difference between b and c at 0.05 significance level')"
      ],
      "execution_count": 15,
      "outputs": [
        {
          "output_type": "stream",
          "text": [
            "Statistically significant difference between a and b at 0.05 significance level\n",
            "Statistically significant difference between a and c at 0.05 significance level\n",
            "Statistically significant difference between b and c at 0.05 significance level\n"
          ],
          "name": "stdout"
        }
      ]
    },
    {
      "cell_type": "markdown",
      "metadata": {
        "id": "cB2hgXYrLfl4",
        "colab_type": "text"
      },
      "source": [
        "All of the datasets as a result of the hypothesis test are statistically significantly different from each other."
      ]
    },
    {
      "cell_type": "markdown",
      "metadata": {
        "id": "9RYwPLcfT42P",
        "colab_type": "text"
      },
      "source": [
        "# 3. Practical Examples using StatsModels Library\n",
        "\n"
      ]
    },
    {
      "cell_type": "markdown",
      "metadata": {
        "id": "JYC9oiL_LrhK",
        "colab_type": "text"
      },
      "source": [
        "## Example 1 - Treatment Figures"
      ]
    },
    {
      "cell_type": "markdown",
      "metadata": {
        "id": "vJkyH-23L2MX",
        "colab_type": "text"
      },
      "source": [
        "The following example is three different types of scores from different treatments and we want to determine which treatments have a significant difference between them."
      ]
    },
    {
      "cell_type": "markdown",
      "metadata": {
        "id": "ejApI6DyL3dc",
        "colab_type": "text"
      },
      "source": [
        "## Step 1 - Prepare Data & Run Test"
      ]
    },
    {
      "cell_type": "code",
      "metadata": {
        "id": "trZe53prN5pM",
        "colab_type": "code",
        "colab": {}
      },
      "source": [
        "from statsmodels.stats.multicomp import pairwise_tukeyhsd\n",
        "import numpy as np"
      ],
      "execution_count": 0,
      "outputs": []
    },
    {
      "cell_type": "code",
      "metadata": {
        "id": "01wDTQF8L94Q",
        "colab_type": "code",
        "colab": {}
      },
      "source": [
        "type_a_scores = [77, 79, 87, 85, 78]\n",
        "type_b_scores = [83, 91, 94, 88, 85]\n",
        "type_c_scores = [80, 82, 86, 85, 80]"
      ],
      "execution_count": 0,
      "outputs": []
    },
    {
      "cell_type": "code",
      "metadata": {
        "id": "naVxmiQ9MLRv",
        "colab_type": "code",
        "colab": {}
      },
      "source": [
        "# Preparing data into single numpy array for passing into statsmodels function\n",
        "v = np.concatenate([type_a_scores, type_b_scores, type_c_scores])"
      ],
      "execution_count": 0,
      "outputs": []
    },
    {
      "cell_type": "code",
      "metadata": {
        "id": "iYsPJgdYMUPS",
        "colab_type": "code",
        "colab": {}
      },
      "source": [
        "# Preparing labels for groups to pass into statsmodels function\n",
        "labels = ['type_a'] * len(type_a_scores) + \\\n",
        "         ['type_b'] * len(type_b_scores) + \\\n",
        "         ['type_c'] * len(type_c_scores)"
      ],
      "execution_count": 0,
      "outputs": []
    },
    {
      "cell_type": "code",
      "metadata": {
        "id": "PXiIrgLGMfH6",
        "colab_type": "code",
        "colab": {}
      },
      "source": [
        "# Running tukeys range test with significance level of 0.05\n",
        "tukey_results = pairwise_tukeyhsd(v, labels, 0.05)"
      ],
      "execution_count": 0,
      "outputs": []
    },
    {
      "cell_type": "markdown",
      "metadata": {
        "id": "NL2CyslBMhS1",
        "colab_type": "text"
      },
      "source": [
        "## Step 2 - Collect & Analyse Results"
      ]
    },
    {
      "cell_type": "code",
      "metadata": {
        "id": "MO4VCazlMjlQ",
        "colab_type": "code",
        "outputId": "738f7acc-3dd8-4859-ce50-5ff90ce39ce4",
        "colab": {
          "base_uri": "https://localhost:8080/",
          "height": 151
        }
      },
      "source": [
        "print(tukey_results)"
      ],
      "execution_count": 21,
      "outputs": [
        {
          "output_type": "stream",
          "text": [
            " Multiple Comparison of Means - Tukey HSD, FWER=0.05 \n",
            "=====================================================\n",
            "group1 group2 meandiff p-adj   lower    upper  reject\n",
            "-----------------------------------------------------\n",
            "type_a type_b      7.0 0.0412   0.2752 13.7248   True\n",
            "type_a type_c      1.4 0.8384  -5.3248  8.1248  False\n",
            "type_b type_c     -5.6 0.1077 -12.3248  1.1248  False\n",
            "-----------------------------------------------------\n"
          ],
          "name": "stdout"
        }
      ]
    },
    {
      "cell_type": "markdown",
      "metadata": {
        "id": "nDbb6Xg9MyKs",
        "colab_type": "text"
      },
      "source": [
        "From the results it is indicating that there is a statistically significant difference between:\n",
        "\n",
        "\n",
        "\n",
        "*   type_a and type_b treatment scores"
      ]
    },
    {
      "cell_type": "markdown",
      "metadata": {
        "id": "qhlWFKxxVC_p",
        "colab_type": "text"
      },
      "source": [
        "## Example 2 - Subscriber Figures Sales\n"
      ]
    },
    {
      "cell_type": "markdown",
      "metadata": {
        "id": "9JwvqEw4UjoU",
        "colab_type": "text"
      },
      "source": [
        "Using the same example from the anova notebook of subscriber sales for 3 different websites, we know that there is a significant difference between the 3 different websites.\n",
        "\n",
        "We are going to use the same dataset, and this time find out which of the 3 different websites are significantly different from each other using Tukey's Range Test."
      ]
    },
    {
      "cell_type": "markdown",
      "metadata": {
        "id": "woL6-6UEM5x1",
        "colab_type": "text"
      },
      "source": [
        "The following dataset is sales figures from 3 different websites for subscribers to their video streaming content.\n",
        "\n",
        "We are going to run this test at a significance level of 0.05"
      ]
    },
    {
      "cell_type": "markdown",
      "metadata": {
        "id": "sCRKgvBBOHtr",
        "colab_type": "text"
      },
      "source": [
        "## Step 1 - Prepare Data & Run Test"
      ]
    },
    {
      "cell_type": "code",
      "metadata": {
        "id": "nDHJIZswVI07",
        "colab_type": "code",
        "colab": {}
      },
      "source": [
        "website_a_figures = [73.57195018, 38.36736256, 49.36398786, 61.9617142, \n",
        "                     38.73959044, 55.94532269, 36.65062484, 60.67437231, \n",
        "                     63.07900236, 87.32085001, 50.34422982, 57.1090334, \n",
        "                     78.67520953, 61.03927418, 82.28774307, 53.58957582, \n",
        "                     72.92461536, 74.5603031, 55.02980576, 41.25844438, \n",
        "                     53.79588118, 64.79609893, 70.6964892, 66.74072317, \n",
        "                     75.0132205,  95.1255286, 49.455128, 66.03612649, \n",
        "                     53.02736305, 73.36372418, 40.25571098, 71.04422625, \n",
        "                     50.5013845, 38.22366664, 42.75767497, 52.50694334, \n",
        "                     38.604658, 59.67850535, 44.19604564, 46.92727224, \n",
        "                     55.24050064, 64.52773077, 34.09865429, 42.23778758, \n",
        "                     52.86937388, 90.10958086, 59.77157363, 65.57718324, \n",
        "                     67.40180559, 56.73021714, 63.26785746, 45.37055306, \n",
        "                     80.38995288, 87.65807685, 51.45634914, 65.99748438, \n",
        "                     72.47729986, 64.30071533, 19.73984606, 46.23986878, \n",
        "                     52.34828788, 61.11952527, 56.20838268, 39.34468135, \n",
        "                     57.93250947, 53.37617284, 48.81742261, 80.03593773, \n",
        "                     42.25474002, 44.4620247, 63.2401429, 53.75811252, \n",
        "                     41.12354869, 70.37251822, 58.0428706, 53.80533131, \n",
        "                     33.5540081, 50.05772819, 59.01472301, 63.18681147, \n",
        "                     56.36447661, 79.54804111, 57.58182513, 41.80650266, \n",
        "                     63.29608989, 69.20391058, 79.07999732, 68.87071256, \n",
        "                     54.61550389, 41.62384273, 58.05435004, 57.19652908, \n",
        "                     69.06753866, 76.73936006, 61.71461742, 90.44575864, \n",
        "                     44.97285945, 14.93461323, 60.22982158, 37.03612975, \n",
        "                     38.57973403, 56.3595887, 95.82780236, 82.89304549, \n",
        "                     48.08376399, 41.40360494, 39.62295003, 68.15395305, \n",
        "                     62.5134759, 48.39594647, 43.4393662, 53.8693371, \n",
        "                     45.40197091, 42.65484356, 77.56769986, 42.21598943, \n",
        "                     80.22825438, 52.2077973, 41.85889516, 83.40105978, \n",
        "                     63.19638331, 61.35383468, 80.02929924, 48.89037458, \n",
        "                     53.97640552, 56.44664214, 50.13546236, 41.93267706, \n",
        "                     62.23540804, 60.02470794, 71.94323655, 59.379194, \n",
        "                     42.88128137, 79.18722897, 79.31010058, 48.44544746, \n",
        "                     51.91236908, 41.13612282, 65.07530571, 49.21085783, \n",
        "                     82.5097768, 60.94264609, 56.83480824, 64.73765846, \n",
        "                     69.44225076, 47.86210011, 72.52226994, 68.98808623, \n",
        "                     58.23601966, 63.84862398]"
      ],
      "execution_count": 0,
      "outputs": []
    },
    {
      "cell_type": "code",
      "metadata": {
        "id": "qfQTgB7dVN06",
        "colab_type": "code",
        "colab": {}
      },
      "source": [
        "website_b_figures = [166.22395047, 172.09005618, 152.32762949, 172.507172, \n",
        "             140.27311528, 140.36043391, 111.86744002, 141.70177057, \n",
        "             148.98833575, 146.91675049, 123.54945067, 123.40978504, \n",
        "             155.76569046, 142.96865798, 135.58264198, 169.68754397, \n",
        "             146.65975496, 150.9707252, 134.86971979, 149.60776063, \n",
        "             148.28307388, 145.88817947, 162.38303137, 135.00981504, \n",
        "             171.85180822, 130.07093286, 153.57912977, 138.00376972, \n",
        "             125.15058192, 165.07780817, 167.06076974, 148.21345784, \n",
        "             142.13482631, 161.74471113, 153.08759695, 127.46149326, \n",
        "             144.98488931, 168.04532604, 146.62742461, 169.08085481, \n",
        "             147.93072944, 177.82468602, 156.75914532, 149.6819541, \n",
        "             133.91578629, 131.58089602, 159.56290262, 160.28930871, \n",
        "             182.15691569, 141.93026478, 153.67681774, 124.85813365, \n",
        "             135.17597596, 151.92017019, 156.76937056, 151.0351934, \n",
        "             147.07835781, 163.30459951, 172.75128135, 132.2530624, \n",
        "             140.86317146, 153.71741024, 128.43960204, 150.16932458, \n",
        "             146.08145551, 171.98296242, 151.61688295, 159.94892745, \n",
        "             137.01951468, 139.07827094, 153.0684031, 151.07737089, \n",
        "             136.709464, 186.87288108, 146.4899794, 163.81305555, \n",
        "             135.53650919, 152.58431842, 149.59211758, 146.01451472, \n",
        "             159.67903997, 168.08994565, 155.03120985, 147.90284861, \n",
        "             133.29003945, 137.50441404, 179.52358583, 152.88678396, \n",
        "             124.53005843, 145.94780164, 150.74413238, 152.11680648, \n",
        "             147.87257702, 164.07964198, 141.96900012, 152.51128825, \n",
        "             145.32057291, 148.96494736, 146.39303683, 168.97273101, \n",
        "             126.22804995, 146.78461973, 152.16877455, 145.67293588, \n",
        "             146.75954115, 152.23049295, 172.39283402, 159.6911547, \n",
        "             153.36245345, 165.01578242, 150.94090222, 146.15422137, \n",
        "             140.50921191, 140.04764151, 153.15240977, 152.43495213, \n",
        "             152.45494029, 165.79913392, 126.14429818, 149.14747073, \n",
        "             134.03760893, 137.90312396, 134.40634288, 146.15657776, \n",
        "             139.77627365, 149.09244734, 152.204507, 159.88654681, \n",
        "             130.79661858, 143.78037133, 140.67739551, 138.27404966, \n",
        "             144.97202726, 129.27957612, 125.36927788, 156.07923218, \n",
        "             163.05308354, 151.10088824, 119.00762725, 147.40755788, \n",
        "             151.08377314, 139.35183159, 157.26332153, 117.17654103, \n",
        "             153.10114854, 133.8973409, 147.25560303, 170.96561247, \n",
        "             135.18641327, 123.07647302]"
      ],
      "execution_count": 0,
      "outputs": []
    },
    {
      "cell_type": "code",
      "metadata": {
        "id": "1oJgMUPFVQ5y",
        "colab_type": "code",
        "colab": {}
      },
      "source": [
        "website_c_figures = [62.80215823, 54.62836519, 49.87267902, 71.37979508, \n",
        "             85.12967256, 49.81457321, 75.35136467, 54.45595669, \n",
        "             86.7241256, 75.56591744, 63.03183392, 57.3843091, \n",
        "             39.23348399, 82.69868909, 55.96390617, 61.76459869, \n",
        "             62.1037224, 66.92666631, 49.93339614, 51.13778227, \n",
        "             31.67316587, 38.49802083, 49.36472683, 69.04306874, \n",
        "             45.20762281, 73.5836671, 100.61092317, 30.92480424, \n",
        "             37.15912948, 53.73782208, 69.36703357, 60.15384459, \n",
        "             43.20003949, 51.12609883, 64.77507512, 63.28721074, \n",
        "             62.754003, 71.7590419, 73.08977513, 75.48485174, \n",
        "             47.8968874, 62.25258739, 66.33673312, 43.71093919, \n",
        "             80.65634624, 72.25758668, 100.91480345, 32.02761357, \n",
        "             58.31892089, 71.4399215, 45.07120452, 69.71137689, \n",
        "             85.37226652, 55.67710588, 70.25367706, 55.81488767, \n",
        "             61.21107415, 55.42183671, 66.80712926, 36.99284828, \n",
        "             42.37050081, 79.61120896, 58.88769703, 79.59158327, \n",
        "             59.16570772, 70.02097967, 85.29993197, 32.41236279, \n",
        "             52.6081084, 68.17342096, 65.32976073, 60.00672926, \n",
        "             26.30035248, 87.44943179, 55.35068819, 60.28778429, \n",
        "             33.03668105, 80.18693884, 77.27496626, 76.7616852, \n",
        "             100.94978198, 59.46503936, 78.07629437, 51.6102307, \n",
        "             86.95385235, 85.41984014, 54.83564532, 58.06315164, \n",
        "             66.17243082, 62.27966342, 83.35735441, 44.7213871, \n",
        "             42.8362959, 71.72428838, 68.4553881, 55.93152855, \n",
        "             52.33224863, 65.53344277, 48.19362864, 64.92300871, \n",
        "             56.23992888, 78.11260866, 55.80999334, 82.06126322, \n",
        "             67.03112813, 51.22917649, 51.6408127, 63.48194033, \n",
        "             71.77803695, 71.3696262, 45.12124272, 82.24703749, \n",
        "             70.91202908, 62.51210475, 71.71280187, 66.37758047, \n",
        "             49.28266126, 41.29074798, 61.81010589, 39.62654933, \n",
        "             73.54046019, 71.08493364, 61.88315174, 57.41521882, \n",
        "             69.83162524, 65.90217343, 77.11136925, 86.72149744, \n",
        "             81.81406049, 65.85430935, 94.96433541, 69.97078382, \n",
        "             73.34687737, 75.05530607, 57.51618582, 62.3665881, \n",
        "             58.80615169, 63.38469779, 35.87580831, 46.22850701, \n",
        "             56.05164877, 55.33599773, 45.84709985, 51.93706339, \n",
        "             70.16258619, 65.97686424, 50.51337502, 46.76635411, \n",
        "             70.39019472, 42.0636888]"
      ],
      "execution_count": 0,
      "outputs": []
    },
    {
      "cell_type": "code",
      "metadata": {
        "id": "Z5JpZBvbWNIF",
        "colab_type": "code",
        "colab": {}
      },
      "source": [
        "# Preparing data into single numpy array for passing into statsmodels function\n",
        "v = np.concatenate([website_a_figures, website_b_figures, website_c_figures])"
      ],
      "execution_count": 0,
      "outputs": []
    },
    {
      "cell_type": "code",
      "metadata": {
        "id": "iUJTGB_UWc5b",
        "colab_type": "code",
        "colab": {}
      },
      "source": [
        "# Preparing labels for groups to pass into statsmodels function\n",
        "labels = ['website_a'] * len(website_a_figures) + \\\n",
        "         ['website_b'] * len(website_b_figures) + \\\n",
        "         ['website_c'] * len(website_c_figures)"
      ],
      "execution_count": 0,
      "outputs": []
    },
    {
      "cell_type": "code",
      "metadata": {
        "id": "qYrJqdg2XQ3W",
        "colab_type": "code",
        "colab": {}
      },
      "source": [
        "# Running tukeys range test with significance level of 0.05\n",
        "tukey_results = pairwise_tukeyhsd(v, labels, 0.05)"
      ],
      "execution_count": 0,
      "outputs": []
    },
    {
      "cell_type": "markdown",
      "metadata": {
        "id": "5RD0DLKaXdCN",
        "colab_type": "text"
      },
      "source": [
        "## Step 2 - Collect & Analyse Results"
      ]
    },
    {
      "cell_type": "code",
      "metadata": {
        "id": "dzs3zyE8Xg5P",
        "colab_type": "code",
        "outputId": "c0135288-a9c6-40c5-ea36-b7ca19464665",
        "colab": {
          "base_uri": "https://localhost:8080/",
          "height": 151
        }
      },
      "source": [
        "print(tukey_results)"
      ],
      "execution_count": 28,
      "outputs": [
        {
          "output_type": "stream",
          "text": [
            "    Multiple Comparison of Means - Tukey HSD, FWER=0.05     \n",
            "============================================================\n",
            "  group1    group2  meandiff p-adj   lower    upper   reject\n",
            "------------------------------------------------------------\n",
            "website_a website_b  90.0053  0.001  86.0247  93.9859   True\n",
            "website_a website_c   4.0115 0.0478   0.0309   7.9922   True\n",
            "website_b website_c -85.9938  0.001 -89.9744 -82.0131   True\n",
            "------------------------------------------------------------\n"
          ],
          "name": "stdout"
        }
      ]
    },
    {
      "cell_type": "markdown",
      "metadata": {
        "id": "9mNXeMntXoX2",
        "colab_type": "text"
      },
      "source": [
        "From the results it is indicating that there is a statistically significant difference between:\n",
        "\n",
        "\n",
        "\n",
        "*   website_a and website_b figures\n",
        "*   website_a and website_c figures\n",
        "*   website_b and website_c figures\n",
        "\n"
      ]
    },
    {
      "cell_type": "markdown",
      "metadata": {
        "id": "lVzDc6r2T-a6",
        "colab_type": "text"
      },
      "source": [
        "# 4. Assumptions\n",
        "\n",
        "*   Observations are independent within and among groups\n",
        "*   The groups for each mean in the test are normally distributed\n",
        "*   There is equal within-group variance across the groups associated with each mean in the test (homogenity of variance)\n",
        "\n"
      ]
    }
  ]
}