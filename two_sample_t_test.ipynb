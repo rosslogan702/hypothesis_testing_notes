{
  "nbformat": 4,
  "nbformat_minor": 0,
  "metadata": {
    "colab": {
      "name": "two_sample_t_test.ipynb",
      "version": "0.3.2",
      "provenance": [],
      "collapsed_sections": [],
      "include_colab_link": true
    },
    "kernelspec": {
      "name": "python3",
      "display_name": "Python 3"
    }
  },
  "cells": [
    {
      "cell_type": "markdown",
      "metadata": {
        "id": "view-in-github",
        "colab_type": "text"
      },
      "source": [
        "<a href=\"https://colab.research.google.com/github/rosslogan702/hypothesis_testing_notes/blob/master/two_sample_t_test.ipynb\" target=\"_parent\"><img src=\"https://colab.research.google.com/assets/colab-badge.svg\" alt=\"Open In Colab\"/></a>"
      ]
    },
    {
      "cell_type": "markdown",
      "metadata": {
        "id": "NIJvhgpee6QI",
        "colab_type": "text"
      },
      "source": [
        "# Hypothesis Testing - 2 Sample T-Test"
      ]
    },
    {
      "cell_type": "markdown",
      "metadata": {
        "id": "_JRICVPqfB_l",
        "colab_type": "text"
      },
      "source": [
        "# Contents\n",
        "\n",
        "The focus of this notebook is the 2 Sample T-Test.\n",
        "\n",
        "The notebook will cover the following:\n",
        "\n",
        "\n",
        "\n",
        "1.   Description\n",
        "2.   Manual Calculation\n",
        "3.   Practical Examples using Scipy Library\n",
        "4. Assumptions\n",
        "\n"
      ]
    },
    {
      "cell_type": "markdown",
      "metadata": {
        "id": "Sl4yqrbXfRBB",
        "colab_type": "text"
      },
      "source": [
        "# 1. Description"
      ]
    },
    {
      "cell_type": "markdown",
      "metadata": {
        "id": "BAJsHLD4fVG2",
        "colab_type": "text"
      },
      "source": [
        "A 2 sample t-test investigates whether the means of two independent samples of data differ from each other.\n",
        "\n",
        "### Example\n",
        "\n",
        "Suppose that the average sales per day last week for an online store was 210 items per day. \n",
        "\n",
        "This week the average sales figure per day is 285 items. Did the average sales figure per day change or is this just part of natural fluctuations?\n",
        "\n",
        "The 2 Sample T-Test could be used to try and determine this.\n",
        "\n"
      ]
    },
    {
      "cell_type": "markdown",
      "metadata": {
        "id": "nnKBZwm3C1Ix",
        "colab_type": "text"
      },
      "source": [
        "# 2. Manual Calculation\n",
        "\n",
        "The following will detail the manual calculation steps required for performing a 2 Sample T-Test. The steps will be detailed through an example.\n",
        "\n"
      ]
    },
    {
      "cell_type": "markdown",
      "metadata": {
        "id": "gHbTMwPYEBuF",
        "colab_type": "text"
      },
      "source": [
        "## Manual Example - Voter Ages for different states\n",
        "\n",
        "We want to investigate whether the voting age for the state of florida and the state of new york is different.\n",
        "\n",
        "Two random samples of the ages of voters are collected. The samples of ages for the state of florida and new york are shown below.\n",
        "\n",
        "We want to test at the significance level of 5%."
      ]
    },
    {
      "cell_type": "code",
      "metadata": {
        "id": "2RGdw4AwEX2I",
        "colab_type": "code",
        "colab": {}
      },
      "source": [
        "import numpy as np\n",
        "florida_voter_ages = [44, 47, 60, 65, 47, 52, 56, 56, 44, 48, 50, 47, 55, 49, \n",
        "                      50, 50, 50, 41, 53, 47, 39, 50, 52, 43, 53, 51, 59, 53, \n",
        "                      51, 46, 32, 38, 32, 29, 40, 33, 30, 32, 29, 27, 30, 36, \n",
        "                      30, 31, 34, 27, 34, 26, 29, 33]\n",
        "\n",
        "ny_voter_ages = [46, 42, 39, 57, 45, 48, 46, 50, 41, 50, 45, 50, 51, 44, 50, \n",
        "                 46, 52, 57, 47, 53, 50, 48, 48, 41, 52, 40, 48, 44, 49, 51, \n",
        "                 27, 26, 30, 25, 31, 29, 28, 31, 33, 24, 23, 27, 23, 28, 27, \n",
        "                 31, 29, 26, 27, 25]"
      ],
      "execution_count": 0,
      "outputs": []
    },
    {
      "cell_type": "markdown",
      "metadata": {
        "id": "ctaLoM9LEgab",
        "colab_type": "text"
      },
      "source": [
        "## Step 1 - Define Null & Alternative Hypothesis\n",
        "\n",
        "$H_0$: There difference between the sample mean of florida voter ages and ny voter ages is equal to 0.\n",
        "\n",
        "$H_0: \\mu_\\text{florida voter age} - \\mu_\\text{new york voter age} = 0$\n",
        "\n",
        "$H_A$: The diference between the sample mean of florida voter ages and ny voter ages is not equal to 0.\n",
        "\n",
        "$H_A: \\mu_\\text{florida voter age} - \\mu_\\text{new york voter age} \\neq 0$"
      ]
    },
    {
      "cell_type": "markdown",
      "metadata": {
        "id": "WdmLFCQGTrU6",
        "colab_type": "text"
      },
      "source": [
        "## Step 2 - Calculate the T-Statistic"
      ]
    },
    {
      "cell_type": "markdown",
      "metadata": {
        "id": "F_J5JlB2Ez7N",
        "colab_type": "text"
      },
      "source": [
        "  \n",
        "\n",
        "$t\\text{-}statistic = \\frac{\\bar{x_1} - \\bar{x_2}}{\\sqrt{\\dfrac{s_1^2}{n_1} + \\dfrac{s_2^2}{n_2}}}$ \n",
        "\n",
        "This formula makes no assumption about the variance of the samples, if they are the same then it can be simplified."
      ]
    },
    {
      "cell_type": "markdown",
      "metadata": {
        "id": "2YRYNhUUXHSx",
        "colab_type": "text"
      },
      "source": [
        "variable meanings:  \n",
        "\n",
        "$\\bar{x_1}$ = sample mean of florida voter ages  \n",
        "$\\bar{x_2}$ = sample mean of new york voter ages   \n",
        "$\\bar{s_1^2}$ = variance of florida voter ages sample  \n",
        "$\\bar{s_2^2}$ = variance of new york voter ages sample  \n",
        "$n_1$ = number of samples in florida voter ages  \n",
        "$n_2$ = number of samples in new york voter ages "
      ]
    },
    {
      "cell_type": "code",
      "metadata": {
        "id": "YfuJyv17Gtew",
        "colab_type": "code",
        "outputId": "f863b5cd-9871-4942-f6d3-d2df4408791e",
        "colab": {
          "base_uri": "https://localhost:8080/",
          "height": 119
        }
      },
      "source": [
        "x_1 = np.mean(florida_voter_ages)\n",
        "x_2 = np.mean(ny_voter_ages)\n",
        "\n",
        "s_1 = np.std(florida_voter_ages)\n",
        "s_2 = np.std(ny_voter_ages)\n",
        "\n",
        "n_1 = len(florida_voter_ages)\n",
        "n_2 = len(ny_voter_ages)\n",
        "\n",
        "print('x_1: {0:.2f}'.format(x_1))\n",
        "print('x_2: {0:.2f}'.format(x_2))\n",
        "print('florida_voter_age_std: {0:.2f}'.format(s_1))\n",
        "print('ny_voter_age_std: {0:.2f}'.format(s_2))\n",
        "print('florida_voter_num_samples: {0:.2f}'.format(n_1))\n",
        "print('ny_voter_num_samples: {0:.2f}'.format(n_2))"
      ],
      "execution_count": 0,
      "outputs": [
        {
          "output_type": "stream",
          "text": [
            "x_1: 42.80\n",
            "x_2: 39.60\n",
            "florida_voter_age_std: 10.34\n",
            "ny_voter_age_std: 10.61\n",
            "florida_voter_num_samples: 50.00\n",
            "ny_voter_num_samples: 50.00\n"
          ],
          "name": "stdout"
        }
      ]
    },
    {
      "cell_type": "code",
      "metadata": {
        "id": "7_yA5tMeIOg8",
        "colab_type": "code",
        "outputId": "e3c2be4c-befa-4c23-cc0d-462e8bd17871",
        "colab": {
          "base_uri": "https://localhost:8080/",
          "height": 34
        }
      },
      "source": [
        "from math import sqrt\n",
        "t_stat = (x_1 - x_2)/np.sqrt((s_1**2/n_1) + (s_2**2/n_2))\n",
        "print('t-statistic: {0:.3f}'.format(t_stat))"
      ],
      "execution_count": 0,
      "outputs": [
        {
          "output_type": "stream",
          "text": [
            "t-statistic: 1.527\n"
          ],
          "name": "stdout"
        }
      ]
    },
    {
      "cell_type": "markdown",
      "metadata": {
        "id": "NW7Mb5J5KrOw",
        "colab_type": "text"
      },
      "source": [
        "## Step 3 Find the T-Table Value\n",
        "\n",
        "To find the t-table value you need:\n",
        "\n",
        "The alpha level: given as 5% in the question  \n",
        "The degrees of freedom - which is the total number of samples from each -2     \n",
        "A T-Table - http://www.sjsu.edu/faculty/gerstman/StatPrimer/t-table.pdf  \n",
        "\n",
        "Looking up 98 degrees of freedom in the left column and the corresponding 0.05 in the top row gives a value of 1.990.\n",
        "\n",
        "(98 degrees of freedom did not exist in the t-table used so we drop to the next closest lower degress of freedom which was 80).\n",
        "\n",
        "This value means that we would expect most values to fall under 1.990. If our calculated t-value falls within this range, the null hypothesis is likely true.\n",
        "\n"
      ]
    },
    {
      "cell_type": "markdown",
      "metadata": {
        "id": "lG6JHExlNLAG",
        "colab_type": "text"
      },
      "source": [
        "## Step 4 - Compare the calculated t-value to the critical value from t-table\n",
        "\n",
        "In this case the value from step 2 does not fall into the range calculated in step 3, so we do not reject the null hypothesis.\n",
        "\n",
        "The value 1.527 falls within this region.\n",
        "\n",
        "(When inspecting the t-stat value from section 3 on the same dataset, the values are slightly different however this is most likely due to the scipy library returning a more accurate t-table value, we have done an approximation using 80 DOF when we were really interested in 98)."
      ]
    },
    {
      "cell_type": "markdown",
      "metadata": {
        "id": "RADEASYAiKoh",
        "colab_type": "text"
      },
      "source": [
        "# 3. Practical Examples using Scipy Library\n",
        "\n",
        "Scipy code: https://docs.scipy.org/doc/scipy/reference/generated/scipy.stats.ttest_ind.html"
      ]
    },
    {
      "cell_type": "markdown",
      "metadata": {
        "id": "UeRzPZGpiSkV",
        "colab_type": "text"
      },
      "source": [
        "## Example 1 - Audio Book App Usage Time\n",
        "\n",
        "A new audio book app collects data from two different weeks. The data is the app usage time of its users. It finds that the average amount of listening time from its user in the first week was ~ 25.4 minutes and ~ 29 minutes in the second week.\n",
        "\n",
        "Did the average usage time per user change or is this part of natural fluctuations?"
      ]
    },
    {
      "cell_type": "code",
      "metadata": {
        "id": "wl9HKC9xjN4w",
        "colab_type": "code",
        "colab": {}
      },
      "source": [
        "# Times in minutes of audio book app usage listening time from week 1 in minutes\n",
        "week_1_times = [23.90506824, 26.67631982, 27.27433886, 24.25757125, \n",
        "                32.40423483, 39.56919357, 23.07010059, 29.82068109,\n",
        "                27.59433809, 28.05639569, 27.06757262, 30.41192979,\n",
        "                25.71358554, 24.94294823, 28.23123807, 24.95337555,  \n",
        "                18.51231639, 27.46234762, 28.38016611, 13.91205901,\n",
        "                29.02615866, 26.90746774, 22.8677726,  24.8938289,  \n",
        "                25.96947935, 26.86869621, 20.72676456, 27.35988314,\n",
        "                20.68408581, 21.19846143, 16.25800931, 23.92517681,  \n",
        "                24.47923229, 29.47050863, 27.28425372, 26.93339272,  \n",
        "                28.61026924, 18.88377042, 33.65468651, 25.69470077,\n",
        "                20.98291356, 22.69700387, 28.60278855, 21.36000443,  \n",
        "                30.77685156, 20.83415999, 23.79367158, 19.7556718,\n",
        "                29.54421084, 20.1433138]"
      ],
      "execution_count": 0,
      "outputs": []
    },
    {
      "cell_type": "code",
      "metadata": {
        "id": "ZE1z4OFZlFMs",
        "colab_type": "code",
        "colab": {}
      },
      "source": [
        "# Times in mintes of audio book app usage listening time from week 2 in minutes\n",
        "week_2_times = [18.63431907, 31.28788036, 34.96797943, 21.81678117, \n",
        "                28.21619974, 39.39313736, 35.52223207, 27.54222109, \n",
        "                33.64395433, 25.31673581, 28.81392191, 30.7358016, \n",
        "                26.37241881, 26.0945555, 26.34073477, 19.42196017, \n",
        "                32.58797652, 24.84001926, 28.93348335, 20.43667584, \n",
        "                22.72495967, 32.31728012, 35.384306, 29.66709637, \n",
        "                24.53512973, 30.91406007, 19.56117513, 24.90816833, \n",
        "                30.13163726, 31.47466199, 27.77683598, 16.51307462, \n",
        "                35.0770162, 31.74818107, 36.36053496, 27.70500593, \n",
        "                29.49869936, 27.65575346, 37.18504075, 25.16055104, \n",
        "                29.26553553, 38.22163057, 28.92102091, 24.8215439, \n",
        "                38.30155495, 34.76020645, 22.26869162, 28.82593733, \n",
        "                32.00975127, 36.46437665]"
      ],
      "execution_count": 0,
      "outputs": []
    },
    {
      "cell_type": "markdown",
      "metadata": {
        "id": "hISaMNjpm188",
        "colab_type": "text"
      },
      "source": [
        "## Step 1 - Define Null Hypothesis and Alternative Hypothesis"
      ]
    },
    {
      "cell_type": "markdown",
      "metadata": {
        "id": "HxIp_V8SnGt7",
        "colab_type": "text"
      },
      "source": [
        "Null Hypothesis = $H_0$  \n",
        "Alternative Hypothesis = $H_A$  \n",
        "\n",
        "$H_0$: The difference between the sample mean of app listening times for week 1 and week 2 is equal to 0.\n",
        "\n",
        "$H_0: \\mu_\\text{week_1} - \\mu_\\text{week_2} = 0$\n",
        "\n",
        "$H_A$: The difference between the sample mean of app listening times for week 1 and week 2 is not equal to 0.\n",
        "\n",
        "$H_A: \\mu_\\text{week_1} - \\mu_\\text{week_2} \\neq 0$"
      ]
    },
    {
      "cell_type": "markdown",
      "metadata": {
        "id": "Ndq5lOPtn_AU",
        "colab_type": "text"
      },
      "source": [
        "## Step 2 - Prepare Data & Run Test"
      ]
    },
    {
      "cell_type": "code",
      "metadata": {
        "id": "4llAoN39oA92",
        "colab_type": "code",
        "colab": {}
      },
      "source": [
        "from scipy.stats import ttest_ind\n",
        "import numpy as np"
      ],
      "execution_count": 0,
      "outputs": []
    },
    {
      "cell_type": "code",
      "metadata": {
        "id": "3lebl6nyoFUu",
        "colab_type": "code",
        "colab": {}
      },
      "source": [
        "# Collect Statistics about each week\n",
        "week_1_mean = np.mean(week_1_times)\n",
        "week_2_mean = np.mean(week_2_times)\n",
        "\n",
        "week_1_std = np.std(week_1_times)\n",
        "week_2_std = np.std(week_2_times)"
      ],
      "execution_count": 0,
      "outputs": []
    },
    {
      "cell_type": "code",
      "metadata": {
        "id": "NVr3yV7KoWZd",
        "colab_type": "code",
        "outputId": "fabbbcf7-9b46-4892-8b7d-df56c0262fef",
        "colab": {
          "base_uri": "https://localhost:8080/",
          "height": 85
        }
      },
      "source": [
        "# Print statistics\n",
        "print('Week 1 mean: {}'.format(week_1_mean))\n",
        "print('Week 1 std:  {}'.format(week_1_std))\n",
        "print('Week 2 mean: {}'.format(week_2_mean))\n",
        "print('Week 2 std:  {}'.format(week_2_std))"
      ],
      "execution_count": 0,
      "outputs": [
        {
          "output_type": "stream",
          "text": [
            "Week 1 mean: 25.4480593952\n",
            "Week 1 std:  4.531693386680561\n",
            "Week 2 mean: 29.0215681076\n",
            "Week 2 std:  5.497966708987187\n"
          ],
          "name": "stdout"
        }
      ]
    },
    {
      "cell_type": "code",
      "metadata": {
        "id": "pv2ARtQ1ob8s",
        "colab_type": "code",
        "colab": {}
      },
      "source": [
        "# Run test using scipy lib\n",
        "_, pval = ttest_ind(week_1_times, week_2_times)"
      ],
      "execution_count": 0,
      "outputs": []
    },
    {
      "cell_type": "markdown",
      "metadata": {
        "id": "Spm4YwG_ox99",
        "colab_type": "text"
      },
      "source": [
        "## Step 3 - Collect & Analyse Results"
      ]
    },
    {
      "cell_type": "code",
      "metadata": {
        "id": "F3_HuZyzo2rP",
        "colab_type": "code",
        "outputId": "ad3addd7-4c1e-4050-b1c9-170ad161c6a7",
        "colab": {
          "base_uri": "https://localhost:8080/",
          "height": 51
        }
      },
      "source": [
        "print('pval: {:.6f}'.format(pval))\n",
        "if pval < 0.05:\n",
        "  print(\"Result is statistically significant! The listening time between week 1 and week 2 has changed!\")\n",
        "else:\n",
        "  print(\"Result is not statistically signifcant! The listening time between week 1 and week 2 has not changed!\")"
      ],
      "execution_count": 0,
      "outputs": [
        {
          "output_type": "stream",
          "text": [
            "pval: 0.000677\n",
            "Result is statistically significant! The listening time between week 1 and week 2 has changed!\n"
          ],
          "name": "stdout"
        }
      ]
    },
    {
      "cell_type": "markdown",
      "metadata": {
        "id": "wUSmcH09Pysr",
        "colab_type": "text"
      },
      "source": [
        "## Example 2 - Voter ages for different states.\n",
        "\n",
        "We want to investigate whether the voting age for the state of florida and the state of new york is different.\n",
        "\n",
        "Two random samples of the ages of voters are collected. The samples of ages for the state of florida and new york are shown below.\n",
        "\n"
      ]
    },
    {
      "cell_type": "code",
      "metadata": {
        "id": "-JeRFgcwRiql",
        "colab_type": "code",
        "colab": {}
      },
      "source": [
        "florida_voter_ages = [44, 47, 60, 65, 47, 52, 56, 56, 44, 48, 50, 47, 55, 49, \n",
        "                      50, 50, 50, 41, 53, 47, 39, 50, 52, 43, 53, 51, 59, 53, \n",
        "                      51, 46, 32, 38, 32, 29, 40, 33, 30, 32, 29, 27, 30, 36, \n",
        "                      30, 31, 34, 27, 34, 26, 29, 33]"
      ],
      "execution_count": 0,
      "outputs": []
    },
    {
      "cell_type": "code",
      "metadata": {
        "id": "XAz3c8qxRyNi",
        "colab_type": "code",
        "colab": {}
      },
      "source": [
        "ny_voter_ages = [46, 42, 39, 57, 45, 48, 46, 50, 41, 50, 45, 50, 51, 44, 50, \n",
        "                 46, 52, 57, 47, 53, 50, 48, 48, 41, 52, 40, 48, 44, 49, 51, \n",
        "                 27, 26, 30, 25, 31, 29, 28, 31, 33, 24, 23, 27, 23, 28, 27, \n",
        "                 31, 29, 26, 27, 25]"
      ],
      "execution_count": 0,
      "outputs": []
    },
    {
      "cell_type": "markdown",
      "metadata": {
        "id": "iz9BrUjuSP_I",
        "colab_type": "text"
      },
      "source": [
        "## 1. Define Null Hypothesis and Alternative Hypothesis"
      ]
    },
    {
      "cell_type": "markdown",
      "metadata": {
        "id": "M8drEn9uScuR",
        "colab_type": "text"
      },
      "source": [
        "$H_0$: There difference between the sample mean of florida voter ages and ny voter ages is equal to 0.\n",
        "\n",
        "$H_0: \\mu_\\text{florida voter age} - \\mu_\\text{new york voter age} = 0$\n",
        "\n",
        "$H_A$: The diference between the sample mean of florida voter ages and ny voter ages is not equal to 0.\n",
        "\n",
        "$H_A: \\mu_\\text{florida voter age} - \\mu_\\text{new york voter age} \\neq 0$\n",
        "\n"
      ]
    },
    {
      "cell_type": "markdown",
      "metadata": {
        "id": "IW36I_UhS0tq",
        "colab_type": "text"
      },
      "source": [
        "## Step 2 - Prepare Data & Run Test"
      ]
    },
    {
      "cell_type": "code",
      "metadata": {
        "id": "KLHA1wIWS97w",
        "colab_type": "code",
        "colab": {}
      },
      "source": [
        "from scipy.stats import ttest_ind\n",
        "import numpy as np"
      ],
      "execution_count": 0,
      "outputs": []
    },
    {
      "cell_type": "code",
      "metadata": {
        "id": "mIhm3-RXS_8c",
        "colab_type": "code",
        "colab": {}
      },
      "source": [
        "# Collect Statistics about each week\n",
        "florida_voter_mean = np.mean(florida_voter_ages)\n",
        "ny_voter_mean = np.mean(ny_voter_ages)\n",
        "\n",
        "florida_voter_std = np.std(florida_voter_ages)\n",
        "ny_voter_std = np.std(ny_voter_ages)"
      ],
      "execution_count": 0,
      "outputs": []
    },
    {
      "cell_type": "code",
      "metadata": {
        "id": "4gx-hJa6TCTP",
        "colab_type": "code",
        "outputId": "e788c9f5-1c6f-4e2e-d485-5cf2b2312c8d",
        "colab": {
          "base_uri": "https://localhost:8080/",
          "height": 85
        }
      },
      "source": [
        "# Print statistics\n",
        "print('Florida Voter Mean: {}'.format(florida_voter_mean))\n",
        "print('Florida Voter std:  {}'.format(florida_voter_std))\n",
        "print('New York Mean: {}'.format(ny_voter_mean))\n",
        "print('New York std:  {}'.format(ny_voter_std))"
      ],
      "execution_count": 0,
      "outputs": [
        {
          "output_type": "stream",
          "text": [
            "Florida Voter Mean: 42.8\n",
            "Florida Voter std:  10.342146779078316\n",
            "New York Mean: 39.6\n",
            "New York std:  10.607544484940895\n"
          ],
          "name": "stdout"
        }
      ]
    },
    {
      "cell_type": "code",
      "metadata": {
        "id": "vVNqCHizTvwq",
        "colab_type": "code",
        "colab": {}
      },
      "source": [
        "# Run test using scipy lib\n",
        "t_stat, p_val = ttest_ind(florida_voter_ages, ny_voter_ages)"
      ],
      "execution_count": 0,
      "outputs": []
    },
    {
      "cell_type": "code",
      "metadata": {
        "id": "hvjd2odzSukR",
        "colab_type": "code",
        "outputId": "631e230d-e158-4767-cc62-17015b5528e6",
        "colab": {
          "base_uri": "https://localhost:8080/",
          "height": 51
        }
      },
      "source": [
        "print('t_stat: {0:.3f}'.format(t_stat))\n",
        "print('p_val: {0:.3f}'.format(p_val))"
      ],
      "execution_count": 0,
      "outputs": [
        {
          "output_type": "stream",
          "text": [
            "t_stat: 1.512\n",
            "p_val: 0.134\n"
          ],
          "name": "stdout"
        }
      ]
    },
    {
      "cell_type": "markdown",
      "metadata": {
        "id": "-DDnTI8jUJUl",
        "colab_type": "text"
      },
      "source": [
        "## Step 3 - Collect & Analyse Results"
      ]
    },
    {
      "cell_type": "code",
      "metadata": {
        "id": "ou39c2VaUL4c",
        "colab_type": "code",
        "outputId": "7255fab0-7a87-4384-d804-f650d5d716fd",
        "colab": {
          "base_uri": "https://localhost:8080/",
          "height": 51
        }
      },
      "source": [
        "print('pval: {:.6f}'.format(pval))\n",
        "if pval < 0.05:\n",
        "  print(\"Result is statistically significant!\")\n",
        "else:\n",
        "  print(\"Result is not statistically signifcant!\")"
      ],
      "execution_count": 0,
      "outputs": [
        {
          "output_type": "stream",
          "text": [
            "pval: 0.000677\n",
            "Result is statistically significant!\n"
          ],
          "name": "stdout"
        }
      ]
    },
    {
      "cell_type": "markdown",
      "metadata": {
        "id": "_SPPQ6VVpuXT",
        "colab_type": "text"
      },
      "source": [
        "# 4. Assumptions & Notes\n",
        "\n",
        "The order of the datasets entered into the scipy library does not matter. We are testing whether there is a significant difference between both sets of data. The order is irrelevant.  \n",
        "\n",
        "The data is assumed to be approximately normally distributed across both sets of data.\n"
      ]
    }
  ]
}