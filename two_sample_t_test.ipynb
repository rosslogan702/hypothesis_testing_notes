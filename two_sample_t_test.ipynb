{
  "nbformat": 4,
  "nbformat_minor": 0,
  "metadata": {
    "colab": {
      "name": "two_sample_t_test.ipynb",
      "version": "0.3.2",
      "provenance": [],
      "collapsed_sections": [],
      "include_colab_link": true
    },
    "kernelspec": {
      "name": "python3",
      "display_name": "Python 3"
    }
  },
  "cells": [
    {
      "cell_type": "markdown",
      "metadata": {
        "id": "view-in-github",
        "colab_type": "text"
      },
      "source": [
        "<a href=\"https://colab.research.google.com/github/rosslogan702/hypothesis_testing_notes/blob/master/two_sample_t_test.ipynb\" target=\"_parent\"><img src=\"https://colab.research.google.com/assets/colab-badge.svg\" alt=\"Open In Colab\"/></a>"
      ]
    },
    {
      "cell_type": "markdown",
      "metadata": {
        "id": "NIJvhgpee6QI",
        "colab_type": "text"
      },
      "source": [
        "# Hypothesis Testing - 2 Sample T-Test"
      ]
    },
    {
      "cell_type": "markdown",
      "metadata": {
        "id": "_JRICVPqfB_l",
        "colab_type": "text"
      },
      "source": [
        "# Contents\n",
        "\n",
        "The focus of this notebook is 2 Sample T-Tests.\n",
        "\n",
        "The notebook will cover the following:\n",
        "\n",
        "\n",
        "\n",
        "1.   Description\n",
        "2.   Manual Calculation\n",
        "3.   Practical Examples using Scipy Library\n",
        "4. Assumptions\n",
        "\n"
      ]
    },
    {
      "cell_type": "markdown",
      "metadata": {
        "id": "Sl4yqrbXfRBB",
        "colab_type": "text"
      },
      "source": [
        "# 1. Description"
      ]
    },
    {
      "cell_type": "markdown",
      "metadata": {
        "id": "BAJsHLD4fVG2",
        "colab_type": "text"
      },
      "source": [
        "A 2 Sample T-Test compares two sets of data, which are both approximately normally distributed to determine if there is a significant difference between them.\n",
        "\n",
        "### Example\n",
        "\n",
        "Suppose that the average sales per day last week for an online store was 210 items per day. \n",
        "\n",
        "This week the average sales figure per day is 285 items. Did the average sales figure per day change or is this just part of natural fluctuations?\n",
        "\n",
        "The 2 Sample T-Test could be used to try and determine this.\n",
        "\n"
      ]
    },
    {
      "cell_type": "markdown",
      "metadata": {
        "id": "RADEASYAiKoh",
        "colab_type": "text"
      },
      "source": [
        "# 3. Practical Examples using Scipy Library"
      ]
    },
    {
      "cell_type": "markdown",
      "metadata": {
        "id": "UeRzPZGpiSkV",
        "colab_type": "text"
      },
      "source": [
        "## Example 1 - Audio Book App Usage Time\n",
        "\n",
        "A new audio book app collects data from two different weeks. The data is the app usage time of its users. It finds that the average amount of listening time from its user in the first week was x minutes and y minutes in the second week.\n",
        "\n",
        "Did the average usage time per user change or is this part of natural fluctuations?"
      ]
    },
    {
      "cell_type": "code",
      "metadata": {
        "id": "wl9HKC9xjN4w",
        "colab_type": "code",
        "colab": {}
      },
      "source": [
        "# Times in minutes of audio book app usage listening time from week 1\n",
        "week_1_times = [23.90506824, 26.67631982, 27.27433886, 24.25757125, \n",
        "                32.40423483, 39.56919357, 23.07010059, 29.82068109,\n",
        "                27.59433809, 28.05639569, 27.06757262, 30.41192979,\n",
        "                25.71358554, 24.94294823, 28.23123807, 24.95337555,  \n",
        "                18.51231639, 27.46234762, 28.38016611, 13.91205901,\n",
        "                29.02615866, 26.90746774, 22.8677726,  24.8938289,  \n",
        "                25.96947935, 26.86869621, 20.72676456, 27.35988314,\n",
        "                20.68408581, 21.19846143, 16.25800931, 23.92517681,  \n",
        "                24.47923229, 29.47050863, 27.28425372, 26.93339272,  \n",
        "                28.61026924, 18.88377042, 33.65468651, 25.69470077,\n",
        "                20.98291356, 22.69700387, 28.60278855, 21.36000443,  \n",
        "                30.77685156, 20.83415999, 23.79367158, 19.7556718,\n",
        "                29.54421084, 20.1433138]"
      ],
      "execution_count": 0,
      "outputs": []
    },
    {
      "cell_type": "code",
      "metadata": {
        "id": "ZE1z4OFZlFMs",
        "colab_type": "code",
        "colab": {}
      },
      "source": [
        "# Times in mintes of audio book app usage listening time from week 2\n",
        "week_2_times = [18.63431907, 31.28788036, 34.96797943, 21.81678117, \n",
        "                28.21619974, 39.39313736, 35.52223207, 27.54222109, \n",
        "                33.64395433, 25.31673581, 28.81392191, 30.7358016, \n",
        "                26.37241881, 26.0945555, 26.34073477, 19.42196017, \n",
        "                32.58797652, 24.84001926, 28.93348335, 20.43667584, \n",
        "                22.72495967, 32.31728012, 35.384306, 29.66709637, \n",
        "                24.53512973, 30.91406007, 19.56117513, 24.90816833, \n",
        "                30.13163726, 31.47466199, 27.77683598, 16.51307462, \n",
        "                35.0770162, 31.74818107, 36.36053496, 27.70500593, \n",
        "                29.49869936, 27.65575346, 37.18504075, 25.16055104, \n",
        "                29.26553553, 38.22163057, 28.92102091, 24.8215439, \n",
        "                38.30155495, 34.76020645, 22.26869162, 28.82593733, \n",
        "                32.00975127, 36.46437665]"
      ],
      "execution_count": 0,
      "outputs": []
    },
    {
      "cell_type": "markdown",
      "metadata": {
        "id": "hISaMNjpm188",
        "colab_type": "text"
      },
      "source": [
        "## Step 1 - Define Null Hypothesis and Alternative Hypothesis"
      ]
    },
    {
      "cell_type": "markdown",
      "metadata": {
        "id": "HxIp_V8SnGt7",
        "colab_type": "text"
      },
      "source": [
        "**Null Hypothesis**: There is no significant difference between the listening times  for the audio book app between week 1 and week 2.\n",
        "\n",
        "**Alternative Hypothesis**: There is a significant difference between the listening times for the audio book app between week 1 and week 2."
      ]
    },
    {
      "cell_type": "markdown",
      "metadata": {
        "id": "Ndq5lOPtn_AU",
        "colab_type": "text"
      },
      "source": [
        "## Step 2 - Prepare Data & Run Test"
      ]
    },
    {
      "cell_type": "code",
      "metadata": {
        "id": "4llAoN39oA92",
        "colab_type": "code",
        "colab": {}
      },
      "source": [
        "from scipy.stats import ttest_ind\n",
        "import numpy as np"
      ],
      "execution_count": 0,
      "outputs": []
    },
    {
      "cell_type": "code",
      "metadata": {
        "id": "3lebl6nyoFUu",
        "colab_type": "code",
        "colab": {}
      },
      "source": [
        "# Collect Statistics about each week\n",
        "week_1_mean = np.mean(week_1_times)\n",
        "week_2_mean = np.mean(week_2_times)\n",
        "\n",
        "week_1_std = np.std(week_1_times)\n",
        "week_2_std = np.std(week_2_times)"
      ],
      "execution_count": 0,
      "outputs": []
    },
    {
      "cell_type": "code",
      "metadata": {
        "id": "NVr3yV7KoWZd",
        "colab_type": "code",
        "outputId": "f9ac7577-dc50-43e4-87aa-43c6a97dd8cb",
        "colab": {
          "base_uri": "https://localhost:8080/",
          "height": 85
        }
      },
      "source": [
        "# Print statistics\n",
        "print('Week 1 mean: {}'.format(week_1_mean))\n",
        "print('Week 1 std:  {}'.format(week_1_std))\n",
        "print('Week 2 mean: {}'.format(week_2_mean))\n",
        "print('Week 2 std:  {}'.format(week_2_std))"
      ],
      "execution_count": 0,
      "outputs": [
        {
          "output_type": "stream",
          "text": [
            "Week 1 mean: 25.4480593952\n",
            "Week 1 std:  4.531693386680561\n",
            "Week 2 mean: 29.0215681076\n",
            "Week 2 std:  5.497966708987187\n"
          ],
          "name": "stdout"
        }
      ]
    },
    {
      "cell_type": "code",
      "metadata": {
        "id": "pv2ARtQ1ob8s",
        "colab_type": "code",
        "colab": {}
      },
      "source": [
        "# Run test using scipy lib\n",
        "_, pval = ttest_ind(week_1_times, week_2_times)"
      ],
      "execution_count": 0,
      "outputs": []
    },
    {
      "cell_type": "markdown",
      "metadata": {
        "id": "Spm4YwG_ox99",
        "colab_type": "text"
      },
      "source": [
        "## Step 3 - Collect & Analyse Results"
      ]
    },
    {
      "cell_type": "code",
      "metadata": {
        "id": "F3_HuZyzo2rP",
        "colab_type": "code",
        "outputId": "14ddb38b-2ea5-43bf-95f6-c77696c42e51",
        "colab": {
          "base_uri": "https://localhost:8080/",
          "height": 71
        }
      },
      "source": [
        "print('pval: {:.6f}'.format(pval))\n",
        "if pval < 0.05:\n",
        "  print(\"Result is statistically significant! The listening time between week 1 and week 2 has changed!\")\n",
        "else:\n",
        "  print(\"Result is not statistically signifcant! The listening time between week 1 and week 2 has not changed!\")"
      ],
      "execution_count": 0,
      "outputs": [
        {
          "output_type": "stream",
          "text": [
            "pval: 0.000677\n",
            "Result is statistically significant! The listening time between week 1 and week 2 has changed!\n"
          ],
          "name": "stdout"
        }
      ]
    },
    {
      "cell_type": "markdown",
      "metadata": {
        "id": "_SPPQ6VVpuXT",
        "colab_type": "text"
      },
      "source": [
        "# 4. Assumptions & Notes\n",
        "\n",
        "The order of the datasets entered into the scipy library does not matter. We are testing whether there is a significant difference between both sets of data. The order is irrelevant.  \n",
        "\n",
        "The data is assumed to be approximately normally distributed across both sets of data."
      ]
    },
    {
      "cell_type": "code",
      "metadata": {
        "id": "EGz3Slecp6zT",
        "colab_type": "code",
        "colab": {}
      },
      "source": [
        ""
      ],
      "execution_count": 0,
      "outputs": []
    }
  ]
}