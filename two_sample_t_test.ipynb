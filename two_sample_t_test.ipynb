{
  "nbformat": 4,
  "nbformat_minor": 0,
  "metadata": {
    "colab": {
      "name": "two_sample_t_test.ipynb",
      "version": "0.3.2",
      "provenance": [],
      "collapsed_sections": [],
      "include_colab_link": true
    },
    "kernelspec": {
      "name": "python3",
      "display_name": "Python 3"
    }
  },
  "cells": [
    {
      "cell_type": "markdown",
      "metadata": {
        "id": "view-in-github",
        "colab_type": "text"
      },
      "source": [
        "<a href=\"https://colab.research.google.com/github/rosslogan702/hypothesis_testing_notes/blob/master/two_sample_t_test.ipynb\" target=\"_parent\"><img src=\"https://colab.research.google.com/assets/colab-badge.svg\" alt=\"Open In Colab\"/></a>"
      ]
    },
    {
      "cell_type": "markdown",
      "metadata": {
        "id": "NIJvhgpee6QI",
        "colab_type": "text"
      },
      "source": [
        "# Hypothesis Testing - 2 Sample T-Test"
      ]
    },
    {
      "cell_type": "markdown",
      "metadata": {
        "id": "_JRICVPqfB_l",
        "colab_type": "text"
      },
      "source": [
        "# Contents\n",
        "\n",
        "The focus of this notebook is 2 Sample T-Tests.\n",
        "\n",
        "The notebook will cover the following:\n",
        "\n",
        "\n",
        "\n",
        "1.   Description\n",
        "2.   Manual Calculation\n",
        "3.   Practical Examples using Scipy Library\n",
        "4. Assumptions\n",
        "\n"
      ]
    },
    {
      "cell_type": "markdown",
      "metadata": {
        "id": "Sl4yqrbXfRBB",
        "colab_type": "text"
      },
      "source": [
        "# 1. Description"
      ]
    },
    {
      "cell_type": "markdown",
      "metadata": {
        "id": "BAJsHLD4fVG2",
        "colab_type": "text"
      },
      "source": [
        "A 2 sample t-test investigates whether the means of two independent samples of data differ from each other.\n",
        "\n",
        "### Example\n",
        "\n",
        "Suppose that the average sales per day last week for an online store was 210 items per day. \n",
        "\n",
        "This week the average sales figure per day is 285 items. Did the average sales figure per day change or is this just part of natural fluctuations?\n",
        "\n",
        "The 2 Sample T-Test could be used to try and determine this.\n",
        "\n"
      ]
    },
    {
      "cell_type": "markdown",
      "metadata": {
        "id": "RADEASYAiKoh",
        "colab_type": "text"
      },
      "source": [
        "# 3. Practical Examples using Scipy Library"
      ]
    },
    {
      "cell_type": "markdown",
      "metadata": {
        "id": "UeRzPZGpiSkV",
        "colab_type": "text"
      },
      "source": [
        "## Example 1 - Audio Book App Usage Time\n",
        "\n",
        "A new audio book app collects data from two different weeks. The data is the app usage time of its users. It finds that the average amount of listening time from its user in the first week was x minutes and y minutes in the second week.\n",
        "\n",
        "Did the average usage time per user change or is this part of natural fluctuations?"
      ]
    },
    {
      "cell_type": "code",
      "metadata": {
        "id": "wl9HKC9xjN4w",
        "colab_type": "code",
        "colab": {}
      },
      "source": [
        "# Times in minutes of audio book app usage listening time from week 1\n",
        "week_1_times = [23.90506824, 26.67631982, 27.27433886, 24.25757125, \n",
        "                32.40423483, 39.56919357, 23.07010059, 29.82068109,\n",
        "                27.59433809, 28.05639569, 27.06757262, 30.41192979,\n",
        "                25.71358554, 24.94294823, 28.23123807, 24.95337555,  \n",
        "                18.51231639, 27.46234762, 28.38016611, 13.91205901,\n",
        "                29.02615866, 26.90746774, 22.8677726,  24.8938289,  \n",
        "                25.96947935, 26.86869621, 20.72676456, 27.35988314,\n",
        "                20.68408581, 21.19846143, 16.25800931, 23.92517681,  \n",
        "                24.47923229, 29.47050863, 27.28425372, 26.93339272,  \n",
        "                28.61026924, 18.88377042, 33.65468651, 25.69470077,\n",
        "                20.98291356, 22.69700387, 28.60278855, 21.36000443,  \n",
        "                30.77685156, 20.83415999, 23.79367158, 19.7556718,\n",
        "                29.54421084, 20.1433138]"
      ],
      "execution_count": 0,
      "outputs": []
    },
    {
      "cell_type": "code",
      "metadata": {
        "id": "ZE1z4OFZlFMs",
        "colab_type": "code",
        "colab": {}
      },
      "source": [
        "# Times in mintes of audio book app usage listening time from week 2\n",
        "week_2_times = [18.63431907, 31.28788036, 34.96797943, 21.81678117, \n",
        "                28.21619974, 39.39313736, 35.52223207, 27.54222109, \n",
        "                33.64395433, 25.31673581, 28.81392191, 30.7358016, \n",
        "                26.37241881, 26.0945555, 26.34073477, 19.42196017, \n",
        "                32.58797652, 24.84001926, 28.93348335, 20.43667584, \n",
        "                22.72495967, 32.31728012, 35.384306, 29.66709637, \n",
        "                24.53512973, 30.91406007, 19.56117513, 24.90816833, \n",
        "                30.13163726, 31.47466199, 27.77683598, 16.51307462, \n",
        "                35.0770162, 31.74818107, 36.36053496, 27.70500593, \n",
        "                29.49869936, 27.65575346, 37.18504075, 25.16055104, \n",
        "                29.26553553, 38.22163057, 28.92102091, 24.8215439, \n",
        "                38.30155495, 34.76020645, 22.26869162, 28.82593733, \n",
        "                32.00975127, 36.46437665]"
      ],
      "execution_count": 0,
      "outputs": []
    },
    {
      "cell_type": "markdown",
      "metadata": {
        "id": "hISaMNjpm188",
        "colab_type": "text"
      },
      "source": [
        "## Step 1 - Define Null Hypothesis and Alternative Hypothesis"
      ]
    },
    {
      "cell_type": "markdown",
      "metadata": {
        "id": "HxIp_V8SnGt7",
        "colab_type": "text"
      },
      "source": [
        "**Null Hypothesis**: There is no significant difference between the listening times  for the audio book app between week 1 and week 2.\n",
        "\n",
        "**Alternative Hypothesis**: There is a significant difference between the listening times for the audio book app between week 1 and week 2."
      ]
    },
    {
      "cell_type": "markdown",
      "metadata": {
        "id": "Ndq5lOPtn_AU",
        "colab_type": "text"
      },
      "source": [
        "## Step 2 - Prepare Data & Run Test"
      ]
    },
    {
      "cell_type": "code",
      "metadata": {
        "id": "4llAoN39oA92",
        "colab_type": "code",
        "colab": {}
      },
      "source": [
        "from scipy.stats import ttest_ind\n",
        "import numpy as np"
      ],
      "execution_count": 0,
      "outputs": []
    },
    {
      "cell_type": "code",
      "metadata": {
        "id": "3lebl6nyoFUu",
        "colab_type": "code",
        "colab": {}
      },
      "source": [
        "# Collect Statistics about each week\n",
        "week_1_mean = np.mean(week_1_times)\n",
        "week_2_mean = np.mean(week_2_times)\n",
        "\n",
        "week_1_std = np.std(week_1_times)\n",
        "week_2_std = np.std(week_2_times)"
      ],
      "execution_count": 0,
      "outputs": []
    },
    {
      "cell_type": "code",
      "metadata": {
        "id": "NVr3yV7KoWZd",
        "colab_type": "code",
        "outputId": "ad7d6515-e05f-4fb5-a0a9-164c3e5f3c54",
        "colab": {
          "base_uri": "https://localhost:8080/",
          "height": 84
        }
      },
      "source": [
        "# Print statistics\n",
        "print('Week 1 mean: {}'.format(week_1_mean))\n",
        "print('Week 1 std:  {}'.format(week_1_std))\n",
        "print('Week 2 mean: {}'.format(week_2_mean))\n",
        "print('Week 2 std:  {}'.format(week_2_std))"
      ],
      "execution_count": 5,
      "outputs": [
        {
          "output_type": "stream",
          "text": [
            "Week 1 mean: 25.4480593952\n",
            "Week 1 std:  4.531693386680561\n",
            "Week 2 mean: 29.0215681076\n",
            "Week 2 std:  5.497966708987187\n"
          ],
          "name": "stdout"
        }
      ]
    },
    {
      "cell_type": "code",
      "metadata": {
        "id": "pv2ARtQ1ob8s",
        "colab_type": "code",
        "colab": {}
      },
      "source": [
        "# Run test using scipy lib\n",
        "_, pval = ttest_ind(week_1_times, week_2_times)"
      ],
      "execution_count": 0,
      "outputs": []
    },
    {
      "cell_type": "markdown",
      "metadata": {
        "id": "Spm4YwG_ox99",
        "colab_type": "text"
      },
      "source": [
        "## Step 3 - Collect & Analyse Results"
      ]
    },
    {
      "cell_type": "code",
      "metadata": {
        "id": "F3_HuZyzo2rP",
        "colab_type": "code",
        "outputId": "a14e67c1-ef99-4b43-e141-2bf15360bf78",
        "colab": {
          "base_uri": "https://localhost:8080/",
          "height": 70
        }
      },
      "source": [
        "print('pval: {:.6f}'.format(pval))\n",
        "if pval < 0.05:\n",
        "  print(\"Result is statistically significant! The listening time between week 1 and week 2 has changed!\")\n",
        "else:\n",
        "  print(\"Result is not statistically signifcant! The listening time between week 1 and week 2 has not changed!\")"
      ],
      "execution_count": 8,
      "outputs": [
        {
          "output_type": "stream",
          "text": [
            "pval: 0.000677\n",
            "Result is statistically significant! The listening time between week 1 and week 2 has changed!\n"
          ],
          "name": "stdout"
        }
      ]
    },
    {
      "cell_type": "markdown",
      "metadata": {
        "id": "wUSmcH09Pysr",
        "colab_type": "text"
      },
      "source": [
        "## Example 2 - Voter ages for different states.\n",
        "\n",
        "We want to investigate whether the voting age for the state of florida and the state of new york is different.\n",
        "\n",
        "Two random samples of the ages of voters are collected. The samples of ages for the state of florida and new york are shown below.\n",
        "\n"
      ]
    },
    {
      "cell_type": "code",
      "metadata": {
        "id": "-JeRFgcwRiql",
        "colab_type": "code",
        "colab": {}
      },
      "source": [
        "florida_voter_ages = [44, 47, 60, 65, 47, 52, 56, 56, 44, 48, 50, 47, 55, 49, \n",
        "                      50, 50, 50, 41, 53, 47, 39, 50, 52, 43, 53, 51, 59, 53, \n",
        "                      51, 46, 32, 38, 32, 29, 40, 33, 30, 32, 29, 27, 30, 36, \n",
        "                      30, 31, 34, 27, 34, 26, 29, 33]"
      ],
      "execution_count": 0,
      "outputs": []
    },
    {
      "cell_type": "code",
      "metadata": {
        "id": "XAz3c8qxRyNi",
        "colab_type": "code",
        "colab": {}
      },
      "source": [
        "ny_voter_ages = [46, 42, 39, 57, 45, 48, 46, 50, 41, 50, 45, 50, 51, 44, 50, \n",
        "                 46, 52, 57, 47, 53, 50, 48, 48, 41, 52, 40, 48, 44, 49, 51, \n",
        "                 27, 26, 30, 25, 31, 29, 28, 31, 33, 24, 23, 27, 23, 28, 27, \n",
        "                 31, 29, 26, 27, 25]"
      ],
      "execution_count": 0,
      "outputs": []
    },
    {
      "cell_type": "markdown",
      "metadata": {
        "id": "iz9BrUjuSP_I",
        "colab_type": "text"
      },
      "source": [
        "## 1. Define Null Hypothesis and Alternative Hypothesis"
      ]
    },
    {
      "cell_type": "markdown",
      "metadata": {
        "id": "M8drEn9uScuR",
        "colab_type": "text"
      },
      "source": [
        "**Null Hypothesis**: There is no difference between the sample mean of the voter age between florida and new york.\n",
        "\n",
        "**Alternative Hypothesis**: The sample mean of the voter age in florida is not equal to the sample mean of the voter age in new york. \n",
        "\n"
      ]
    },
    {
      "cell_type": "markdown",
      "metadata": {
        "id": "IW36I_UhS0tq",
        "colab_type": "text"
      },
      "source": [
        "## Step 2 - Prepare Data & Run Test"
      ]
    },
    {
      "cell_type": "code",
      "metadata": {
        "id": "KLHA1wIWS97w",
        "colab_type": "code",
        "colab": {}
      },
      "source": [
        "from scipy.stats import ttest_ind\n",
        "import numpy as np"
      ],
      "execution_count": 0,
      "outputs": []
    },
    {
      "cell_type": "code",
      "metadata": {
        "id": "mIhm3-RXS_8c",
        "colab_type": "code",
        "colab": {}
      },
      "source": [
        "# Collect Statistics about each week\n",
        "florida_voter_mean = np.mean(florida_voter_ages)\n",
        "ny_voter_mean = np.mean(ny_voter_ages)\n",
        "\n",
        "florida_voter_std = np.std(florida_voter_ages)\n",
        "ny_voter_std = np.std(ny_voter_ages)"
      ],
      "execution_count": 0,
      "outputs": []
    },
    {
      "cell_type": "code",
      "metadata": {
        "id": "4gx-hJa6TCTP",
        "colab_type": "code",
        "colab": {
          "base_uri": "https://localhost:8080/",
          "height": 84
        },
        "outputId": "12dba021-0e28-4639-f79e-e5fa3897c745"
      },
      "source": [
        "# Print statistics\n",
        "print('Florida Voter Mean: {}'.format(florida_voter_mean))\n",
        "print('Florida Voter std:  {}'.format(florida_voter_std))\n",
        "print('New York Mean: {}'.format(ny_voter_mean))\n",
        "print('New York std:  {}'.format(ny_voter_std))"
      ],
      "execution_count": 32,
      "outputs": [
        {
          "output_type": "stream",
          "text": [
            "Florida Voter Mean: 42.8\n",
            "Florida Voter std:  10.342146779078316\n",
            "New York Mean: 39.6\n",
            "New York std:  10.607544484940895\n"
          ],
          "name": "stdout"
        }
      ]
    },
    {
      "cell_type": "code",
      "metadata": {
        "id": "vVNqCHizTvwq",
        "colab_type": "code",
        "colab": {}
      },
      "source": [
        "# Run test using scipy lib\n",
        "_, pval = ttest_ind(florida_voter_ages, ny_voter_ages)"
      ],
      "execution_count": 0,
      "outputs": []
    },
    {
      "cell_type": "markdown",
      "metadata": {
        "id": "-DDnTI8jUJUl",
        "colab_type": "text"
      },
      "source": [
        "## Step 3 - Collect & Analyse Results"
      ]
    },
    {
      "cell_type": "code",
      "metadata": {
        "id": "ou39c2VaUL4c",
        "colab_type": "code",
        "colab": {
          "base_uri": "https://localhost:8080/",
          "height": 70
        },
        "outputId": "2f96cd66-699a-4f12-eaee-a0b42471e77b"
      },
      "source": [
        "print('pval: {:.6f}'.format(pval))\n",
        "if pval < 0.05:\n",
        "  print(\"Result is statistically significant! The mean voter age between florida and new york is different!\")\n",
        "else:\n",
        "  print(\"Result is not statistically signifcant! The mean voter age between florida and new york is not different!\")"
      ],
      "execution_count": 35,
      "outputs": [
        {
          "output_type": "stream",
          "text": [
            "pval: 0.133753\n",
            "Result is not statistically signifcant! The mean voter age between florida and new york is not different!\n"
          ],
          "name": "stdout"
        }
      ]
    },
    {
      "cell_type": "markdown",
      "metadata": {
        "id": "_SPPQ6VVpuXT",
        "colab_type": "text"
      },
      "source": [
        "# 4. Assumptions & Notes\n",
        "\n",
        "The order of the datasets entered into the scipy library does not matter. We are testing whether there is a significant difference between both sets of data. The order is irrelevant.  \n",
        "\n",
        "The data is assumed to be approximately normally distributed across both sets of data."
      ]
    },
    {
      "cell_type": "code",
      "metadata": {
        "id": "EGz3Slecp6zT",
        "colab_type": "code",
        "colab": {}
      },
      "source": [
        ""
      ],
      "execution_count": 0,
      "outputs": []
    }
  ]
}