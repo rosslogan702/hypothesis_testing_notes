{
  "nbformat": 4,
  "nbformat_minor": 0,
  "metadata": {
    "colab": {
      "name": "sample_size_determination.ipynb",
      "provenance": [],
      "collapsed_sections": [],
      "include_colab_link": true
    },
    "kernelspec": {
      "name": "python3",
      "display_name": "Python 3"
    }
  },
  "cells": [
    {
      "cell_type": "markdown",
      "metadata": {
        "id": "view-in-github",
        "colab_type": "text"
      },
      "source": [
        "<a href=\"https://colab.research.google.com/github/rosslogan702/hypothesis_testing_notes/blob/master/sample_size_determination.ipynb\" target=\"_parent\"><img src=\"https://colab.research.google.com/assets/colab-badge.svg\" alt=\"Open In Colab\"/></a>"
      ]
    },
    {
      "cell_type": "markdown",
      "metadata": {
        "id": "KhjVGNeje9EF",
        "colab_type": "text"
      },
      "source": [
        "# Hypothesis Testing - Sample Size Determination A/B Testing"
      ]
    },
    {
      "cell_type": "markdown",
      "metadata": {
        "id": "Gn8pISB3fE5S",
        "colab_type": "text"
      },
      "source": [
        "# Contents\n",
        "\n",
        "The focus of this notebook is sample size determination for A/B Testing.\n",
        "\n",
        "The notebook will cover the following:\n",
        "\n",
        "\n",
        "\n",
        "1.   Description\n",
        "2.   Power Analysis & How to Calculate Sample Size Manually\n",
        "3.   Practical Examples of Sample Size Determination"
      ]
    },
    {
      "cell_type": "markdown",
      "metadata": {
        "id": "2-I7x41lfRXR",
        "colab_type": "text"
      },
      "source": [
        "# 1. Description\n",
        "\n",
        "Sample size determination for A/B Testing is an important part of any experiment that is planned to be run. \n",
        "\n",
        "Running an experiment takes time and effort, and we don't want to run the experiment without having an appropriate sized sample to be able to be confident in the results.\n",
        "\n",
        "As an example, if we were to ask 10 people who they were voting for in the next US presidential election. The sample size of 10 people would be insufficient to try to predict the results of the election.\n",
        "\n",
        "There are a number of values that are required to be used as part of a calculation to determine the sample size.\n",
        "\n",
        "These are:\n",
        "\n",
        "\n",
        "*   Baseline conversion rate\n",
        "*   Statistical significance\n",
        "*   Minimum detectable effect\n",
        "*   Statistical Signifiance Level\n",
        "*   Power\n",
        "\n",
        "An A/B test is a scientific way of choosing between two options.\n",
        "\n",
        "Some examples of where A/B testing would be used would be:\n",
        "\n",
        "*  Choosing between two landing pages of a website to determine which one has optimal conversion\n",
        "*  Choosing between two colors of purchase button on a website for optimal purchases\n",
        "\n",
        "A simple sample A/B test calculator is shown here: https://s3.amazonaws.com/codecademy-content/courses/learn-hypothesis-testing/a_b_sample_size/index.html\n"
      ]
    },
    {
      "cell_type": "markdown",
      "metadata": {
        "id": "2PinU0fbDuCM",
        "colab_type": "text"
      },
      "source": [
        "# 2. Power Analysis - How to Calculate the Minimum Sample Size Required Manually\n",
        "\n",
        "\n",
        "\n"
      ]
    },
    {
      "cell_type": "markdown",
      "metadata": {
        "id": "syh7Ogl6tBGe",
        "colab_type": "text"
      },
      "source": [
        "## Description\n",
        "\n",
        "Power Analysis is an important aspect of experimental design for A/B tests as this allows us to determine the minimum required sample size to detect an effect of a given size at the desired level of significance. \n",
        "\n",
        "For the power analysis to be conducted, we need to set some statistical values:\n",
        "\n",
        "*   statistical significance level ($\\alpha$)\n",
        "*   power level\n",
        "\n",
        "The statistical significance level is the probability of rejecting the null hypothesis when it is true (no difference exists).\n",
        "\n",
        "The power level is the probability of rejecting the null hypothesis when it is false.\n",
        "\n",
        "There is another value called beta ($\\beta$) which is the probability of accepting the null hypothesis when it is false. (power = 1- $\\beta$)\n",
        "\n",
        "For the purposes of this notebook we are going to assume what are generally some industry accepted standards, we will set the $\\alpha$ level at 0.05 (5%) and the power level at 0.80 (80%), therefore $\\beta$ will be 0.20 (20%)"
      ]
    },
    {
      "cell_type": "markdown",
      "metadata": {
        "id": "QYrhJI0NuWFU",
        "colab_type": "text"
      },
      "source": [
        "## Calculating Minimum Sample Size Manually\n",
        "\n",
        "Using a number of online A/B Test Sample Size calculators yields a variation of results in the minimum sample size that is required per variant to be confident in the results.\n",
        "\n",
        "One such formula for calculating the sample size here but in practical reality many different companies and variations exist for calculating the sample size.\n",
        "\n",
        "$n= (p_1(1-p_1)) + (p_2(1-p_2)) * (\\frac{Z_\\text{power} + Z_\\text{1-alpha}}{p_1 - p_2})^2$\n",
        "\n",
        "\n",
        "\n",
        "*   p1 - current conversion rate\n",
        "*   p2 - current conversion late + desired lift\n",
        "*   Z is the critical value (or z-score) derived from the standard normal distribution\n",
        "    *   $Z_\\text{power}$\n",
        "    *  $Z_\\text{1-alpha}$\n",
        "    \n",
        " \n",
        "\n"
      ]
    },
    {
      "cell_type": "markdown",
      "metadata": {
        "id": "ESgMpaySslOn",
        "colab_type": "text"
      },
      "source": [
        "## Example One\n",
        "\n",
        "Let's say that we have a current baseline conversion rate of 10% and we want to be able to test a 50% increase in conversion. \n",
        "\n",
        "Assuming our signicance level is set at 5% and the power is set to 80%, what would be the minimum sample size required to perform an A/B test?\n",
        "\n"
      ]
    },
    {
      "cell_type": "code",
      "metadata": {
        "id": "P1DypZg7tbBa",
        "colab_type": "code",
        "colab": {}
      },
      "source": [
        "from scipy.stats import norm\n",
        "p_1 = 0.10\n",
        "p_2 = 0.15\n",
        "p_1_ = 1-p_1\n",
        "p_2_ = 1-p_2\n",
        "alpha = 0.05\n",
        "power_level = 0.80\n",
        "z_power = norm.ppf(0.8)\n",
        "z_alpha = norm.ppf(0.95)"
      ],
      "execution_count": 0,
      "outputs": []
    },
    {
      "cell_type": "code",
      "metadata": {
        "id": "x2pFO3V6uXI4",
        "colab_type": "code",
        "outputId": "88f39314-4f6e-46d3-a387-cc5e5e9a1796",
        "colab": {
          "base_uri": "https://localhost:8080/",
          "height": 34
        }
      },
      "source": [
        "n = (p_1*p_1_+p_2*p_2_) * (((z_power + z_alpha)**2)/((p1 - p2)**2))\n",
        "print('Min Sample Size Required: {0:.3f} per variant'.format(n))"
      ],
      "execution_count": 0,
      "outputs": [
        {
          "output_type": "stream",
          "text": [
            "Min Sample Size Required: 537.882\n"
          ],
          "name": "stdout"
        }
      ]
    },
    {
      "cell_type": "markdown",
      "metadata": {
        "id": "pbjbUSebw68y",
        "colab_type": "text"
      },
      "source": [
        "AS the min sample size required, comes out as 537.882, we would need a minimum sample size of 538 per variant."
      ]
    },
    {
      "cell_type": "markdown",
      "metadata": {
        "id": "nTx_U40qvtzr",
        "colab_type": "text"
      },
      "source": [
        "## Example Two\n",
        "\n",
        "Let's say that we have a current baseline conversion rate of 20% and we want to be able to test a 30% increase in conversion. \n",
        "\n",
        "Assuming our signicance level is set at 5% and the power is set to 80%, what would be the minimum sample size required to perform an A/B test per variant?"
      ]
    },
    {
      "cell_type": "code",
      "metadata": {
        "id": "tmJRmjNkwSbC",
        "colab_type": "code",
        "colab": {
          "base_uri": "https://localhost:8080/",
          "height": 50
        },
        "outputId": "c8b75c81-ea39-453e-bef3-5a1b9d69b6b9"
      },
      "source": [
        "from scipy.stats import norm\n",
        "p_1 = 0.20\n",
        "p_2 = 0.26\n",
        "p_1_ = 1-p_1\n",
        "p_2_ = 1-p_2\n",
        "alpha = 0.05\n",
        "power_level = 0.80\n",
        "z_power = norm.ppf(0.8)\n",
        "print('z_power: {0:.3f}'.format(z_power))\n",
        "z_alpha = norm.ppf(0.95)\n",
        "print('z_alpha: {0:.3f}'.format(z_alpha))"
      ],
      "execution_count": 4,
      "outputs": [
        {
          "output_type": "stream",
          "text": [
            "z_power: 0.842\n",
            "z_alpha: 1.645\n"
          ],
          "name": "stdout"
        }
      ]
    },
    {
      "cell_type": "markdown",
      "metadata": {
        "id": "oTtNrL6Oyz6W",
        "colab_type": "text"
      },
      "source": [
        "In addition to using the norm.ppf function, we can use the following z-table to find the values for 0.80 and 0.95: http://pages.stat.wisc.edu/~ifischer/Statistical_Tables/Z-distribution.pdf\n",
        "\n",
        "To do this we look for the values of 0.8 and 0.95 in the right column of the table and then find the corresponding z_score on the left column which is what we then put into the formula."
      ]
    },
    {
      "cell_type": "code",
      "metadata": {
        "id": "FLS_RpuIwjQL",
        "colab_type": "code",
        "colab": {
          "base_uri": "https://localhost:8080/",
          "height": 34
        },
        "outputId": "da3ad9bf-1536-4d63-d6ce-51f94855bcc1"
      },
      "source": [
        "n = (p_1*p_1_+p_2*p_2_) * (((z_power + z_alpha)**2)/((p_1 - p_2)**2))\n",
        "print('Min Sample Size Required: {0:.3f} per variant'.format(n))"
      ],
      "execution_count": 3,
      "outputs": [
        {
          "output_type": "stream",
          "text": [
            "Min Sample Size Required: 605.204 per variant\n"
          ],
          "name": "stdout"
        }
      ]
    },
    {
      "cell_type": "markdown",
      "metadata": {
        "id": "VvASNWNTwxNn",
        "colab_type": "text"
      },
      "source": [
        "As the min required sample size variant comes out as 605.204, this means we would need 606 samples per variant."
      ]
    },
    {
      "cell_type": "markdown",
      "metadata": {
        "id": "jSlA-GEDDuRS",
        "colab_type": "text"
      },
      "source": [
        "# 3. Practical Example using Simple Sample Size Calculator"
      ]
    },
    {
      "cell_type": "markdown",
      "metadata": {
        "id": "yDY_HMUSD4jg",
        "colab_type": "text"
      },
      "source": [
        "Using the sample size calculator, what would be the sample size required to be able to detect at least a 30% increase from a 20% baseline with 90% statistical significance?\n",
        "\n",
        "Print the result of the require sample size."
      ]
    },
    {
      "cell_type": "markdown",
      "metadata": {
        "id": "tBPdGipeEM-l",
        "colab_type": "text"
      },
      "source": [
        "Using the calculator noted above at: https://s3.amazonaws.com/codecademy-content/courses/learn-hypothesis-testing/a_b_sample_size/index.html  \n",
        "\n",
        "baseline conversion rate - 20%  \n",
        "minimumum detectable effect - 30%  (this is the uplift figure that we want to detect)\n",
        "statistical significance - 90%  \n",
        "\n",
        "Plugging these numbers into the sample size calculator we get a sample size returned of 760"
      ]
    }
  ]
}