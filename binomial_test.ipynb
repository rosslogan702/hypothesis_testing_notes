{
  "nbformat": 4,
  "nbformat_minor": 0,
  "metadata": {
    "colab": {
      "name": "binomial_test.ipynb",
      "provenance": [],
      "collapsed_sections": [],
      "include_colab_link": true
    },
    "kernelspec": {
      "name": "python3",
      "display_name": "Python 3"
    }
  },
  "cells": [
    {
      "cell_type": "markdown",
      "metadata": {
        "id": "view-in-github",
        "colab_type": "text"
      },
      "source": [
        "<a href=\"https://colab.research.google.com/github/rosslogan702/hypothesis_testing_notes/blob/master/binomial_test.ipynb\" target=\"_parent\"><img src=\"https://colab.research.google.com/assets/colab-badge.svg\" alt=\"Open In Colab\"/></a>"
      ]
    },
    {
      "cell_type": "markdown",
      "metadata": {
        "id": "q086udQo1EM_",
        "colab_type": "text"
      },
      "source": [
        "# Hypothesis Testing - Binomial Test"
      ]
    },
    {
      "cell_type": "markdown",
      "metadata": {
        "id": "YINe0D541LHT",
        "colab_type": "text"
      },
      "source": [
        "# Contents\n",
        "\n",
        "The focus of this notebook is the Binomial Test.\n",
        "\n",
        "The notebook will cover the following:\n",
        "\n",
        "\n",
        "\n",
        "1.   Description\n",
        "2.   Manual Calculation\n",
        "3.   Practical Examples using SciPy Library\n",
        "4. Assumptions"
      ]
    },
    {
      "cell_type": "markdown",
      "metadata": {
        "id": "4Z62tX131V4d",
        "colab_type": "text"
      },
      "source": [
        "# 1. Description\n",
        "\n",
        "A binomial test compares a categorical dataset to some expectation.\n",
        "\n",
        "Examples of where a Binomial Test would be used could:\n",
        "\n",
        "\n",
        "\n",
        "*   Comparing the number of market emails opened by users to some target value\n",
        "*   Comparing the number of tails from 100 coin flips to the expected number of tails from 100 flips  \n",
        "\n",
        "\n",
        "The null hypothesis of a binomial test is that there is no difference between the observed behaviour and the expected behaviour.  \n",
        "\n",
        "If we get a statistically significant result however we determine that there is a difference between the observed behaviour and the expected behaviour.\n",
        "\n"
      ]
    },
    {
      "cell_type": "markdown",
      "metadata": {
        "id": "OmLfhAxu3ZYr",
        "colab_type": "text"
      },
      "source": [
        "# 2. Manual Calculation"
      ]
    },
    {
      "cell_type": "markdown",
      "metadata": {
        "id": "kcUuD4eR3SY3",
        "colab_type": "text"
      },
      "source": [
        "For the manual calculation example, we are going to use one of the examples also in the practical examples which is the probability of a boy aged 1-3 selecting a blue cube when presented with both a blue and pink cube."
      ]
    },
    {
      "cell_type": "markdown",
      "metadata": {
        "id": "dD8l5VWe3ckE",
        "colab_type": "text"
      },
      "source": [
        "## Problem Statement - Hypothesis Test"
      ]
    },
    {
      "cell_type": "markdown",
      "metadata": {
        "id": "CxoAtfu-3kFG",
        "colab_type": "text"
      },
      "source": [
        "A researcher is reading a paper on colour preference of 1-3 year olds.\n",
        "\n",
        "The paper states that when presented with identical blue and pink cubes, boys are more likely to select the blue cube than the pink cube.\n",
        "\n",
        "In fact, the paper claims that if a 1-3 year old boy is chosen at random and asked to pick a cube, the probability of them choosing the blue cube is 𝑝 = 0.8.\n",
        "\n",
        "The researcher reading the paper has doubts about this claim, as they believe that boys of this age are equally likely to pick either cube.\n",
        "\n",
        "To test the claim, they present 10 randomly sampled 1-3 year old boys with a blue and pink cube and record the choices.\n",
        "\n",
        "Out of the 10 boys sampled, 3 of them chose the blue cube.\n",
        "\n",
        "Use a binomial hypothesis test at the 5% significance level to see if the researcher has found evidence against the claims of the paper."
      ]
    },
    {
      "cell_type": "markdown",
      "metadata": {
        "id": "hFjGcNW5aa6d",
        "colab_type": "text"
      },
      "source": [
        "## Step 1 - Define Null & Alternative Hypothesis\n",
        "\n",
        "$H_0$: The probability of a boy selected at random choosing a blue cube = 0.8\n",
        "\n",
        "\n",
        "$H_A$: The probability of a boy selected at random choosing a blue cube is < 0.8\n",
        "\n",
        "Running at a significance level of 0.05"
      ]
    },
    {
      "cell_type": "markdown",
      "metadata": {
        "id": "FCE3JTsx3xZC",
        "colab_type": "text"
      },
      "source": [
        "## Step 2 - Formula\n",
        "\n",
        "We need to figure out what is the probability of observing the apparent effect (3 out of 10 boys sampled choose the blue cube) or more extreme results given the null hypothesis is true."
      ]
    },
    {
      "cell_type": "markdown",
      "metadata": {
        "id": "vPwjyshH30T8",
        "colab_type": "text"
      },
      "source": [
        "$P(B{\\leq}k)= \\frac{n!}{(n-k)!k!} * (p)^k * (1-p)^\\text{(n-k)}$"
      ]
    },
    {
      "cell_type": "code",
      "metadata": {
        "id": "LfVNQsdV4WIp",
        "colab_type": "code",
        "colab": {}
      },
      "source": [
        "import math\n",
        "#p = hypothesised prob of success = 0.8, k = observed success, n = number of trials\n",
        "# We have K = 0, 1, 2, 3 in this case as we need to find the prob of observations of 3 or less for the hypothesis test\n",
        "p = 0.8\n",
        "K = [0, 1, 2, 3]\n",
        "n = 10"
      ],
      "execution_count": 0,
      "outputs": []
    },
    {
      "cell_type": "code",
      "metadata": {
        "id": "oEBHJPMlcpef",
        "colab_type": "code",
        "colab": {}
      },
      "source": [
        "def binomial_formula(num_trials = 0, num_successes=0, prob_success=0):\n",
        "  factorial_calc = math.factorial(num_trials)/(math.factorial(num_trials - num_successes)* math.factorial(num_successes))\n",
        "  p_k = prob_success**num_successes\n",
        "  q_n_k = (1-prob_success)**(num_trials - num_successes)\n",
        "  result = factorial_calc * p_k * q_n_k\n",
        "  return result"
      ],
      "execution_count": 0,
      "outputs": []
    },
    {
      "cell_type": "code",
      "metadata": {
        "id": "Gyv7hMAyeQ4A",
        "colab_type": "code",
        "outputId": "d2c05d75-c6e8-4d80-c797-3e2483d683a5",
        "colab": {
          "base_uri": "https://localhost:8080/",
          "height": 34
        }
      },
      "source": [
        "p_val = 0\n",
        "for k in K:\n",
        "  p_val += binomial_formula(num_trials=n, num_successes=k, prob_success=p)\n",
        "print('P-Val: {0:.4f}'.format(p_val))"
      ],
      "execution_count": 6,
      "outputs": [
        {
          "output_type": "stream",
          "text": [
            "P-Val: 0.0009\n"
          ],
          "name": "stdout"
        }
      ]
    },
    {
      "cell_type": "markdown",
      "metadata": {
        "id": "gvNS7Iq-f9Is",
        "colab_type": "text"
      },
      "source": [
        "## Step 3 - Analyse Results"
      ]
    },
    {
      "cell_type": "code",
      "metadata": {
        "id": "5gpsH3Lgg_qW",
        "colab_type": "code",
        "outputId": "15d9c2b0-b42f-4522-d437-51b0151cc23d",
        "colab": {
          "base_uri": "https://localhost:8080/",
          "height": 34
        }
      },
      "source": [
        "if p_val < 0.05:\n",
        "  print('Result is statistically significant!')\n",
        "else:\n",
        "  print('Result is not statistically significant')"
      ],
      "execution_count": 7,
      "outputs": [
        {
          "output_type": "stream",
          "text": [
            "Result is statistically significant!\n"
          ],
          "name": "stdout"
        }
      ]
    },
    {
      "cell_type": "markdown",
      "metadata": {
        "id": "eJ1WR4KMqeo_",
        "colab_type": "text"
      },
      "source": [
        "In this case the result that we obtained is statistically significant and we would say that the researcher has found evidence against the claims of the paper."
      ]
    },
    {
      "cell_type": "markdown",
      "metadata": {
        "id": "mQIo_TCo3b2e",
        "colab_type": "text"
      },
      "source": [
        "# 3. Practical Examples using Scipy Library"
      ]
    },
    {
      "cell_type": "markdown",
      "metadata": {
        "id": "WmlFNGa93lmP",
        "colab_type": "text"
      },
      "source": [
        "To perform the binomial test we are going to use the Scipy library: https://docs.scipy.org/doc/scipy-0.14.0/reference/generated/scipy.stats.binom_test.html\n",
        "\n",
        "The binomial test function has three inputs that are required which are: \n",
        "\n",
        "\n",
        "\n",
        "*   the number of observed successes\n",
        "*   the number of total trials\n",
        "*   the expected probability of success  \n",
        "\n",
        "The function returns a p-val which tells us how confident we can be that the sample of values was likely to occur with specifided probability.  \n",
        "\n",
        "pval = binom_test(num_observed_successes, num_trials, expected_prob_success)\n",
        "\n"
      ]
    },
    {
      "cell_type": "markdown",
      "metadata": {
        "id": "RG3XMVpc42dp",
        "colab_type": "text"
      },
      "source": [
        "## Example 1 - Marketing Email Open"
      ]
    },
    {
      "cell_type": "markdown",
      "metadata": {
        "id": "Gr6wHJHZ66C-",
        "colab_type": "text"
      },
      "source": [
        "A marketing team for a new video streaming service are testing out new emails they are sending for recommendations for what to watch on their website. The goal from the marketing team was to have 6% of customers that the email was sent to, to open the email.  \n",
        "\n",
        "The email was sent out to 10,000 customers and the results were that 510 people opened the email. Were the results significantly worse than the target?"
      ]
    },
    {
      "cell_type": "markdown",
      "metadata": {
        "id": "z6VB6HgXroeu",
        "colab_type": "text"
      },
      "source": [
        "### Step 1 - Define Null and Alternative Hypothesis"
      ]
    },
    {
      "cell_type": "markdown",
      "metadata": {
        "id": "oMcliA38rnf5",
        "colab_type": "text"
      },
      "source": [
        "$H_0$: Open rate of emails is 0.06 (6%)\n",
        "\n",
        "\n",
        "$H_A$: Open rate of emails is < 0.06 (6%)\n",
        "\n",
        "Hypothesis test will be run at a significance level of 0.05"
      ]
    },
    {
      "cell_type": "code",
      "metadata": {
        "id": "C-KJu2at7b6s",
        "colab_type": "code",
        "colab": {}
      },
      "source": [
        "from scipy.stats import binom_test"
      ],
      "execution_count": 0,
      "outputs": []
    },
    {
      "cell_type": "markdown",
      "metadata": {
        "id": "s6XqiMrn79qV",
        "colab_type": "text"
      },
      "source": [
        "### Step 1- Collect Data\n",
        "\n",
        "To run the binomial test we need to collect the following data from the question:\n",
        "\n",
        "*   number of observed successes\n",
        "*   number of total trials\n",
        "*   expected probability of success\n",
        "\n"
      ]
    },
    {
      "cell_type": "code",
      "metadata": {
        "id": "4KNc96KC8J2e",
        "colab_type": "code",
        "colab": {}
      },
      "source": [
        "num_obv_successes = 510\n",
        "num_total_trials = 10000\n",
        "expected_prob_success = 0.06"
      ],
      "execution_count": 0,
      "outputs": []
    },
    {
      "cell_type": "markdown",
      "metadata": {
        "id": "JaHw1I9l8ceo",
        "colab_type": "text"
      },
      "source": [
        "### Step 2 - Run Binomial Test"
      ]
    },
    {
      "cell_type": "code",
      "metadata": {
        "id": "yq-K0gNu7j2i",
        "colab_type": "code",
        "outputId": "e94c761d-3792-4c8d-ef1a-53b9abc9409f",
        "colab": {
          "base_uri": "https://localhost:8080/",
          "height": 34
        }
      },
      "source": [
        "p_val = binom_test(num_obv_successes, n=num_total_trials, p=expected_prob_success, alternative='two-sided')\n",
        "print('p-val: {:.6f}'.format(p_val))"
      ],
      "execution_count": 10,
      "outputs": [
        {
          "output_type": "stream",
          "text": [
            "p-val: 0.000116\n"
          ],
          "name": "stdout"
        }
      ]
    },
    {
      "cell_type": "markdown",
      "metadata": {
        "id": "qyFE0ojf8tUU",
        "colab_type": "text"
      },
      "source": [
        "### Step 3 - Analyse Results"
      ]
    },
    {
      "cell_type": "code",
      "metadata": {
        "id": "Rn5_mpBh8y7a",
        "colab_type": "code",
        "outputId": "f1c54635-27f0-4b0a-cc9f-285d2a9f0bff",
        "colab": {
          "base_uri": "https://localhost:8080/",
          "height": 34
        }
      },
      "source": [
        "if p_val < 0.05:\n",
        "  print('Result is statistically significant!')\n",
        "else:\n",
        "  print('Result is not statistically significant')"
      ],
      "execution_count": 11,
      "outputs": [
        {
          "output_type": "stream",
          "text": [
            "Result is statistically significant!\n"
          ],
          "name": "stdout"
        }
      ]
    },
    {
      "cell_type": "markdown",
      "metadata": {
        "id": "gbTzDSH1-B_A",
        "colab_type": "text"
      },
      "source": [
        "The open rate for emais is significantly worse than the targeted 6%."
      ]
    },
    {
      "cell_type": "markdown",
      "metadata": {
        "id": "Outqb6v_9NST",
        "colab_type": "text"
      },
      "source": [
        "## Example 2 - Marketing Email Open Cont.\n",
        "\n",
        "As part of a new test that the marketing team are trialing, they are now sending out the emails with Emoji's in the subject and they want to determine the results of this. They are still interested in the open rate of emails being 6%.  \n",
        "\n",
        "After collecting the results they notice that from the 10,000 emails sent, 590 people opened the email.  \n",
        "\n",
        "Is this still a significantly worse result than 6%?"
      ]
    },
    {
      "cell_type": "markdown",
      "metadata": {
        "id": "klSMlMyvrAXL",
        "colab_type": "text"
      },
      "source": [
        "### Step 1 - Define Null and Alternative Hypothesis"
      ]
    },
    {
      "cell_type": "markdown",
      "metadata": {
        "id": "TFCvm3dArAZV",
        "colab_type": "text"
      },
      "source": [
        "$H_0$: Open rate of emails is 0.06 (6%)\n",
        "\n",
        "\n",
        "$H_A$: Open rate of emails is < 0.06 (6%)\n",
        "\n",
        "Hypothesis test will be run at a significance level of 0.05"
      ]
    },
    {
      "cell_type": "markdown",
      "metadata": {
        "id": "2i64KeRh9uma",
        "colab_type": "text"
      },
      "source": [
        "### Step 2 - Collect Data"
      ]
    },
    {
      "cell_type": "code",
      "metadata": {
        "id": "U8fLf6we9slM",
        "colab_type": "code",
        "colab": {}
      },
      "source": [
        "num_obv_successes = 590\n",
        "num_total_trials = 10000\n",
        "expected_prob_success = 0.06"
      ],
      "execution_count": 0,
      "outputs": []
    },
    {
      "cell_type": "markdown",
      "metadata": {
        "id": "oS5RMRuk90A9",
        "colab_type": "text"
      },
      "source": [
        "### Step 3 - Run Binomial Test"
      ]
    },
    {
      "cell_type": "code",
      "metadata": {
        "id": "Nfl9jXqP93PR",
        "colab_type": "code",
        "outputId": "a11cf403-58d1-42e6-86e4-c1d9a2a943ef",
        "colab": {
          "base_uri": "https://localhost:8080/",
          "height": 34
        }
      },
      "source": [
        "p_val = binom_test(num_obv_successes, n=num_total_trials, p=expected_prob_success)\n",
        "print('p-val: {:.6f}'.format(p_val))"
      ],
      "execution_count": 13,
      "outputs": [
        {
          "output_type": "stream",
          "text": [
            "p-val: 0.689153\n"
          ],
          "name": "stdout"
        }
      ]
    },
    {
      "cell_type": "markdown",
      "metadata": {
        "id": "vADEB_9I96qV",
        "colab_type": "text"
      },
      "source": [
        "### Step 4 - Analyse Results"
      ]
    },
    {
      "cell_type": "code",
      "metadata": {
        "id": "sIWue3mb9__C",
        "colab_type": "code",
        "outputId": "c6ee92c2-dade-43de-81db-f71b6e39cc18",
        "colab": {
          "base_uri": "https://localhost:8080/",
          "height": 34
        }
      },
      "source": [
        "if p_val < 0.05:\n",
        "  print('Result is statistically significant!')\n",
        "else:\n",
        "  print('Result is not statistically significant')"
      ],
      "execution_count": 14,
      "outputs": [
        {
          "output_type": "stream",
          "text": [
            "Result is not statistically significant\n"
          ],
          "name": "stdout"
        }
      ]
    },
    {
      "cell_type": "markdown",
      "metadata": {
        "id": "PazhWrXi-IKI",
        "colab_type": "text"
      },
      "source": [
        "The open rate for emails with emojis in the subject is not significantly worse than the 6% target."
      ]
    },
    {
      "cell_type": "markdown",
      "metadata": {
        "id": "fIRSowIQt3JG",
        "colab_type": "text"
      },
      "source": [
        "## Example 3"
      ]
    },
    {
      "cell_type": "markdown",
      "metadata": {
        "id": "BX4bpmdI1g4k",
        "colab_type": "text"
      },
      "source": [
        "A researcher is reading a paper on colour preference of 1-3 year olds. \n",
        "\n",
        "The paper states\n",
        "that when presented with identical blue and pink cubes, boys are more likely to select\n",
        "the blue cube than the pink cube. \n",
        "\n",
        "In fact, the paper claims that if a 1-3 year old boy is\n",
        "chosen at random and asked to pick a cube, the probability of them choosing the blue\n",
        "cube is 𝑝 = 0.8. \n",
        "\n",
        "The researcher reading the paper has doubts about this claim, as they\n",
        "believe that boys of this age are equally likely to pick either cube. \n",
        "\n",
        "To test the claim, they\n",
        "present 10 randomly sampled 1-3 year old boys with a blue and pink cube and record\n",
        "the choices. \n",
        "\n",
        "Out of the 10 boys sampled, 3 of them chose the blue cube. \n",
        "\n",
        "Use a binomial\n",
        "hypothesis test at the 5% significance level to see if the researcher has found evidence\n",
        "against the claims of the paper. "
      ]
    },
    {
      "cell_type": "markdown",
      "metadata": {
        "id": "-1GozoO1qwEk",
        "colab_type": "text"
      },
      "source": [
        "### Step 1 - Define Null and Alternative Hypothesis"
      ]
    },
    {
      "cell_type": "markdown",
      "metadata": {
        "id": "hoUGle5uqwfG",
        "colab_type": "text"
      },
      "source": [
        "$H_0$: The probability of a boy selected at random choosing a blue cube = 0.8\n",
        "\n",
        "\n",
        "$H_A$: The probability of a boy selected at random choosing a blue cube is < 0.8\n",
        "\n",
        "Running at a significance level of 0.05"
      ]
    },
    {
      "cell_type": "markdown",
      "metadata": {
        "id": "TYNyCh9J1yK6",
        "colab_type": "text"
      },
      "source": [
        "### Step 2 - Collect Data"
      ]
    },
    {
      "cell_type": "code",
      "metadata": {
        "id": "4tWvONBD1ia2",
        "colab_type": "code",
        "colab": {}
      },
      "source": [
        "num_obv_successes = 3\n",
        "num_total_trials = 10\n",
        "expected_prob_success = 0.8"
      ],
      "execution_count": 0,
      "outputs": []
    },
    {
      "cell_type": "markdown",
      "metadata": {
        "id": "L4JPlb0X2Bcw",
        "colab_type": "text"
      },
      "source": [
        "### Step 3 - Run Binomial Test"
      ]
    },
    {
      "cell_type": "code",
      "metadata": {
        "id": "53Lu3foB15CU",
        "colab_type": "code",
        "outputId": "b9c15d83-aa9e-47e7-9d5d-c3c0fb23e329",
        "colab": {
          "base_uri": "https://localhost:8080/",
          "height": 34
        }
      },
      "source": [
        "p_val = binom_test(num_obv_successes, n=num_total_trials, p=expected_prob_success, alternative='two-sided')\n",
        "print('p_val: {0:.6f}'.format(p_val))"
      ],
      "execution_count": 16,
      "outputs": [
        {
          "output_type": "stream",
          "text": [
            "p_val: 0.000864\n"
          ],
          "name": "stdout"
        }
      ]
    },
    {
      "cell_type": "markdown",
      "metadata": {
        "id": "RTDRh3sR2wuk",
        "colab_type": "text"
      },
      "source": [
        "### Step 4 - Analyse Results"
      ]
    },
    {
      "cell_type": "code",
      "metadata": {
        "id": "s4LVGDXe2tWD",
        "colab_type": "code",
        "outputId": "3eb6980c-9855-4be8-af73-0f9c5741b4e4",
        "colab": {
          "base_uri": "https://localhost:8080/",
          "height": 34
        }
      },
      "source": [
        "if p_val < 0.05:\n",
        "  print('Result is statistically significant!')\n",
        "else:\n",
        "  print('Result is not statistically significant')"
      ],
      "execution_count": 17,
      "outputs": [
        {
          "output_type": "stream",
          "text": [
            "Result is statistically significant!\n"
          ],
          "name": "stdout"
        }
      ]
    }
  ]
}